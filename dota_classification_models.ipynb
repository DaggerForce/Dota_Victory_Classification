{
 "cells": [
  {
   "cell_type": "code",
   "execution_count": 21,
   "metadata": {},
   "outputs": [],
   "source": [
    "from tqdm import tqdm\n",
    "import numpy as np\n",
    "import pandas as pd\n",
    "import seaborn as sns\n",
    "import matplotlib.pyplot as plt\n",
    "%matplotlib inline\n",
    "plt.style.use('ggplot')\n",
    "\n",
    "from matplotlib import rcParams\n",
    "rcParams.update({'figure.autolayout': True})\n",
    "\n",
    "import itertools\n",
    "import helper_functions as hlf\n",
    "from sklearn.preprocessing import StandardScaler\n",
    "from scipy.stats import randint\n",
    "from sklearn.metrics import recall_score, accuracy_score, roc_curve, auc, confusion_matrix, f1_score\n",
    "from sklearn.model_selection import train_test_split, GridSearchCV, RandomizedSearchCV"
   ]
  },
  {
   "cell_type": "code",
   "execution_count": 22,
   "metadata": {},
   "outputs": [
    {
     "data": {
      "text/html": [
       "<div>\n",
       "<style scoped>\n",
       "    .dataframe tbody tr th:only-of-type {\n",
       "        vertical-align: middle;\n",
       "    }\n",
       "\n",
       "    .dataframe tbody tr th {\n",
       "        vertical-align: top;\n",
       "    }\n",
       "\n",
       "    .dataframe thead th {\n",
       "        text-align: right;\n",
       "    }\n",
       "</style>\n",
       "<table border=\"1\" class=\"dataframe\">\n",
       "  <thead>\n",
       "    <tr style=\"text-align: right;\">\n",
       "      <th></th>\n",
       "      <th>Riki</th>\n",
       "      <th>Razor</th>\n",
       "      <th>Morphling</th>\n",
       "      <th>Brewmaster</th>\n",
       "      <th>Slardar</th>\n",
       "      <th>Wisp</th>\n",
       "      <th>Omniknight</th>\n",
       "      <th>Slark</th>\n",
       "      <th>Ogre Magi</th>\n",
       "      <th>Chaos Knight</th>\n",
       "      <th>...</th>\n",
       "      <th>Support</th>\n",
       "      <th>Offlane</th>\n",
       "      <th>Mid</th>\n",
       "      <th>Roamer</th>\n",
       "      <th>Nuke/Disable</th>\n",
       "      <th>High_Win</th>\n",
       "      <th>Low_Win</th>\n",
       "      <th>Most_Picked_719</th>\n",
       "      <th>Most_Picked_720</th>\n",
       "      <th>Won</th>\n",
       "    </tr>\n",
       "  </thead>\n",
       "  <tbody>\n",
       "    <tr>\n",
       "      <td>0</td>\n",
       "      <td>5.253443</td>\n",
       "      <td>-0.155243</td>\n",
       "      <td>-0.186940</td>\n",
       "      <td>-0.181034</td>\n",
       "      <td>-0.187513</td>\n",
       "      <td>-0.21094</td>\n",
       "      <td>-0.183669</td>\n",
       "      <td>-0.245093</td>\n",
       "      <td>-0.197112</td>\n",
       "      <td>-0.211026</td>\n",
       "      <td>...</td>\n",
       "      <td>-0.493732</td>\n",
       "      <td>1.007526</td>\n",
       "      <td>1.261730</td>\n",
       "      <td>0.157217</td>\n",
       "      <td>3.185349</td>\n",
       "      <td>0.474901</td>\n",
       "      <td>-0.814275</td>\n",
       "      <td>-0.678438</td>\n",
       "      <td>-0.650247</td>\n",
       "      <td>1</td>\n",
       "    </tr>\n",
       "    <tr>\n",
       "      <td>1</td>\n",
       "      <td>5.253443</td>\n",
       "      <td>-0.155243</td>\n",
       "      <td>-0.186940</td>\n",
       "      <td>-0.181034</td>\n",
       "      <td>-0.187513</td>\n",
       "      <td>-0.21094</td>\n",
       "      <td>-0.183669</td>\n",
       "      <td>-0.245093</td>\n",
       "      <td>-0.197112</td>\n",
       "      <td>-0.211026</td>\n",
       "      <td>...</td>\n",
       "      <td>-0.493732</td>\n",
       "      <td>1.007526</td>\n",
       "      <td>0.266544</td>\n",
       "      <td>0.157217</td>\n",
       "      <td>-0.254635</td>\n",
       "      <td>0.474901</td>\n",
       "      <td>0.667752</td>\n",
       "      <td>-0.678438</td>\n",
       "      <td>1.141562</td>\n",
       "      <td>1</td>\n",
       "    </tr>\n",
       "    <tr>\n",
       "      <td>2</td>\n",
       "      <td>-0.190351</td>\n",
       "      <td>6.441500</td>\n",
       "      <td>-0.186940</td>\n",
       "      <td>-0.181034</td>\n",
       "      <td>-0.187513</td>\n",
       "      <td>-0.21094</td>\n",
       "      <td>-0.183669</td>\n",
       "      <td>-0.245093</td>\n",
       "      <td>-0.197112</td>\n",
       "      <td>-0.211026</td>\n",
       "      <td>...</td>\n",
       "      <td>-1.621490</td>\n",
       "      <td>-1.304373</td>\n",
       "      <td>0.266544</td>\n",
       "      <td>-1.058379</td>\n",
       "      <td>0.892026</td>\n",
       "      <td>1.805530</td>\n",
       "      <td>-0.814275</td>\n",
       "      <td>-0.678438</td>\n",
       "      <td>-0.650247</td>\n",
       "      <td>1</td>\n",
       "    </tr>\n",
       "    <tr>\n",
       "      <td>3</td>\n",
       "      <td>-0.190351</td>\n",
       "      <td>6.441500</td>\n",
       "      <td>5.349299</td>\n",
       "      <td>-0.181034</td>\n",
       "      <td>-0.187513</td>\n",
       "      <td>-0.21094</td>\n",
       "      <td>5.444586</td>\n",
       "      <td>-0.245093</td>\n",
       "      <td>-0.197112</td>\n",
       "      <td>-0.211026</td>\n",
       "      <td>...</td>\n",
       "      <td>0.634025</td>\n",
       "      <td>-1.304373</td>\n",
       "      <td>-0.728642</td>\n",
       "      <td>0.157217</td>\n",
       "      <td>0.892026</td>\n",
       "      <td>-0.855727</td>\n",
       "      <td>0.667752</td>\n",
       "      <td>-0.678438</td>\n",
       "      <td>-0.650247</td>\n",
       "      <td>1</td>\n",
       "    </tr>\n",
       "    <tr>\n",
       "      <td>4</td>\n",
       "      <td>5.253443</td>\n",
       "      <td>-0.155243</td>\n",
       "      <td>-0.186940</td>\n",
       "      <td>5.523822</td>\n",
       "      <td>-0.187513</td>\n",
       "      <td>-0.21094</td>\n",
       "      <td>-0.183669</td>\n",
       "      <td>-0.245093</td>\n",
       "      <td>5.073260</td>\n",
       "      <td>-0.211026</td>\n",
       "      <td>...</td>\n",
       "      <td>-0.493732</td>\n",
       "      <td>-0.148424</td>\n",
       "      <td>-0.728642</td>\n",
       "      <td>0.157217</td>\n",
       "      <td>0.892026</td>\n",
       "      <td>-0.855727</td>\n",
       "      <td>-0.814275</td>\n",
       "      <td>-0.678438</td>\n",
       "      <td>1.141562</td>\n",
       "      <td>1</td>\n",
       "    </tr>\n",
       "  </tbody>\n",
       "</table>\n",
       "<p>5 rows × 114 columns</p>\n",
       "</div>"
      ],
      "text/plain": [
       "       Riki     Razor  Morphling  Brewmaster   Slardar     Wisp  Omniknight  \\\n",
       "0  5.253443 -0.155243  -0.186940   -0.181034 -0.187513 -0.21094   -0.183669   \n",
       "1  5.253443 -0.155243  -0.186940   -0.181034 -0.187513 -0.21094   -0.183669   \n",
       "2 -0.190351  6.441500  -0.186940   -0.181034 -0.187513 -0.21094   -0.183669   \n",
       "3 -0.190351  6.441500   5.349299   -0.181034 -0.187513 -0.21094    5.444586   \n",
       "4  5.253443 -0.155243  -0.186940    5.523822 -0.187513 -0.21094   -0.183669   \n",
       "\n",
       "      Slark  Ogre Magi  Chaos Knight  ...   Support   Offlane       Mid  \\\n",
       "0 -0.245093  -0.197112     -0.211026  ... -0.493732  1.007526  1.261730   \n",
       "1 -0.245093  -0.197112     -0.211026  ... -0.493732  1.007526  0.266544   \n",
       "2 -0.245093  -0.197112     -0.211026  ... -1.621490 -1.304373  0.266544   \n",
       "3 -0.245093  -0.197112     -0.211026  ...  0.634025 -1.304373 -0.728642   \n",
       "4 -0.245093   5.073260     -0.211026  ... -0.493732 -0.148424 -0.728642   \n",
       "\n",
       "     Roamer  Nuke/Disable  High_Win   Low_Win  Most_Picked_719  \\\n",
       "0  0.157217      3.185349  0.474901 -0.814275        -0.678438   \n",
       "1  0.157217     -0.254635  0.474901  0.667752        -0.678438   \n",
       "2 -1.058379      0.892026  1.805530 -0.814275        -0.678438   \n",
       "3  0.157217      0.892026 -0.855727  0.667752        -0.678438   \n",
       "4  0.157217      0.892026 -0.855727 -0.814275        -0.678438   \n",
       "\n",
       "   Most_Picked_720  Won  \n",
       "0        -0.650247    1  \n",
       "1         1.141562    1  \n",
       "2        -0.650247    1  \n",
       "3        -0.650247    1  \n",
       "4         1.141562    1  \n",
       "\n",
       "[5 rows x 114 columns]"
      ]
     },
     "execution_count": 22,
     "metadata": {},
     "output_type": "execute_result"
    }
   ],
   "source": [
    "# open the pre-processed csv file and split the target variable from the classifiers\n",
    "df = pd.read_csv('dota2_scaled.csv')\n",
    "df.head()"
   ]
  },
  {
   "cell_type": "code",
   "execution_count": 23,
   "metadata": {},
   "outputs": [],
   "source": [
    "#separate the target variable\n",
    "labels = df['Won']\n",
    "df.drop(['Won'], axis=1, inplace=True)\n",
    "# scaler = StandardScaler()\n",
    "# scaler.fit(df)\n",
    "# scaled_df = pd.DataFrame(scaler.transform(df), columns=df.columns)\n",
    "# scaled_df.head()"
   ]
  },
  {
   "cell_type": "code",
   "execution_count": 24,
   "metadata": {},
   "outputs": [],
   "source": [
    "# Create seprate training and testing sets\n",
    "x_train, x_test, y_train, y_test = train_test_split(scaled_df, labels, test_size=0.25)"
   ]
  },
  {
   "cell_type": "markdown",
   "metadata": {},
   "source": [
    "#   KNN Model:"
   ]
  },
  {
   "cell_type": "code",
   "execution_count": 39,
   "metadata": {},
   "outputs": [
    {
     "name": "stdout",
     "output_type": "stream",
     "text": [
      "Recall Score: 54.71\n",
      "Accuracy Score: 52.6\n"
     ]
    }
   ],
   "source": [
    "from sklearn.neighbors import KNeighborsClassifier\n",
    "\n",
    "# run initial model with default values\n",
    "knn5 = KNeighborsClassifier()\n",
    "knn5.fit(x_train, y_train.values.ravel())\n",
    "\n",
    "knn_pred = knn5.predict(x_test)\n",
    "\n",
    "_, _ = hlf.print_metrics(y_test, knn_pred, print_score=True)"
   ]
  },
  {
   "cell_type": "code",
   "execution_count": null,
   "metadata": {},
   "outputs": [],
   "source": [
    "hlf.plot_confusion_matrix(y_test, knn_pred)\n",
    "# plt.savefig('knn_cm.png')"
   ]
  },
  {
   "cell_type": "code",
   "execution_count": null,
   "metadata": {},
   "outputs": [],
   "source": [
    "print(f\" F1 Score (neighbors = 5): {round(f1_score(y_test, knn_pred), 2)}\")"
   ]
  },
  {
   "cell_type": "markdown",
   "metadata": {},
   "source": [
    "## Initial KNN model performed poorly\n",
    "\n",
    "#### Recall Score:  52.45%\n",
    "\n",
    "#### Accuracy Score:  52.44%\n",
    "\n",
    "#### ROC AUC Score: 0.77"
   ]
  },
  {
   "cell_type": "code",
   "execution_count": null,
   "metadata": {},
   "outputs": [],
   "source": [
    "def multiple_knn(df, labels, ks=[5]):\n",
    "    x_train, x_test, y_train, y_test = train_test_split(df, labels, test_size=0.2)\n",
    "    best_acc = 0\n",
    "    best_k = 0\n",
    "    scores = []\n",
    "\n",
    "    for k in tqdm(ks):\n",
    "        knn = KNeighborsClassifier(n_neighbors=k)\n",
    "        knn.fit(x_train, y_train.values.ravel())\n",
    "        test_predict = knn.predict(x_test)\n",
    "        score = hlf.print_metrics(y_test, test_predict)\n",
    "        scores.append(score)\n",
    "        \n",
    "        if best_acc < score[1]:\n",
    "            best_acc = score[1]\n",
    "            best_k = k\n",
    "            \n",
    "        \n",
    "    return best_acc, best_k, scores"
   ]
  },
  {
   "cell_type": "code",
   "execution_count": null,
   "metadata": {},
   "outputs": [],
   "source": [
    "# run model again k = 2, 4, 5, 6, 7\n",
    "_, _, scores = multiple_knn(df, labels, ks=[2, 4, 5, 6, 7])\n",
    "print(f\"scores: {scores}, k: {k}\")"
   ]
  },
  {
   "cell_type": "code",
   "execution_count": null,
   "metadata": {},
   "outputs": [],
   "source": [
    "# running the model again k =  3, 5, 8, 9\n",
    "_, _, scores = multiple_knn(df, labels, ks=[3, 5, 8, 9])\n",
    "print(f\"scores: {scores}, k: {k}\")"
   ]
  },
  {
   "cell_type": "markdown",
   "metadata": {},
   "source": [
    "### Optimal neighbors = 9\n",
    "\n",
    "\n",
    "#### Recall - 52.98% \n",
    "\n",
    "#### Accuracy =  52.52%\n"
   ]
  },
  {
   "cell_type": "code",
   "execution_count": null,
   "metadata": {},
   "outputs": [],
   "source": [
    "# run KNN again with k neighbots \n",
    "knn = KNeighborsClassifier(n_neighbors=9)\n",
    "knn.fit(x_train, y_train.values.ravel())\n",
    "\n",
    "# predict\n",
    "k9_predict = knn.predict(x_test)\n",
    "\n",
    "# test how the model performed\n",
    "_, _ = hlf.print_metrics(y_test, k9_predict, print_score=True)\n",
    "\n",
    "# plot confusion matrix\n",
    "hlf.plot_confusion_matrix(y_test, k9_predict)\n",
    "plt.savefig('optimal_knn_cm.png')"
   ]
  },
  {
   "cell_type": "code",
   "execution_count": null,
   "metadata": {},
   "outputs": [],
   "source": [
    "hlf.plot_roc_curve(knn, x_test, y_test)\n",
    "plt.savefig('optimal_knn_roc.png')"
   ]
  },
  {
   "cell_type": "code",
   "execution_count": null,
   "metadata": {},
   "outputs": [],
   "source": [
    "print(f\" F1 Score (neighbors = 9): {round(f1_score(y_test, k9_predict), 2)}\")"
   ]
  },
  {
   "cell_type": "markdown",
   "metadata": {},
   "source": [
    "# Decision Trees"
   ]
  },
  {
   "cell_type": "code",
   "execution_count": 5,
   "metadata": {},
   "outputs": [
    {
     "name": "stderr",
     "output_type": "stream",
     "text": [
      "D:\\Programs\\Anaconda\\lib\\site-packages\\sklearn\\externals\\six.py:31: DeprecationWarning: The module is deprecated in version 0.21 and will be removed in version 0.23 since we've dropped support for Python 2.7. Please rely on the official version of six (https://pypi.org/project/six/).\n",
      "  \"(https://pypi.org/project/six/).\", DeprecationWarning)\n"
     ]
    }
   ],
   "source": [
    "from sklearn.tree import DecisionTreeClassifier \n",
    "from sklearn import tree \n",
    "from sklearn.externals.six import StringIO  \n",
    "from IPython.display import Image  \n",
    "from sklearn.tree import export_graphviz\n",
    "import pydotplus"
   ]
  },
  {
   "cell_type": "code",
   "execution_count": 26,
   "metadata": {},
   "outputs": [
    {
     "data": {
      "image/png": "[encoded data removed]",
      "text/plain": [
       "<Figure size 576x360 with 1 Axes>"
      ]
     },
     "metadata": {},
     "output_type": "display_data"
    }
   ],
   "source": [
    "# find the optimal depth to narrow down search and avoid over fitting\n",
    "hlf.find_optimal_depth(x_train, x_test, y_train, y_test)"
   ]
  },
  {
   "cell_type": "code",
   "execution_count": 17,
   "metadata": {},
   "outputs": [
    {
     "name": "stdout",
     "output_type": "stream",
     "text": [
      "Recall Score: 52.24\n",
      "Accuracy Score: 52.16\n"
     ]
    }
   ],
   "source": [
    "tree = DecisionTreeClassifier(random_state=10)  \n",
    "tree.fit(x_train, y_train)\n",
    "\n",
    "# predict\n",
    "tree_pred = tree.predict(x_test)\n",
    "\n",
    "# get prediction accuracy\n",
    "_, _ = hlf.print_metrics(y_test, tree_pred, print_score=True)"
   ]
  },
  {
   "cell_type": "code",
   "execution_count": 54,
   "metadata": {},
   "outputs": [
    {
     "name": "stderr",
     "output_type": "stream",
     "text": [
      "D:\\Programs\\Anaconda\\lib\\site-packages\\sklearn\\model_selection\\_split.py:1978: FutureWarning: The default value of cv will change from 3 to 5 in version 0.22. Specify it explicitly to silence this warning.\n",
      "  warnings.warn(CV_WARNING, FutureWarning)\n"
     ]
    },
    {
     "data": {
      "text/plain": [
       "RandomizedSearchCV(cv='warn', error_score='raise-deprecating',\n",
       "                   estimator=DecisionTreeClassifier(class_weight=None,\n",
       "                                                    criterion='gini',\n",
       "                                                    max_depth=None,\n",
       "                                                    max_features=None,\n",
       "                                                    max_leaf_nodes=None,\n",
       "                                                    min_impurity_decrease=0.0,\n",
       "                                                    min_impurity_split=None,\n",
       "                                                    min_samples_leaf=1,\n",
       "                                                    min_samples_split=2,\n",
       "                                                    min_weight_fraction_leaf=0.0,\n",
       "                                                    presort=False,\n",
       "                                                    random_state=None,\n",
       "                                                    splitter='best'),\n",
       "                   i...\n",
       "                                        'max_features': <scipy.stats._distn_infrastructure.rv_frozen object at 0x0000022F09267748>,\n",
       "                                        'min_samples_leaf': <scipy.stats._distn_infrastructure.rv_frozen object at 0x0000022F09464208>,\n",
       "                                        'min_samples_split': <scipy.stats._distn_infrastructure.rv_frozen object at 0x0000022F08D96D08>},\n",
       "                   pre_dispatch='2*n_jobs', random_state=None, refit=True,\n",
       "                   return_train_score=False, scoring=None, verbose=0)"
      ]
     },
     "execution_count": 54,
     "metadata": {},
     "output_type": "execute_result"
    }
   ],
   "source": [
    "# using random search to find the optimal hyper paramters\n",
    "tree_dist = {\"max_depth\": randint(9, 14),\n",
    "             \"max_features\": randint(1, 50),\n",
    "             \"min_samples_leaf\": randint(2, 1000),\n",
    "             \"min_samples_split\": randint(2, 1000),\n",
    "            }\n",
    "\n",
    "tree_clf = RandomizedSearchCV(DecisionTreeClassifier(), tree_dist, n_iter=1500)\n",
    "tree_clf.fit(x_train, y_train.values.ravel())"
   ]
  },
  {
   "cell_type": "code",
   "execution_count": 55,
   "metadata": {},
   "outputs": [
    {
     "name": "stdout",
     "output_type": "stream",
     "text": [
      "Recall Score: 78.11\n",
      "Accuracy Score: 54.39\n"
     ]
    }
   ],
   "source": [
    "# fit the optimal tree\n",
    "optimal_tree = tree_clf.best_estimator_\n",
    "optimal_tree.fit(x_train, y_train.values.ravel())\n",
    "# predict\n",
    "opt_tree_pred = optimal_tree.predict(x_test)\n",
    "\n",
    "# get prediction accuracy\n",
    "_, _ = hlf.print_metrics(y_test, opt_tree_pred, print_score=True)"
   ]
  },
  {
   "cell_type": "code",
   "execution_count": null,
   "metadata": {},
   "outputs": [],
   "source": [
    "hlf.plot_confusion_matrix(y_test, opt_tree_pred)"
   ]
  },
  {
   "cell_type": "code",
   "execution_count": 53,
   "metadata": {},
   "outputs": [
    {
     "data": {
      "image/png": "[encoded data removed]",
      "text/plain": [
       "<Figure size 1008x720 with 1 Axes>"
      ]
     },
     "metadata": {},
     "output_type": "display_data"
    }
   ],
   "source": [
    "hlf.plot_feature_importance(optimal_tree, x_test, n=98)"
   ]
  },
  {
   "cell_type": "code",
   "execution_count": 20,
   "metadata": {},
   "outputs": [
    {
     "ename": "NameError",
     "evalue": "name 'tree_clf' is not defined",
     "output_type": "error",
     "traceback": [
      "\u001b[1;31m---------------------------------------------------------------------------\u001b[0m",
      "\u001b[1;31mNameError\u001b[0m                                 Traceback (most recent call last)",
      "\u001b[1;32m<ipython-input-20-29c528fde274>\u001b[0m in \u001b[0;36m<module>\u001b[1;34m\u001b[0m\n\u001b[1;32m----> 1\u001b[1;33m \u001b[0mprint\u001b[0m\u001b[1;33m(\u001b[0m\u001b[1;34mf\"Best paramaters: {tree_clf.best_params_}\"\u001b[0m\u001b[1;33m)\u001b[0m\u001b[1;33m\u001b[0m\u001b[1;33m\u001b[0m\u001b[0m\n\u001b[0m",
      "\u001b[1;31mNameError\u001b[0m: name 'tree_clf' is not defined"
     ]
    }
   ],
   "source": [
    "print(f\"Best paramaters: {tree_clf.best_params_}\")"
   ]
  },
  {
   "cell_type": "markdown",
   "metadata": {},
   "source": [
    "### Optimal Parameters: {{'max_depth': 7, 'max_features': 12, 'min_samples_leaf': 234, 'min_samples_split': 9}}\n",
    "\n",
    "#### Recall - 50.05% \n",
    "\n",
    "#### Accuracy = 53.36%"
   ]
  },
  {
   "cell_type": "markdown",
   "metadata": {},
   "source": [
    "# Random Forest"
   ]
  },
  {
   "cell_type": "code",
   "execution_count": 30,
   "metadata": {},
   "outputs": [],
   "source": [
    "from sklearn.ensemble import RandomForestClassifier, AdaBoostClassifier"
   ]
  },
  {
   "cell_type": "code",
   "execution_count": null,
   "metadata": {},
   "outputs": [],
   "source": [
    "# get a baseline how random forest performs\n",
    "forest = RandomForestClassifier(random_state=123)\n",
    "forest.fit(x_train, y_train.values.ravel())\n",
    "\n",
    "# predcit\n",
    "forest_test_pred = forest.predict(x_test)\n",
    "\n",
    "# check prediction metrics\n",
    "f_recall, f_acc = hlf.print_metrics(y_test, forest_test_pred, print_score=True)"
   ]
  },
  {
   "cell_type": "markdown",
   "metadata": {},
   "source": [
    "### Random Forest using randon search"
   ]
  },
  {
   "cell_type": "code",
   "execution_count": null,
   "metadata": {},
   "outputs": [],
   "source": [
    "# using random search to find the optimal hyper paramters\n",
    "forest_dist = {\"max_depth\": randint(9, 14),\n",
    "               \"max_features\": randint(1, 16),\n",
    "               \"min_samples_leaf\": randint(2, 1000),\n",
    "               \"min_samples_split\": randint(2, 1000),\n",
    "              }\n",
    "\n",
    "forest_grid = RandomizedSearchCV(RandomForestClassifier(), forest_dist, n_iter=1500)\n",
    "forest_grid.fit(x_train, y_train.values.ravel())"
   ]
  },
  {
   "cell_type": "code",
   "execution_count": null,
   "metadata": {
    "scrolled": true
   },
   "outputs": [],
   "source": [
    "# fit the optimal random forest\n",
    "optimal_forest = forest_grid.best_estimator_\n",
    "optimal_forest.fit(x_train, y_train.values.ravel())\n",
    "\n",
    "# predict\n",
    "opt_forest_pred = optimal_forest.predict(x_test)\n",
    "\n",
    "# get prediction metrics\n",
    "_, _ = hlf.print_metrics(y_test, opt_forest_pred, print_score=True)\n",
    "print(f\"Random forest best paramaters: {forest_grid.best_params_}\")"
   ]
  },
  {
   "cell_type": "code",
   "execution_count": null,
   "metadata": {},
   "outputs": [],
   "source": [
    "hlf.plot_confusion_matrix(y_test, opt_forest_pred)"
   ]
  },
  {
   "cell_type": "code",
   "execution_count": null,
   "metadata": {},
   "outputs": [],
   "source": [
    "hlf.plot_feature_importance(optimal_forest, x_test)"
   ]
  },
  {
   "cell_type": "markdown",
   "metadata": {},
   "source": [
    "### Optimal Parameters: {'max_depth': 6, 'max_features': 15, 'min_samples_leaf': 149, 'min_samples_split': 331}\n",
    "\n",
    "#### Recall Score: 52.18%\n",
    "\n",
    "#### Accuracy Score: 56.19%"
   ]
  },
  {
   "cell_type": "markdown",
   "metadata": {},
   "source": [
    "# AdaBoost"
   ]
  },
  {
   "cell_type": "code",
   "execution_count": 50,
   "metadata": {},
   "outputs": [
    {
     "name": "stdout",
     "output_type": "stream",
     "text": [
      "Recall Score: 55.51\n",
      "Accuracy Score: 56.81\n"
     ]
    }
   ],
   "source": [
    "# get a baseline on how ada boost performs\n",
    "adaboost = AdaBoostClassifier()\n",
    "adaboost.fit(x_train, y_train.values.ravel())\n",
    "\n",
    "# predict\n",
    "adaboost_test_pred = adaboost.predict(x_test)\n",
    "\n",
    "# test how badly model performs \n",
    "_, _ = hlf.print_metrics(y_test, adaboost_test_pred, print_score=True)"
   ]
  },
  {
   "cell_type": "markdown",
   "metadata": {},
   "source": [
    "### AdaBoost Using Gridsearch"
   ]
  },
  {
   "cell_type": "code",
   "execution_count": null,
   "metadata": {},
   "outputs": [],
   "source": [
    "adaboost_param_grid = {'n_estimators': [70, 150, 200, 250, 270, 300],\n",
    "                       'learning_rate': [0.4, 0.2, 0.1]\n",
    "                      }\n",
    "\n",
    "#fit adaboost with a paramters grid\n",
    "ada_grid_search = GridSearchCV(adaboost, adaboost_param_grid, scoring='accuracy', cv=4)\n",
    "ada_grid_search.fit(x_train, y_train.values.ravel())"
   ]
  },
  {
   "cell_type": "code",
   "execution_count": null,
   "metadata": {},
   "outputs": [],
   "source": [
    "opt_ada = ada_grid_search.best_estimator_\n",
    "\n",
    "# predict \n",
    "adagrid_pred = opt_ada.predict(x_test)\n",
    "\n",
    "# test how badly the model performs \n",
    "_, _ = hlf.print_metrics(y_test, adagrid_pred, print_score=True)\n",
    "\n",
    "# best paramters\n",
    "best_ada_params = ada_grid_search.best_params_\n",
    "print(f\"AdaBoost best parameters: {best_ada_params}\")"
   ]
  },
  {
   "cell_type": "code",
   "execution_count": null,
   "metadata": {},
   "outputs": [],
   "source": [
    "# changing the hyper paramaters grid and running again to see if I could get better accuracy\n",
    "adaboost_param_grid2 = {'n_estimators': [20, 40, 50, 70, 100],\n",
    "                        'learning_rate': [0.3, 0.4, 0.6]\n",
    "                       }\n",
    "\n",
    "# fitting a new model with different hyper paramaters\n",
    "ada_grid_search2 = GridSearchCV(adaboost, adaboost_param_grid2, scoring='accuracy', cv=4)\n",
    "ada_grid_search2.fit(x_train, y_train.values.ravel())\n",
    "\n",
    "# predict \n",
    "adagrid_pred2 = ada_grid_search2.predict(x_test)\n",
    "\n",
    "# test how well the model performs \n",
    "_, _ = hlf.print_metrics(y_test, adagrid_pred2, print_score=True)"
   ]
  },
  {
   "cell_type": "code",
   "execution_count": null,
   "metadata": {},
   "outputs": [],
   "source": [
    "# fit the optimal paramaters for adaboost\n",
    "optimal_ada = ada_grid_search2.best_estimator_\n",
    "optimal_ada.fit(x_train, y_train)\n",
    "\n",
    "# predict\n",
    "opt_ada_pred = optimal_ada.predict(x_test)\n",
    "\n",
    "# get prediction accuracy\n",
    "_, _ = hlf.print_metrics(y_test, opt_ada_pred, print_score=True)\n",
    "\n",
    "# best paramters\n",
    "best_ada_params2 = ada_grid_search2.best_params_\n",
    "print(best_ada_params2)"
   ]
  },
  {
   "cell_type": "code",
   "execution_count": null,
   "metadata": {},
   "outputs": [],
   "source": [
    "print(f\" F1 Score (Optimal Adaboost): {round(f1_score(y_test, opt_ada_pred), 2)}\")"
   ]
  },
  {
   "cell_type": "code",
   "execution_count": null,
   "metadata": {},
   "outputs": [],
   "source": [
    "hlf.plot_confusion_matrix(y_test, opt_ada_pred)\n",
    "# plt.savefig('ada_cm.png')"
   ]
  },
  {
   "cell_type": "code",
   "execution_count": null,
   "metadata": {},
   "outputs": [],
   "source": [
    "hlfs.plot_feature_importance(optimal_ada, x_test, n=16)\n",
    "# plt.savefig('ada_feat_import.png')"
   ]
  },
  {
   "cell_type": "code",
   "execution_count": null,
   "metadata": {},
   "outputs": [],
   "source": [
    "hlf.plot_roc_curve(optimal_ada, x_test, y_test)\n",
    "# plt.savefig('ada_roc_curve.png')"
   ]
  },
  {
   "cell_type": "markdown",
   "metadata": {},
   "source": [
    "### Optimal Parameters: {'learning_rate': 0.6, 'n_estimators': 50}\n",
    "#### Recall = 55.82%\n",
    "#### Accuracy = 56.59%"
   ]
  },
  {
   "cell_type": "markdown",
   "metadata": {},
   "source": [
    "# XGBoost"
   ]
  },
  {
   "cell_type": "code",
   "execution_count": 32,
   "metadata": {},
   "outputs": [
    {
     "name": "stdout",
     "output_type": "stream",
     "text": [
      "Recall Score: 53.74\n",
      "Accuracy Score: 56.52\n"
     ]
    }
   ],
   "source": [
    "import xgboost as xgb\n",
    "\n",
    "# check baseline accuracy for xgboost\n",
    "xgbooster = xgb.XGBClassifier()\n",
    "xgbooster.fit(x_train, y_train.values.ravel())\n",
    "\n",
    "# predict\n",
    "xgb_pred = xgbooster.predict(x_test)\n",
    "\n",
    "# test how badly the model performs \n",
    "_, _ = hlf.print_metrics(y_test, xgb_pred, print_score=True)"
   ]
  },
  {
   "cell_type": "code",
   "execution_count": null,
   "metadata": {},
   "outputs": [],
   "source": [
    "plot_confusion_matrix(y_test, xgb_pred)"
   ]
  },
  {
   "cell_type": "code",
   "execution_count": null,
   "metadata": {},
   "outputs": [],
   "source": [
    "plot_feature_importance(xgbooster, x_train, n=30)"
   ]
  },
  {
   "cell_type": "markdown",
   "metadata": {},
   "source": [
    "### XGBoost Using Gridsearch"
   ]
  },
  {
   "cell_type": "code",
   "execution_count": null,
   "metadata": {},
   "outputs": [],
   "source": [
    "xg_param_grid = {'learning_rate': [0.4, 0.6], 'max_depth': [5, 7], \n",
    "                 'min_child_weight': [4, 5, 6], 'subsample': [0.6, 0.7],\n",
    "                 'n_estimators': [50, 70, 90, 120]\n",
    "                }"
   ]
  },
  {
   "cell_type": "code",
   "execution_count": null,
   "metadata": {},
   "outputs": [],
   "source": [
    "xg_grid = GridSearchCV(xgbooster, xg_param_grid, scoring='accuracy', cv=3, n_jobs=1,\n",
    "                       verbose=1)\n",
    "xg_grid.fit(x_train, y_train.values.ravel())\n",
    "\n",
    "# predict\n",
    "xg_grid_preds = xg_grid.predict(x_test)\n",
    "\n",
    "# test how badly the model performs \n",
    "_, _ = hlf.print_metrics(y_test, xg_grid_preds, print_score=True)\n",
    "best_parameters = xg_grid.best_params_\n",
    "\n",
    "print(best_parameters)"
   ]
  },
  {
   "cell_type": "code",
   "execution_count": null,
   "metadata": {},
   "outputs": [],
   "source": [
    "# running the model again with slightly similar hyperparamaters\n",
    "xg_param_grid2 = {'learning_rate': [0.2, 0.4], 'max_depth': [4, 5, 6], \n",
    "                 'min_child_weight': [6, 7], 'subsample': [0.7, 0.8],\n",
    "                 'n_estimators': [20, 30, 50, 70, 100]\n",
    "                }"
   ]
  },
  {
   "cell_type": "code",
   "execution_count": null,
   "metadata": {},
   "outputs": [],
   "source": [
    "xg_grid2 = GridSearchCV(xgbooster, xg_param_grid2, scoring='accuracy', cv=3, n_jobs=1,\n",
    "                       verbose=True)\n",
    "xg_grid2.fit(x_train, y_train.values.ravel())\n",
    "\n",
    "# predict\n",
    "xg_grid_preds2 = xg_grid2.predict(x_test)\n",
    "\n",
    "# test how badly the model performs \n",
    "_, _ = hlf.print_metrics(y_test, xg_grid_preds2, print_score=True)\n",
    "best_parameters2 = xg_grid2.best_params_\n",
    "\n",
    "print(f\"Best parameters: {best_parameters2}\")"
   ]
  },
  {
   "cell_type": "code",
   "execution_count": null,
   "metadata": {},
   "outputs": [],
   "source": [
    "# run xgboost again with the new paramaters\n",
    "opt_xgb = xg_grid2.best_estimator_\n",
    "opt_xgb.fit(x_train, y_train.values.ravel())\n",
    "\n",
    "# predict\n",
    "opt_xgb_pred = opt_xgb.predict(x_test)\n",
    "\n",
    "# test how badly the model performs \n",
    "opt_xgb_recall, opt_xgb_accuracy = hlf.print_metrics(y_test, opt_xgb_pred, print_score=True)"
   ]
  },
  {
   "cell_type": "code",
   "execution_count": null,
   "metadata": {},
   "outputs": [],
   "source": [
    "hlf.plot_confusion_matrix(y_test, opt_xgb_pred)"
   ]
  },
  {
   "cell_type": "code",
   "execution_count": null,
   "metadata": {},
   "outputs": [],
   "source": [
    "hlf.plot_feature_importance(opt_xgb, x_test, n=15)"
   ]
  },
  {
   "cell_type": "markdown",
   "metadata": {},
   "source": [
    "# Logistic Regression"
   ]
  },
  {
   "cell_type": "code",
   "execution_count": 48,
   "metadata": {},
   "outputs": [
    {
     "name": "stderr",
     "output_type": "stream",
     "text": [
      "D:\\Programs\\Anaconda\\lib\\site-packages\\sklearn\\linear_model\\logistic.py:432: FutureWarning: Default solver will be changed to 'lbfgs' in 0.22. Specify a solver to silence this warning.\n",
      "  FutureWarning)\n"
     ]
    },
    {
     "name": "stdout",
     "output_type": "stream",
     "text": [
      "Recall Score: 56.64\n",
      "Accuracy Score: 56.71\n"
     ]
    }
   ],
   "source": [
    "from sklearn.linear_model import LogisticRegression\n",
    "\n",
    "# check the baseline how logistic regression works\n",
    "log_reg = LogisticRegression(fit_intercept = False, C = 1e12)\n",
    "log_mod = log_reg.fit(x_train, y_train)\n",
    "\n",
    "# predict\n",
    "log_pred = log_reg.predict(x_test)\n",
    "\n",
    "# test how badly the model performs \n",
    "_, _ = hlf.print_metrics(y_test, log_pred, print_score=True)"
   ]
  },
  {
   "cell_type": "markdown",
   "metadata": {},
   "source": [
    "### Logistic regression using Gridsearch"
   ]
  },
  {
   "cell_type": "code",
   "execution_count": null,
   "metadata": {},
   "outputs": [],
   "source": [
    "log_grid = {\"C\": np.logspace(0, 12, 20),\n",
    "            'penalty': ['l1', 'l2']}\n",
    "\n",
    "log_reg_grid = GridSearchCV(log_mod, log_grid, scoring=\"accuracy\", cv=4, verbose=1)\n",
    "log_reg_grid = log_reg_grid.fit(x_train, y_train.values.ravel())\n",
    "\n",
    "# predict\n",
    "grid_log_pred = log_reg.predict(x_test)\n",
    "\n",
    "# test how badly the model performs \n",
    "_, _ = hlf.print_metrics(y_test, grid_log_pred, print_score=True)"
   ]
  },
  {
   "cell_type": "code",
   "execution_count": null,
   "metadata": {
    "scrolled": true
   },
   "outputs": [],
   "source": [
    "opt_logis = log_reg_grid.best_estimator_\n",
    "opt_logis.fit(x_train, y_train)\n",
    "\n",
    "opt_logis_pred = opt_logis.predict(x_test)\n",
    "# test how well the model performs \n",
    "_, _ = hlf.print_metrics(y_test, opt_logis_pred, print_score=True)\n",
    "print(f\"Best parameters: {log_reg_grid.best_params_}\")"
   ]
  },
  {
   "cell_type": "code",
   "execution_count": null,
   "metadata": {},
   "outputs": [],
   "source": [
    "hlf.plot_confusion_matrix(y_test, opt_logis_pred)"
   ]
  },
  {
   "cell_type": "code",
   "execution_count": null,
   "metadata": {},
   "outputs": [],
   "source": [
    "hlf.plot_roc_curve(opt_logis, x_test, y_test)"
   ]
  },
  {
   "cell_type": "markdown",
   "metadata": {},
   "source": [
    "### Optimal"
   ]
  },
  {
   "cell_type": "markdown",
   "metadata": {},
   "source": [
    "# SVM\n"
   ]
  },
  {
   "cell_type": "code",
   "execution_count": 40,
   "metadata": {},
   "outputs": [],
   "source": [
    "from sklearn.decomposition import PCA\n",
    "from sklearn.svm import LinearSVC\n",
    "from sklearn.svm import SVC\n",
    "# Reduce dimonsionality so my computer won't explode trying to run SVM with 30k observations and 114 dimensions\n",
    "x_reduced = PCA(n_components=30).fit_transform(df)"
   ]
  },
  {
   "cell_type": "code",
   "execution_count": 41,
   "metadata": {},
   "outputs": [],
   "source": [
    "rx_train, rx_test, ry_train, ry_test = train_test_split(x_reduced, labels,\n",
    "                                                        test_size=0.25,\n",
    "                                                        random_state=123)\n"
   ]
  },
  {
   "cell_type": "code",
   "execution_count": 43,
   "metadata": {},
   "outputs": [
    {
     "name": "stderr",
     "output_type": "stream",
     "text": [
      "D:\\Programs\\Anaconda\\lib\\site-packages\\sklearn\\svm\\base.py:193: FutureWarning: The default value of gamma will change from 'auto' to 'scale' in version 0.22 to account better for unscaled features. Set gamma explicitly to 'auto' or 'scale' to avoid this warning.\n",
      "  \"avoid this warning.\", FutureWarning)\n",
      "D:\\Programs\\Anaconda\\lib\\site-packages\\sklearn\\svm\\base.py:241: ConvergenceWarning: Solver terminated early (max_iter=2000).  Consider pre-processing your data with StandardScaler or MinMaxScaler.\n",
      "  % self.max_iter, ConvergenceWarning)\n"
     ]
    },
    {
     "name": "stdout",
     "output_type": "stream",
     "text": [
      "0.502\n"
     ]
    }
   ],
   "source": [
    "# to get a base line run model with default paramters and different kernels\n",
    "SVMp = SVC(kernel='poly', max_iter=2000)\n",
    "SVMp.fit(rx_train, ry_train)\n",
    "print(SVMp.score(rx_test, ry_test))"
   ]
  },
  {
   "cell_type": "code",
   "execution_count": 44,
   "metadata": {},
   "outputs": [
    {
     "name": "stderr",
     "output_type": "stream",
     "text": [
      "D:\\Programs\\Anaconda\\lib\\site-packages\\sklearn\\svm\\base.py:193: FutureWarning: The default value of gamma will change from 'auto' to 'scale' in version 0.22 to account better for unscaled features. Set gamma explicitly to 'auto' or 'scale' to avoid this warning.\n",
      "  \"avoid this warning.\", FutureWarning)\n",
      "D:\\Programs\\Anaconda\\lib\\site-packages\\sklearn\\svm\\base.py:241: ConvergenceWarning: Solver terminated early (max_iter=2000).  Consider pre-processing your data with StandardScaler or MinMaxScaler.\n",
      "  % self.max_iter, ConvergenceWarning)\n"
     ]
    },
    {
     "name": "stdout",
     "output_type": "stream",
     "text": [
      "0.5032\n"
     ]
    }
   ],
   "source": [
    "# to get a base line run model with default paramters and different kernels\n",
    "SVMs = SVC(kernel='rbf', max_iter=2000)\n",
    "SVMs.fit(rx_train, ry_train)\n",
    "print(SVMs.score(rx_test, ry_test))"
   ]
  },
  {
   "cell_type": "code",
   "execution_count": 38,
   "metadata": {},
   "outputs": [
    {
     "name": "stdout",
     "output_type": "stream",
     "text": [
      "0.5678666666666666\n"
     ]
    }
   ],
   "source": [
    "# to get a base line run model with default paramters\n",
    "SVM = LinearSVC(max_iter=3500)\n",
    "SVM.fit(rx_train, ry_train)\n",
    "print(SVM.score(rx_test, ry_test))"
   ]
  },
  {
   "cell_type": "markdown",
   "metadata": {},
   "source": [
    "### LinearSVC using Gridsearch"
   ]
  },
  {
   "cell_type": "code",
   "execution_count": null,
   "metadata": {},
   "outputs": [],
   "source": [
    "c = np.logspace(start=-20, stop=400, base=1.05)\n",
    "svm_grid = {'C': c}\n",
    "\n",
    "svm_grid = GridSearchCV(SVM, param_grid=svm_grid, cv=4, n_jobs=-1, scoring='accuracy')\n",
    "svm_grid.fit(rx_train, ry_train)"
   ]
  },
  {
   "cell_type": "code",
   "execution_count": null,
   "metadata": {},
   "outputs": [],
   "source": [
    "opt_svm = svm_grid.best_estimator_\n",
    "opt_svm.fit(rx_train, ry_train)\n",
    "\n",
    "# predict\n",
    "opt_svm_pred = opt_svm.predict(rx_test)\n",
    "\n",
    "# check how badly the model predicts\n",
    "opt_svm_recall, opt_svm_acc = print_metrics(ry_test, opt_svm_pred, print_score=True)\n",
    "opt_svm.score(rx_test, ry_test)"
   ]
  },
  {
   "cell_type": "code",
   "execution_count": null,
   "metadata": {},
   "outputs": [],
   "source": [
    "# changing the penalty from 'l2' to 'l1' and check how badly the model predicts\n",
    "SVMl1 = LinearSVC(penalty='l1', max_iter=3500, dual=False)\n",
    "\n",
    "svml1_grid = GridSearchCV(SVMl1, param_grid=svm_grid, cv=4, n_jobs=-1, scoring='accuracy')\n",
    "svml1_grid.fit(rx_train, ry_train)"
   ]
  },
  {
   "cell_type": "code",
   "execution_count": null,
   "metadata": {},
   "outputs": [],
   "source": [
    "optl1_svm = svml1_grid.best_estimator_\n",
    "optl1_svm.fit(rx_train, ry_train)\n",
    "\n",
    "# predict\n",
    "opt_svml1_pred = optl1_svm.predict(rx_test)\n",
    "\n",
    "# test how well the model performs \n",
    "opt_svml1_recall, opt_svml1_acc = print_metrics(ry_test, opt_svml1_pred, print_score=True)\n",
    "optl1_svm.score(rx_test, ry_test)"
   ]
  },
  {
   "cell_type": "code",
   "execution_count": null,
   "metadata": {},
   "outputs": [],
   "source": []
  }
 ],
 "metadata": {
  "kernelspec": {
   "display_name": "Python 3",
   "language": "python",
   "name": "python3"
  },
  "language_info": {
   "codemirror_mode": {
    "name": "ipython",
    "version": 3
   },
   "file_extension": ".py",
   "mimetype": "text/x-python",
   "name": "python",
   "nbconvert_exporter": "python",
   "pygments_lexer": "ipython3",
   "version": "3.7.4"
  }
 },
 "nbformat": 4,
 "nbformat_minor": 2
}
