{
 "cells": [
  {
   "cell_type": "code",
   "execution_count": 5,
   "metadata": {},
   "outputs": [],
   "source": [
    "from tqdm import tqdm\n",
    "import numpy as np\n",
    "import pandas as pd\n",
    "import matplotlib.pyplot as plt\n",
    "%matplotlib inline\n",
    "plt.style.use('ggplot')\n",
    "\n",
    "from sklearn.metrics import recall_score, accuracy_score, roc_curve, auc, confusion_matrix\n",
    "from sklearn.model_selection import train_test_split, GridSearchCV, cross_val_score"
   ]
  },
  {
   "cell_type": "code",
   "execution_count": 6,
   "metadata": {},
   "outputs": [],
   "source": [
    "# open the pre-processed csv file and split the target variable from the classifiers\n",
    "df = pd.read_csv('dota2_cleaned.csv')\n",
    "\n",
    "# Shuffle the dataframe before the train test split  \n",
    "df = df.sample(frac=1).reset_index(drop=True)\n",
    "\n",
    "#separate the target variable\n",
    "labels = df[['Won']]\n",
    "df.drop(['Won'], axis=1, inplace=True)"
   ]
  },
  {
   "cell_type": "code",
   "execution_count": 7,
   "metadata": {},
   "outputs": [],
   "source": [
    "def print_metrics(labels, predictions, print_score=None):\n",
    "    ''' This function receives model predictions along with the actual labels\n",
    "        and returns the precision score, recall, accuracy and F1'''\n",
    "    \n",
    "    recall = round(recall_score(labels, predictions)*100, 2)\n",
    "    acc = round(accuracy_score(labels, predictions)*100, 2)\n",
    "    \n",
    "    if print_score:\n",
    "        print(f\"Recall Score: {recall}\")\n",
    "        print(f\"Accuracy Score: {acc}\")\n",
    "        \n",
    "    return recall, acc"
   ]
  },
  {
   "cell_type": "code",
   "execution_count": 8,
   "metadata": {},
   "outputs": [],
   "source": [
    "# create seprate training and testing sets\n",
    "x_train, x_test, y_train, y_test = train_test_split(df, labels, test_size=0.25)"
   ]
  },
  {
   "cell_type": "markdown",
   "metadata": {},
   "source": [
    "#   KNN Model:"
   ]
  },
  {
   "cell_type": "code",
   "execution_count": 9,
   "metadata": {},
   "outputs": [],
   "source": [
    "def plot_confusion_matrix(y_test, y_predict, classes=None, title=None):\n",
    "    cm = confusion_matrix(y_test, y_predict)\n",
    "    plt.clf()\n",
    "    plt.imshow(cm, interpolation='nearest', cmap=plt.cm.Wistia)\n",
    "    plt.title(title)\n",
    "    plt.ylabel('True')\n",
    "    plt.xlabel('Predicted')\n",
    "    tick_marks = np.arange(len(classes))\n",
    "    plt.xticks(tick_marks, classes, rotation=45)\n",
    "    plt.yticks(tick_marks, classes)\n",
    "    s = [['TN','FP'], ['FN', 'TP']]\n",
    "    for i in range(2):\n",
    "        for j in range(2):\n",
    "            plt.text(j,i, str(s[i][j])+\" = \"+str(cm[i][j]))\n",
    "    plt.show()"
   ]
  },
  {
   "cell_type": "code",
   "execution_count": 10,
   "metadata": {},
   "outputs": [
    {
     "name": "stdout",
     "output_type": "stream",
     "text": [
      "Recall Score: 51.81\n",
      "Accuracy Score: 51.41\n"
     ]
    }
   ],
   "source": [
    "from sklearn.neighbors import KNeighborsClassifier\n",
    "\n",
    "# run initial model with default value (k=5)\n",
    "knn = KNeighborsClassifier()\n",
    "knn.fit(x_train, y_train.values.ravel())\n",
    "\n",
    "test_predict = knn.predict(x_test)\n",
    "\n",
    "recall, acc = print_metrics(y_test, test_predict, print_score=True)"
   ]
  },
  {
   "cell_type": "code",
   "execution_count": 49,
   "metadata": {},
   "outputs": [
    {
     "data": {
      "image/png": "[encoded data removed]",
      "text/plain": [
       "<Figure size 432x288 with 1 Axes>"
      ]
     },
     "metadata": {},
     "output_type": "display_data"
    }
   ],
   "source": [
    "plot_confusion_matrix(y_test, test_predict, classes=['Won', 'Lost'], title='Won or Lost')"
   ]
  },
  {
   "cell_type": "code",
   "execution_count": null,
   "metadata": {},
   "outputs": [],
   "source": [
    "# find the most important features\n"
   ]
  },
  {
   "cell_type": "markdown",
   "metadata": {},
   "source": [
    "## Initial KNN model performed slightly better than random guess \n",
    "Recall Score: 85.61\n",
    "\n",
    "Accuracy Score: 85.0"
   ]
  },
  {
   "cell_type": "code",
   "execution_count": null,
   "metadata": {},
   "outputs": [],
   "source": [
    "def multiple_knn(df, labels, ks=[5]):\n",
    "    x_train, x_test, y_train, y_test = train_test_split(df, labels, test_size=0.3)\n",
    "    best_acc = 0\n",
    "    best_k = 0\n",
    "    scores = []\n",
    "\n",
    "    for k in tqdm(ks):\n",
    "        knn = KNeighborsClassifier(n_neighbors=k)\n",
    "        knn.fit(x_train, y_train.values.ravel())\n",
    "        test_predict = knn.predict(x_test)\n",
    "        score = print_metrics(y_test, test_predict)\n",
    "        scores.append(score)\n",
    "        \n",
    "        if best_acc < score[1]:\n",
    "            best_acc = score[1]\n",
    "            best_k = k\n",
    "            \n",
    "        \n",
    "    return best_acc, best_k, scores"
   ]
  },
  {
   "cell_type": "code",
   "execution_count": null,
   "metadata": {},
   "outputs": [],
   "source": [
    "# run model again k = 4, 6, 7, 8, 9\n",
    "acc, k, scores = multiple_knn(df, labels, ks=[4, 6, 7, 8, 9])\n",
    "print(f\"scores: {scores}, k: {k}\")"
   ]
  },
  {
   "cell_type": "code",
   "execution_count": null,
   "metadata": {},
   "outputs": [],
   "source": [
    "# run model again k = 8, 9, 10, 11, 12\n",
    "acc, k, scores = multiple_knn(df, labels, ks=[8, 9, 10, 11, 12])\n",
    "print(f\"scores: {scores}, k: {k}\")"
   ]
  },
  {
   "cell_type": "code",
   "execution_count": 61,
   "metadata": {},
   "outputs": [
    {
     "data": {
      "image/png": "[encoded data removed]",
      "text/plain": [
       "<Figure size 432x288 with 1 Axes>"
      ]
     },
     "metadata": {},
     "output_type": "display_data"
    }
   ],
   "source": [
    "knn = KNeighborsClassifier(n_neighbors=11)\n",
    "knn.fit(x_train, y_train.values.ravel())\n",
    "\n",
    "k11_predict = knn.predict(x_test)\n",
    "plot_confusion_matrix(y_test, k11_predict, classes=['Won', 'Lost'], title='Won or Lost')"
   ]
  },
  {
   "cell_type": "markdown",
   "metadata": {},
   "source": [
    "## KNN = 11\n",
    "\n",
    "\n",
    "Recall - 91.33% \n",
    "\n",
    "Accuracy = 91.22%\n"
   ]
  },
  {
   "cell_type": "markdown",
   "metadata": {},
   "source": [
    "# Random Forest"
   ]
  },
  {
   "cell_type": "code",
   "execution_count": 6,
   "metadata": {},
   "outputs": [],
   "source": [
    "from sklearn.ensemble import RandomForestClassifier, AdaBoostClassifier"
   ]
  },
  {
   "cell_type": "code",
   "execution_count": 50,
   "metadata": {},
   "outputs": [
    {
     "name": "stderr",
     "output_type": "stream",
     "text": [
      "D:\\Programs\\Anaconda\\lib\\site-packages\\sklearn\\ensemble\\forest.py:246: FutureWarning: The default value of n_estimators will change from 10 in version 0.20 to 100 in 0.22.\n",
      "  \"10 in version 0.20 to 100 in 0.22.\", FutureWarning)\n",
      "D:\\Programs\\Anaconda\\lib\\site-packages\\ipykernel_launcher.py:3: DataConversionWarning: A column-vector y was passed when a 1d array was expected. Please change the shape of y to (n_samples,), for example using ravel().\n",
      "  This is separate from the ipykernel package so we can avoid doing imports until\n"
     ]
    },
    {
     "name": "stdout",
     "output_type": "stream",
     "text": [
      "Recall Score: 100.0\n",
      "Accuracy Score: 100.0\n"
     ]
    },
    {
     "data": {
      "image/png": "[encoded data removed]",
      "text/plain": [
       "<Figure size 432x288 with 1 Axes>"
      ]
     },
     "metadata": {},
     "output_type": "display_data"
    }
   ],
   "source": [
    "# get a baseline how random forest performs\n",
    "forest = RandomForestClassifier()\n",
    "forest.fit(x_train, y_train)\n",
    "\n",
    "# predcit accuracy\n",
    "forest_test_pred = forest.predict(x_test)\n",
    "\n",
    "# testing accuracy\n",
    "f_recall, f_acc = print_metrics(y_test, forest_test_pred, print_score=True)\n",
    "plot_confusion_matrix(y_test, forest_test_pred, classes=['Won', 'Lost'], title='Won or Lost')"
   ]
  },
  {
   "cell_type": "markdown",
   "metadata": {},
   "source": [
    "### Random Forest Using Gridsearch"
   ]
  },
  {
   "cell_type": "code",
   "execution_count": 8,
   "metadata": {},
   "outputs": [],
   "source": [
    "# define params grid\n",
    "forest_param_grid = {'criterion': ['gini', 'entropy'],\n",
    "                     'max_depth': [3, 4, 6, 7],\n",
    "                     'min_samples_split': [3, 5, 6, 7],\n",
    "                     'min_samples_leaf': [3, 4, 5, 6]\n",
    "                    }                    "
   ]
  },
  {
   "cell_type": "code",
   "execution_count": 51,
   "metadata": {
    "scrolled": true
   },
   "outputs": [
    {
     "name": "stdout",
     "output_type": "stream",
     "text": [
      "Fitting 3 folds for each of 128 candidates, totalling 384 fits\n"
     ]
    },
    {
     "name": "stderr",
     "output_type": "stream",
     "text": [
      "[Parallel(n_jobs=1)]: Using backend SequentialBackend with 1 concurrent workers.\n",
      "[Parallel(n_jobs=1)]: Done 384 out of 384 | elapsed:   43.3s finished\n"
     ]
    },
    {
     "name": "stdout",
     "output_type": "stream",
     "text": [
      "Recall Score: 100.0\n",
      "Accuracy Score: 100.0\n",
      "Best paramaters: {'criterion': 'gini', 'max_depth': 6, 'min_samples_leaf': 3, 'min_samples_split': 5}\n"
     ]
    },
    {
     "data": {
      "image/png": "[encoded data removed]",
      "text/plain": [
       "<Figure size 432x288 with 1 Axes>"
      ]
     },
     "metadata": {},
     "output_type": "display_data"
    }
   ],
   "source": [
    "# Use grid search to find the best paramers for random forest\n",
    "forest_search = GridSearchCV(forest, forest_param_grid, cv=3, verbose=1, scoring='accuracy')\n",
    "forest_search.fit(x_train, y_train.values.ravel())\n",
    "\n",
    "# predcit the testing data\n",
    "forest_grid_test_pred = forest_search.predict(x_test)\n",
    "\n",
    "# test how the model performs \n",
    "forest_grid_recall, forest_grid_acc = print_metrics(y_test, forest_grid_test_pred, print_score=True)\n",
    "best_forest_params = forest_search.best_params_\n",
    "\n",
    "#best paramters\n",
    "print(f\"Best paramaters: {best_forest_params}\")"
   ]
  },
  {
   "cell_type": "code",
   "execution_count": null,
   "metadata": {},
   "outputs": [],
   "source": [
    "plot_confusipon_matrix(y_test, forest_grid_test_pred, classes=['Won', 'Lost'], title='Won or Lost')"
   ]
  },
  {
   "cell_type": "markdown",
   "metadata": {},
   "source": [
    "#### Optimal Parameters: {'criterion': 'gini','max_depth': 6,'min_samples_leaf': 5,'min_samples_split': 7}\n",
    "\n",
    "Accuracy = 99.99%"
   ]
  },
  {
   "cell_type": "markdown",
   "metadata": {},
   "source": [
    "# AdaBoost"
   ]
  },
  {
   "cell_type": "code",
   "execution_count": 58,
   "metadata": {},
   "outputs": [
    {
     "name": "stderr",
     "output_type": "stream",
     "text": [
      "D:\\Programs\\Anaconda\\lib\\site-packages\\sklearn\\utils\\validation.py:761: DataConversionWarning: A column-vector y was passed when a 1d array was expected. Please change the shape of y to (n_samples, ), for example using ravel().\n",
      "  y = column_or_1d(y, warn=True)\n"
     ]
    },
    {
     "name": "stdout",
     "output_type": "stream",
     "text": [
      "Recall Score: 100.0\n",
      "Accuracy Score: 100.0\n"
     ]
    }
   ],
   "source": [
    "# get a baseline on how ada boost performs\n",
    "adaboost = AdaBoostClassifier()\n",
    "adaboost.fit(x_train, y_train)\n",
    "\n",
    "# predict the  testing data\n",
    "adaboost_test_pred = adaboost.predict(x_test)\n",
    "\n",
    "# test how the model performs \n",
    "ada_recall, ada_accuracy = print_metrics(y_test, adaboost_test_pred, print_score=True)"
   ]
  },
  {
   "cell_type": "code",
   "execution_count": 59,
   "metadata": {},
   "outputs": [
    {
     "data": {
      "image/png": "[encoded data removed]",
      "text/plain": [
       "<Figure size 432x288 with 1 Axes>"
      ]
     },
     "metadata": {},
     "output_type": "display_data"
    }
   ],
   "source": [
    "plot_confusion_matrix(y_test, adaboost_test_pred, classes=['Won', 'Lost'], title='Won or Lost')"
   ]
  },
  {
   "cell_type": "markdown",
   "metadata": {},
   "source": [
    "### AdaBoost Using Gridsearch"
   ]
  },
  {
   "cell_type": "code",
   "execution_count": 14,
   "metadata": {},
   "outputs": [],
   "source": [
    "adaboost_param_grid = {'n_estimators': [70, 150, 200, 250, 270, 300],\n",
    "                       'learning_rate': [0.4, 0.2, 0.1]\n",
    "                      }"
   ]
  },
  {
   "cell_type": "code",
   "execution_count": 16,
   "metadata": {},
   "outputs": [
    {
     "name": "stdout",
     "output_type": "stream",
     "text": [
      "Recall Score: 100.0\n",
      "Accuracy Score: 100.0\n",
      "Best paramaters: {'learning_rate': 0.4, 'n_estimators': 70}\n"
     ]
    }
   ],
   "source": [
    "ada_grid_search = GridSearchCV(adaboost, adaboost_param_grid, cv=3)\n",
    "ada_grid_search.fit(x_train, y_train.values.ravel())\n",
    "\n",
    "# predict the testing data\n",
    "adagrid_pred = ada_grid_search.predict(x_test)\n",
    "\n",
    "# test how well the model performs \n",
    "adagrid_recall, adagrid_accuracy = print_metrics(y_test, adagrid_pred, print_score=True)\n",
    "\n",
    "#best paramters\n",
    "best_ada_params = ada_grid_search.best_params_"
   ]
  },
  {
   "cell_type": "code",
   "execution_count": null,
   "metadata": {},
   "outputs": [],
   "source": [
    "plot_confusipon_matrix(y_test, adaboost_test_pred, classes=['Won', 'Lost'], title='Won or Lost')"
   ]
  },
  {
   "cell_type": "markdown",
   "metadata": {},
   "source": [
    "#### Optimal Parameters: {'learning_rate': 0.6, 'n_estimators': 270}\n",
    "Score = 57%"
   ]
  },
  {
   "cell_type": "markdown",
   "metadata": {},
   "source": [
    "# XGBoost"
   ]
  },
  {
   "cell_type": "code",
   "execution_count": 52,
   "metadata": {},
   "outputs": [
    {
     "name": "stdout",
     "output_type": "stream",
     "text": [
      "Recall Score: 100.0\n",
      "Accuracy Score: 100.0\n"
     ]
    }
   ],
   "source": [
    "import xgboost as xgb\n",
    "\n",
    "# check baseline accuracy for xgboost\n",
    "xgbooster = xgb.XGBClassifier()\n",
    "xgbooster.fit(x_train, y_train.values.ravel())\n",
    "\n",
    "# predict the testing data\n",
    "xgb_pred = xgbooster.predict(x_test)\n",
    "\n",
    "# test how well the model performs \n",
    "xgb_recall, xgb_accuracy = print_metrics(y_test, xgb_pred, print_score=True)"
   ]
  },
  {
   "cell_type": "code",
   "execution_count": 55,
   "metadata": {},
   "outputs": [
    {
     "data": {
      "image/png": "[encoded data removed]",
      "text/plain": [
       "<Figure size 432x288 with 1 Axes>"
      ]
     },
     "metadata": {},
     "output_type": "display_data"
    }
   ],
   "source": [
    "plot_confusion_matrix(y_test, xgb_pred, classes=['Won', 'Lost'], title='Won or Lost')"
   ]
  },
  {
   "cell_type": "code",
   "execution_count": 67,
   "metadata": {},
   "outputs": [
    {
     "data": {
      "text/plain": [
       "array([0., 0., 0., 0., 0., 0., 0., 0., 0., 0., 0., 0., 0., 0., 0., 0., 0.,\n",
       "       0., 0., 0., 0., 0., 0., 0., 0., 0., 0., 0., 0., 0., 0., 0., 0., 0.,\n",
       "       0., 0., 0., 0., 0., 0., 0., 0., 0., 0., 0., 0., 0., 0., 0., 0., 0.,\n",
       "       0., 0., 0., 0., 0., 0., 0., 0., 0., 0., 0., 0., 0., 0., 0., 0., 0.,\n",
       "       0., 0., 0., 0., 0., 0., 0., 0., 0., 0., 0., 0., 0., 0., 0., 0., 0.,\n",
       "       0., 0., 0., 0., 0., 0., 0., 0., 0., 0., 0., 0., 0., 0., 0., 0., 0.,\n",
       "       0., 0., 0., 0., 0., 0., 0., 0., 0., 0., 1.], dtype=float32)"
      ]
     },
     "execution_count": 67,
     "metadata": {},
     "output_type": "execute_result"
    }
   ],
   "source": [
    "xgbooster.feature_importances_"
   ]
  },
  {
   "cell_type": "markdown",
   "metadata": {},
   "source": [
    "### XGBoost Using Gridsearch"
   ]
  },
  {
   "cell_type": "code",
   "execution_count": null,
   "metadata": {},
   "outputs": [],
   "source": [
    "xg_param_grid = {'learning_rate': [0.2], 'max_depth': [7], \n",
    "                 'min_child_weight': [5, 6], 'subsample': [0.7],\n",
    "                 'n_estimators': [100, 120, 150]\n",
    "                }"
   ]
  },
  {
   "cell_type": "code",
   "execution_count": null,
   "metadata": {},
   "outputs": [],
   "source": [
    "xg_grid = GridSearchCV(xgbooster, xg_param_grid, scoring='accuracy', cv=3, n_jobs=1)\n",
    "xg_grid.fit(x_train, y_train.values.ravel())\n",
    "\n",
    "best_parameters = xg_grid.best_params_\n",
    "\n",
    "training_preds = xg_grid.predict(x_train)\n",
    "test_preds = xg_grid.predict(x_test)\n",
    "\n",
    "training_accuracy = accuracy_score(y_train, training_preds)\n",
    "test_accuracy = accuracy_score(y_test, test_preds)\n",
    "\n",
    "print(best_parameters)\n",
    "print(training_accuracy)\n",
    "print(test_accuracy)"
   ]
  },
  {
   "cell_type": "code",
   "execution_count": null,
   "metadata": {},
   "outputs": [],
   "source": [
    "xg_grid."
   ]
  },
  {
   "cell_type": "code",
   "execution_count": null,
   "metadata": {},
   "outputs": [],
   "source": [
    "'learning_rate': 0.2, 'max_depth': 8, 'min_child_weight': 5, 'n_estimators': 100, 'subsample': 0.7}\n",
    "0.708952380952381\n",
    "0.7056666666666667"
   ]
  },
  {
   "cell_type": "code",
   "execution_count": null,
   "metadata": {},
   "outputs": [],
   "source": [
    "def feature_importance(model, x_train):\n",
    "    importances = model.feature_importances_\n",
    "    # Sort feature importances in descending order\n",
    "    indices = np.argsort(importances)[::-1]\n",
    "     \n",
    "    if indices > 10:\n",
    "        indices = indices[::10]\n",
    "        features = x_train.shape[1]\n"
   ]
  },
  {
   "cell_type": "code",
   "execution_count": null,
   "metadata": {},
   "outputs": [],
   "source": [
    "plt.figure(figsize=(20, 20))\n",
    "plt.barh(range(x_train.shape[1]), xgbooster.feature_importances_, align='center')\n",
    "plt.yticks(np.arange(x_train.shape[1]), x_train.columns.values)\n",
    "plt.xlabel(\"Feature importance\")\n",
    "plt.ylabel(\"Feature\")"
   ]
  },
  {
   "cell_type": "code",
   "execution_count": null,
   "metadata": {},
   "outputs": [],
   "source": [
    "def plot_feature_importances(model):\n",
    "   n_features = X_train.shape[1]\n",
    "   plt.figure(figsize=(8,8))\n",
    "   plt.barh(range(n_features), model.feature_importances_, align='center')\n",
    "   plt.yticks(np.arange(n_features), X_train.columns.values)\n",
    "   plt.xlabel(\"Feature importance\")\n",
    "   plt.ylabel(\"Feature\")"
   ]
  },
  {
   "cell_type": "code",
   "execution_count": 69,
   "metadata": {},
   "outputs": [],
   "source": [
    "a = np.argsort(xgbooster.feature_importances_)[::-1]"
   ]
  },
  {
   "cell_type": "code",
   "execution_count": 1,
   "metadata": {},
   "outputs": [
    {
     "ename": "NameError",
     "evalue": "name 'xgbooster' is not defined",
     "output_type": "error",
     "traceback": [
      "\u001b[1;31m---------------------------------------------------------------------------\u001b[0m",
      "\u001b[1;31mNameError\u001b[0m                                 Traceback (most recent call last)",
      "\u001b[1;32m<ipython-input-1-6cd7f251a22b>\u001b[0m in \u001b[0;36m<module>\u001b[1;34m\u001b[0m\n\u001b[1;32m----> 1\u001b[1;33m \u001b[0mxgbooster\u001b[0m\u001b[1;33m.\u001b[0m\u001b[0mfeature_importances_\u001b[0m\u001b[1;33m\u001b[0m\u001b[1;33m\u001b[0m\u001b[0m\n\u001b[0m",
      "\u001b[1;31mNameError\u001b[0m: name 'xgbooster' is not defined"
     ]
    }
   ],
   "source": [
    "xgbooster.feature_importances_"
   ]
  },
  {
   "cell_type": "code",
   "execution_count": 77,
   "metadata": {},
   "outputs": [
    {
     "data": {
      "text/plain": [
       "array([ 37,  38,  39,  40,  41,  42,  43,  44,  45,  46,  47,  48,  49,\n",
       "        50,  51,  52,  53,  28,  27,  26,  12,   1,   2,   3,   4,   5,\n",
       "         6,   7,   8,   9,  10,  11,  13,  25,  14,  15,  16,  17,  18,\n",
       "        19,  20,  21,  22,  23,  24,  54,  56, 111,  57,  86,  87,  88,\n",
       "        89,  90,  91,  92,  93,  94,  95,  96,  97,  98,  99, 100, 101,\n",
       "       102, 103, 104, 105, 106, 107, 108, 109, 110,  85,  84,  83,  69,\n",
       "        58,  59,  60,  61,  62,  63,  64,  65,  66,  67,  68,  70,  82,\n",
       "        71,  72,  73,  74,  75,  76,  77,  78,  79,  80,  81,   0],\n",
       "      dtype=int64)"
      ]
     },
     "execution_count": 77,
     "metadata": {},
     "output_type": "execute_result"
    }
   ],
   "source": [
    "a[10::]"
   ]
  },
  {
   "cell_type": "code",
   "execution_count": null,
   "metadata": {},
   "outputs": [],
   "source": []
  }
 ],
 "metadata": {
  "kernelspec": {
   "display_name": "Python 3",
   "language": "python",
   "name": "python3"
  },
  "language_info": {
   "codemirror_mode": {
    "name": "ipython",
    "version": 3
   },
   "file_extension": ".py",
   "mimetype": "text/x-python",
   "name": "python",
   "nbconvert_exporter": "python",
   "pygments_lexer": "ipython3",
   "version": "3.7.2"
  }
 },
 "nbformat": 4,
 "nbformat_minor": 2
}
