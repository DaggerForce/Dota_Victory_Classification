{
 "cells": [
  {
   "cell_type": "code",
   "execution_count": 1,
   "metadata": {},
   "outputs": [],
   "source": [
    "from tqdm import tqdm\n",
    "import numpy as np\n",
    "import pandas as pd\n",
    "import matplotlib as plt\n",
    "%matplotlib inline\n",
    "plt.style.use('ggplot')\n",
    "\n",
    "from sklearn.metrics import recall_score, accuracy_score\n",
    "from sklearn.model_selection import train_test_split, GridSearchCV, cross_val_score"
   ]
  },
  {
   "cell_type": "code",
   "execution_count": 2,
   "metadata": {},
   "outputs": [],
   "source": [
    "# open the pre-processed csv file and split the target variable from the classifiers\n",
    "df = pd.read_csv('dota2_cleaned.csv')\n",
    "labels = df[['Won']]\n",
    "df.drop(['Won'], axis=1, inplace=True)"
   ]
  },
  {
   "cell_type": "code",
   "execution_count": 3,
   "metadata": {},
   "outputs": [],
   "source": [
    "def print_metrics(labels, predictions, print_score=None):\n",
    "    ''' This function receives model predictions along with the actual labels\n",
    "        and returns the precision score, recall, accuracy and F1'''\n",
    "    \n",
    "    recall = round(recall_score(labels, predictions)*100, 2)\n",
    "    acc = round(accuracy_score(labels, predictions)*100, 2)\n",
    "    \n",
    "    if print_score:\n",
    "        print(f\"Recall Score: {recall}\")\n",
    "        print(f\"Accuracy Score: {acc}\")\n",
    "        \n",
    "    return recall, acc"
   ]
  },
  {
   "cell_type": "markdown",
   "metadata": {},
   "source": [
    "#   KNN Model:"
   ]
  },
  {
   "cell_type": "code",
   "execution_count": 4,
   "metadata": {},
   "outputs": [
    {
     "name": "stdout",
     "output_type": "stream",
     "text": [
      "Recall Score: 52.18\n",
      "Accuracy Score: 51.79\n"
     ]
    }
   ],
   "source": [
    "from sklearn.neighbors import KNeighborsClassifier\n",
    "\n",
    "# run initial model with default value (k=5)\n",
    "x_train, x_test, y_train, y_test = train_test_split(df, labels, test_size=0.3)\n",
    "knn = KNeighborsClassifier()\n",
    "knn.fit(x_train, y_train.values.ravel())\n",
    "test_predict = knn.predict(x_test)\n",
    "\n",
    "\n",
    "recall, acc = print_metrics(y_test, test_predict, print_score=True)"
   ]
  },
  {
   "cell_type": "markdown",
   "metadata": {},
   "source": [
    "## Initial KNN model performed slightly better than random guess \n",
    "Accuracy = 51.38% "
   ]
  },
  {
   "cell_type": "code",
   "execution_count": null,
   "metadata": {},
   "outputs": [],
   "source": [
    "# run model again k = 7, 8, 9, 10\n",
    "def multiple_knn(df, labels, ks=[5]):\n",
    "    x_train, x_test, y_train, y_test = train_test_split(df, labels, test_size=0.3)\n",
    "    best_acc = 0\n",
    "    best_k = 0\n",
    "    scores = []\n",
    "\n",
    "    for k in tqdm(ks):\n",
    "        knn = KNeighborsClassifier(n_neighbors=k)\n",
    "        knn.fit(x_train, y_train.values.ravel())\n",
    "        test_predict = knn.predict(x_test)\n",
    "        score = print_metrics(y_test, test_predict)\n",
    "        scores.append(score)\n",
    "        \n",
    "        if best_acc < score[1]:\n",
    "            best_acc = score[1]\n",
    "            best_k = k\n",
    "            \n",
    "        \n",
    "    return best_acc, best_k, scores\n",
    "\n",
    "\n",
    "acc, k, scores = multiple_knn(df, labels, ks=[4, 7, 8, 9, 10])"
   ]
  },
  {
   "cell_type": "code",
   "execution_count": null,
   "metadata": {},
   "outputs": [],
   "source": [
    "print(f\"scores: {scores}\")"
   ]
  },
  {
   "cell_type": "markdown",
   "metadata": {},
   "source": [
    "## Running the model again with a K = 9\n",
    "\n",
    "Recall - 53.25% \n",
    "\n",
    "Accuracy = 52.73%\n",
    "\n",
    "Still slightly better than random guess"
   ]
  },
  {
   "cell_type": "markdown",
   "metadata": {},
   "source": [
    "#  Ensamble methods:"
   ]
  },
  {
   "cell_type": "code",
   "execution_count": null,
   "metadata": {},
   "outputs": [],
   "source": [
    "from sklearn.ensemble import RandomForestClassifier, AdaBoostClassifier"
   ]
  },
  {
   "cell_type": "code",
   "execution_count": null,
   "metadata": {},
   "outputs": [],
   "source": [
    "# get a baseline how random forest performs\n",
    "forest = RandomForestClassifier()\n",
    "mean_forest_score = np.mean(cross_val_score(forest, df, labels, cv=3))*100\n",
    "\n",
    "print(f\"{mean_forest_score}%\")"
   ]
  },
  {
   "cell_type": "code",
   "execution_count": null,
   "metadata": {},
   "outputs": [],
   "source": [
    "# define params grid\n",
    "forest_param_grid = {'criterion': ['gini', 'entropy'],\n",
    "                     'max_depth': [2, 3, 4, 5, 6],\n",
    "                     'min_samples_split': [2, 5, 7, 10],\n",
    "                     'min_samples_leaf': [1, 2, 3, 4, 5, 6]\n",
    "                    }"
   ]
  },
  {
   "cell_type": "code",
   "execution_count": null,
   "metadata": {},
   "outputs": [],
   "source": [
    "# use grid search to find the best paramers for random forest\n",
    "start = time.time()\n",
    "forest_search = GridSearchCV(forest, forest_param_grid, cv=3)\n",
    "forest_search.fit(df, labels)"
   ]
  },
  {
   "cell_type": "code",
   "execution_count": null,
   "metadata": {},
   "outputs": [],
   "source": [
    "forest_accuracy = forest_search.best_score_ * 100\n",
    "best_forest_params = forest_search.best_params_"
   ]
  },
  {
   "cell_type": "code",
   "execution_count": null,
   "metadata": {},
   "outputs": [],
   "source": [
    "# get a baseline how ada boost performs\n",
    "adaboost = AdaBoostClassifier()\n",
    "adaboost_mean_score = np.mean(cross_val_score(adaboost, df, labels, cv=3))\n",
    "\n",
    "print(f\"{adaboost_mean_score}%\")"
   ]
  },
  {
   "cell_type": "markdown",
   "metadata": {},
   "source": [
    "## Running the model using Gridsearch\n",
    "\n",
    "Slightly better than initial random forest: Accuracy = 55.81%\n",
    "\n",
    "#### Optimal Parameters: {'criterion': 'entropy', 'max_depth': 5, 'min_samples_leaf': 6, 'min_samples_split': 7}\n"
   ]
  },
  {
   "cell_type": "code",
   "execution_count": null,
   "metadata": {},
   "outputs": [],
   "source": [
    "adaboost_param_grid = {'n_estimators': [50, 70, 100, 175, 250],\n",
    "                       'learning_rate': [0.7, 0.6, 0.5, 0.2, 0.1]\n",
    "                      }"
   ]
  },
  {
   "cell_type": "code",
   "execution_count": null,
   "metadata": {},
   "outputs": [],
   "source": [
    "ada_grid_search = GridSearchCV(adaboost, adaboost_param_grid, cv=3)\n",
    "tqdm_notebook(ada_grid_search.fit(df, labels))"
   ]
  },
  {
   "cell_type": "code",
   "execution_count": null,
   "metadata": {},
   "outputs": [],
   "source": [
    "ada_acccuracy = ada_grid_search.best_score_\n",
    "ada_best_params = ada_grid_search.best_params_\n",
    "\n",
    "print(f\"{ada_acccuracy}% accuracy\")"
   ]
  },
  {
   "cell_type": "code",
   "execution_count": null,
   "metadata": {},
   "outputs": [],
   "source": [
    "import xgboost as xgb\n",
    "\n",
    "x_train, x_test, y_train, y_test = train_test_split(df, labels, test_size=0.3)\n",
    "\n",
    "# check baseline accuracy for xgboost\n",
    "xgbooster = xgb.XGBClassifier()\n",
    "xgbooster.fit(x_train, y_train)\n",
    "\n",
    "train_pred = xgbooster.predict(x_train)\n",
    "test_pred = xgbooster.predict(x_test)\n",
    "\n",
    "training_accuracy = accuracy_score(y_train, train_pred)\n",
    "val_accuracy = accuracy_score(y_test, test_pred)\n",
    "\n",
    "print(\"Training Accuracy: {:.4}%\".format(training_accuracy * 100))\n",
    "print(\"Validation accuracy: {:.4}%\".format(val_accuracy * 100))"
   ]
  },
  {
   "cell_type": "code",
   "execution_count": null,
   "metadata": {},
   "outputs": [],
   "source": [
    "xg_param_grid = {'learning_rate': [0.4, 0.7], 'max_depth': [5],\n",
    "                 'min_child_weight': [7], 'subsample': [0.7],\n",
    "                 'n_estimators': [100, 200]\n",
    "                }"
   ]
  },
  {
   "cell_type": "code",
   "execution_count": null,
   "metadata": {},
   "outputs": [],
   "source": [
    "# xg_grid = GridSearchCV(xgbooster, xg_param_grid, scoring='accuracy', cv=3, n_jobs=1)\n",
    "# xg_grid.fit(df, labels)\n",
    "\n",
    "best_parameters = xg_grid.best_params_\n",
    "\n",
    "print(\"Grid Search found the following optimal parameters: \")\n",
    "for param_name in sorted(best_parameters.keys()):\n",
    "    print(\"%s: %r\" % (param_name, best_parameters[param_name]))\n",
    "\n",
    "training_preds = xg_grid.predict(x_train)\n",
    "val_preds = xg_grid.predict(x_test)\n",
    "training_accuracy = accuracy_score(y_train, training_preds)\n",
    "val_accuracy = accuracy_score(y_test, val_preds)"
   ]
  },
  {
   "cell_type": "code",
   "execution_count": null,
   "metadata": {},
   "outputs": [],
   "source": [
    "val_accuracy"
   ]
  },
  {
   "cell_type": "code",
   "execution_count": null,
   "metadata": {},
   "outputs": [],
   "source": []
  }
 ],
 "metadata": {
  "kernelspec": {
   "display_name": "Python 3",
   "language": "python",
   "name": "python3"
  },
  "language_info": {
   "codemirror_mode": {
    "name": "ipython",
    "version": 3
   },
   "file_extension": ".py",
   "mimetype": "text/x-python",
   "name": "python",
   "nbconvert_exporter": "python",
   "pygments_lexer": "ipython3",
   "version": "3.7.1"
  }
 },
 "nbformat": 4,
 "nbformat_minor": 2
}
