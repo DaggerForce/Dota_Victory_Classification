{
 "cells": [
  {
   "cell_type": "code",
   "execution_count": 1,
   "metadata": {},
   "outputs": [],
   "source": [
    "from tqdm import tqdm\n",
    "import numpy as np\n",
    "import pandas as pd\n",
    "import seaborn as sns\n",
    "import matplotlib.pyplot as plt\n",
    "%matplotlib inline\n",
    "plt.style.use('ggplot')\n",
    "import itertools\n",
    "\n",
    "from sklearn.metrics import recall_score, accuracy_score, roc_curve, auc, confusion_matrix\n",
    "from sklearn.model_selection import train_test_split, GridSearchCV, cross_val_score"
   ]
  },
  {
   "cell_type": "code",
   "execution_count": 2,
   "metadata": {},
   "outputs": [],
   "source": [
    "# open the pre-processed csv file and split the target variable from the classifiers\n",
    "df = pd.read_csv('dota2_cleaned.csv')\n",
    "\n",
    "# Shuffle the dataframe before the train test split  \n",
    "df = df.sample(frac=1).reset_index(drop=True)"
   ]
  },
  {
   "cell_type": "code",
   "execution_count": 3,
   "metadata": {},
   "outputs": [],
   "source": [
    "#separate the target variable\n",
    "labels = df['Won']\n",
    "df.drop(['Won'], axis=1, inplace=True)"
   ]
  },
  {
   "cell_type": "code",
   "execution_count": 4,
   "metadata": {},
   "outputs": [],
   "source": [
    "def print_metrics(labels, predictions, print_score=None):\n",
    "    ''' This function receives model predictions along with the actual labels\n",
    "        and returns the precision score, recall, accuracy and F1'''\n",
    "    \n",
    "    recall = round(recall_score(labels, predictions)*100, 2)\n",
    "    acc = round(accuracy_score(labels, predictions)*100, 2)\n",
    "    \n",
    "    if print_score:\n",
    "        print(f\"Recall Score: {recall}\")\n",
    "        print(f\"Accuracy Score: {acc}\")\n",
    "        \n",
    "    return recall, acc"
   ]
  },
  {
   "cell_type": "code",
   "execution_count": 5,
   "metadata": {},
   "outputs": [],
   "source": [
    "def plot_confusion_matrix(y_test, y_pred):\n",
    "    matrix = confusion_matrix(y_test, y_pred)\n",
    "    plt.imshow(matrix,  cmap=plt.cm.Blues)\n",
    "\n",
    "    #Add title and Axis Labels\n",
    "    plt.title('Confusion Matrix')\n",
    "    plt.ylabel('True label')\n",
    "    plt.xlabel('Predicted label')\n",
    "\n",
    "    #Add appropriate Axis Scales\n",
    "    class_names = set(y_test)\n",
    "    tick_marks = np.arange(len(class_names))\n",
    "    plt.xticks(tick_marks, class_names, rotation=45)\n",
    "    plt.yticks(tick_marks, class_names)\n",
    "\n",
    "    #Add Labels to Each Cell\n",
    "    thresh = matrix.max() / 2. #Used for text coloring below\n",
    "    \n",
    "    #iterate through the confusion matrix and append the labels\n",
    "    for i, j in itertools.product(range(matrix.shape[0]), range(matrix.shape[1])):\n",
    "            plt.text(j, i, matrix[i, j],\n",
    "                     horizontalalignment=\"center\",\n",
    "                     color=\"white\" if matrix[i, j] > thresh else \"black\")\n",
    "\n",
    "    #Add a Side Bar Legend Showing Colors\n",
    "    plt.colorbar()"
   ]
  },
  {
   "cell_type": "code",
   "execution_count": 6,
   "metadata": {},
   "outputs": [],
   "source": [
    "# Create seprate training and testing sets\n",
    "x_train, x_test, y_train, y_test = train_test_split(df, labels, test_size=0.25)"
   ]
  },
  {
   "cell_type": "markdown",
   "metadata": {},
   "source": [
    "#   KNN Model:"
   ]
  },
  {
   "cell_type": "code",
   "execution_count": 7,
   "metadata": {},
   "outputs": [
    {
     "name": "stdout",
     "output_type": "stream",
     "text": [
      "Recall Score: 52.56\n",
      "Accuracy Score: 52.21\n"
     ]
    }
   ],
   "source": [
    "from sklearn.neighbors import KNeighborsClassifier\n",
    "# run initial model with default values\n",
    "knn = KNeighborsClassifier()\n",
    "knn.fit(x_train, y_train.values.ravel())\n",
    "\n",
    "knn_pred = knn.predict(x_test)\n",
    "\n",
    "k5recall, k5acc = print_metrics(y_test, knn_pred, print_score=True)"
   ]
  },
  {
   "cell_type": "code",
   "execution_count": 8,
   "metadata": {},
   "outputs": [
    {
     "data": {
      "image/png": "[encoded data removed]",
      "text/plain": [
       "<Figure size 432x288 with 2 Axes>"
      ]
     },
     "metadata": {
      "needs_background": "light"
     },
     "output_type": "display_data"
    }
   ],
   "source": [
    " plot_confusion_matrix(y_test, knn_pred)"
   ]
  },
  {
   "cell_type": "code",
   "execution_count": null,
   "metadata": {},
   "outputs": [],
   "source": [
    "# find the most important features"
   ]
  },
  {
   "cell_type": "markdown",
   "metadata": {},
   "source": [
    "## Initial KNN model performed slightly better than random guess \n",
    "Recall Score: 53.25%\n",
    "\n",
    "Accuracy Score: 51.72%"
   ]
  },
  {
   "cell_type": "code",
   "execution_count": null,
   "metadata": {},
   "outputs": [],
   "source": [
    "def multiple_knn(df, labels, ks=[5]):\n",
    "    x_train, x_test, y_train, y_test = train_test_split(df, labels, test_size=0.3)\n",
    "    best_acc = 0\n",
    "    best_k = 0\n",
    "    scores = []\n",
    "\n",
    "    for k in tqdm(ks):\n",
    "        knn = KNeighborsClassifier(n_neighbors=k)\n",
    "        knn.fit(x_train, y_train.values.ravel())\n",
    "        test_predict = knn.predict(x_test)\n",
    "        score = print_metrics(y_test, test_predict)\n",
    "        scores.append(score)\n",
    "        \n",
    "        if best_acc < score[1]:\n",
    "            best_acc = score[1]\n",
    "            best_k = k\n",
    "            \n",
    "        \n",
    "    return best_acc, best_k, scores"
   ]
  },
  {
   "cell_type": "code",
   "execution_count": null,
   "metadata": {},
   "outputs": [],
   "source": [
    "# run model again k = 4, 6, 7, 8, 9\n",
    "acc, k, scores = multiple_knn(df, labels, ks=[4, 6, 7, 8, 9])\n",
    "print(f\"scores: {scores}, k: {k}\")"
   ]
  },
  {
   "cell_type": "code",
   "execution_count": null,
   "metadata": {},
   "outputs": [],
   "source": [
    "# run model again k = 4, 10, 11, 12\n",
    "acc, k, scores = multiple_knn(df, labels, ks=[4, 10, 11, 12])\n",
    "print(f\"scores: {scores}, k: {k}\")"
   ]
  },
  {
   "cell_type": "markdown",
   "metadata": {},
   "source": [
    "### KNN = 12\n",
    "\n",
    "\n",
    "#### Recall - 42.94% \n",
    "\n",
    "#### Accuracy = 52.24%\n"
   ]
  },
  {
   "cell_type": "code",
   "execution_count": null,
   "metadata": {},
   "outputs": [],
   "source": [
    "knn = KNeighborsClassifier(n_neighbors=12)\n",
    "knn.fit(x_train, y_train.values.ravel())\n",
    "\n",
    "k12_predict = knn.predict(x_test)\n",
    "\n",
    "k12recall, k12acc = print_metrics(y_test, k12_predict, print_score=True)"
   ]
  },
  {
   "cell_type": "markdown",
   "metadata": {},
   "source": [
    "# Decision Trees"
   ]
  },
  {
   "cell_type": "code",
   "execution_count": null,
   "metadata": {},
   "outputs": [],
   "source": [
    "from sklearn.tree import DecisionTreeClassifier \n",
    "# run initial model to evaluate the base line\n",
    "from sklearn import tree \n",
    "from sklearn.externals.six import StringIO  \n",
    "from IPython.display import Image  \n",
    "from sklearn.tree import export_graphviz\n",
    "import pydotplus\n",
    "from sklearn.pipeline import make_pipeline"
   ]
  },
  {
   "cell_type": "code",
   "execution_count": null,
   "metadata": {},
   "outputs": [],
   "source": [
    "tree = DecisionTreeClassifier(random_state=10)  \n",
    "tree.fit(x_train, y_train)\n",
    "\n",
    "# predict\n",
    "tree_pred = tree.predict(x_test)\n",
    "\n",
    "# get prediction accuracy\n",
    "tree_recall, tree_acc = print_metrics(y_test, tree_pred, print_score=True)"
   ]
  },
  {
   "cell_type": "code",
   "execution_count": null,
   "metadata": {},
   "outputs": [],
   "source": [
    "# Identify the optimal tree depth for given data\n",
    "def find_optimal_depth(x_train, x_test, y_train, y_test):   \n",
    "    #declare variables\n",
    "    max_depths = np.linspace(1, 10, 10, endpoint=True)\n",
    "    train_results = []\n",
    "    test_results = []\n",
    "    # iterate over the different depths\n",
    "    for depth in max_depths:\n",
    "        trees = DecisionTreeClassifier(criterion='entropy', max_depth=depth)\n",
    "        trees.fit(x_train, y_train)\n",
    "        \n",
    "        # Add auc score to train list\n",
    "        train_pred = trees.predict(x_train)\n",
    "        fpr, tpr, thresholds = roc_curve(y_train, train_pred)\n",
    "        roc_auc = auc(fpr, tpr)\n",
    "        train_results.append(roc_auc)\n",
    "        \n",
    "        # Add auc score to test list\n",
    "        test_pred = trees.predict(x_test)\n",
    "        fpr, tpr, thresholds = roc_curve(y_test, test_pred)\n",
    "        roc_auc = auc(fpr, tpr)\n",
    "        test_results.append(roc_auc)\n",
    "        \n",
    "    plt.figure(figsize=(12,6))\n",
    "    plt.plot(max_depths, train_results, 'b', label='Train AUC')\n",
    "    plt.plot(max_depths, test_results, 'r', label='Test AUC')\n",
    "    plt.ylabel('AUC score')\n",
    "    plt.xlabel('Tree depth')\n",
    "    plt.legend()\n",
    "    plt.show()\n",
    "    pass"
   ]
  },
  {
   "cell_type": "code",
   "execution_count": null,
   "metadata": {},
   "outputs": [],
   "source": [
    "# find the optimal depth\n",
    "find_optimal_param(x_train, x_test, y_train, y_test)"
   ]
  },
  {
   "cell_type": "code",
   "execution_count": null,
   "metadata": {},
   "outputs": [],
   "source": [
    "tree_param_grid = {'criterion': ['entropy'],\n",
    "                  'max_depth': [3, 4, 6, 7],\n",
    "                  'min_samples_split': [3, 5, 6, 7],\n",
    "                  'min_samples_leaf': [3, 4, 5, 6]\n",
    "                  }               \n",
    "\n",
    "tree_gs = GridSearchCV(tree, param_grid=tree_param_grid, scoring='accuracy', cv=5)\n",
    "tree_grid = tree_gs.fit(x_train, y_train.values.ravel())"
   ]
  },
  {
   "cell_type": "code",
   "execution_count": null,
   "metadata": {},
   "outputs": [],
   "source": [
    "print(tree_grid.best_params_)"
   ]
  },
  {
   "cell_type": "code",
   "execution_count": null,
   "metadata": {},
   "outputs": [],
   "source": [
    "# fit the optimal tree\n",
    "optimal_tree = tree_grid.best_estimator_\n",
    "optimal_tree.fit(x_train, y_train)\n",
    "# predict\n",
    "opt_tree_pred = optimal_tree.predict(x_test)\n",
    "\n",
    "# get prediction accuracy\n",
    "opt_tree_recall, opt_tree_acc = print_metrics(y_test, opt_tree_pred, print_score=True)"
   ]
  },
  {
   "cell_type": "markdown",
   "metadata": {},
   "source": [
    "### Optimal Parameters: {'criterion': 'entropy', 'max_depth': 6, 'min_samples_leaf': 6, 'min_samples_split': 3}\n",
    "\n",
    "#### Recall - 46.62% \n",
    "\n",
    "#### Accuracy = 54.39%"
   ]
  },
  {
   "cell_type": "markdown",
   "metadata": {},
   "source": [
    "# Random Forest"
   ]
  },
  {
   "cell_type": "code",
   "execution_count": null,
   "metadata": {},
   "outputs": [],
   "source": [
    "from sklearn.ensemble import RandomForestClassifier, AdaBoostClassifier"
   ]
  },
  {
   "cell_type": "code",
   "execution_count": null,
   "metadata": {},
   "outputs": [],
   "source": [
    "# get a baseline how random forest performs\n",
    "forest = RandomForestClassifier(random_state=10)\n",
    "forest.fit(x_train, y_train.values.ravel())\n",
    "\n",
    "# predcit\n",
    "forest_test_pred = forest.predict(x_test)\n",
    "\n",
    "# testing accuracy\n",
    "f_recall, f_acc = print_metrics(y_test, forest_test_pred, print_score=True)"
   ]
  },
  {
   "cell_type": "markdown",
   "metadata": {},
   "source": [
    "### Random Forest Using Gridsearch"
   ]
  },
  {
   "cell_type": "code",
   "execution_count": null,
   "metadata": {},
   "outputs": [],
   "source": [
    "# define params grid\n",
    "forest_param_grid = {'criterion': ['gini', 'entropy'],\n",
    "                     'max_depth': [3, 4, 6, 7],\n",
    "                     'min_samples_split': [3, 5, 6, 7, 10, 15],\n",
    "                     'min_samples_leaf': [3, 4, 5, 6, 9, 12]\n",
    "                    }                    "
   ]
  },
  {
   "cell_type": "code",
   "execution_count": null,
   "metadata": {
    "scrolled": true
   },
   "outputs": [],
   "source": [
    "# Use grid search to find the best paramers for random forest\n",
    "forest_search = GridSearchCV(forest, forest_param_grid, cv=3, verbose=1, scoring='accuracy')\n",
    "forest_search.fit(x_train, y_train.values.ravel())\n",
    "\n",
    "# predcit the testing data\n",
    "forest_grid_test_pred = forest_search.predict(x_test)\n",
    "\n",
    "# test how the model performs \n",
    "forest_grid_recall, forest_grid_acc = print_metrics(y_test, forest_grid_test_pred, print_score=True)\n",
    "best_forest_params = forest_search.best_params_\n",
    "\n",
    "#best paramters\n",
    "print(f\"Best paramaters: {best_forest_params}\")"
   ]
  },
  {
   "cell_type": "code",
   "execution_count": null,
   "metadata": {},
   "outputs": [],
   "source": [
    "plot_confusion_matrix(y_test, forest_grid_test_pred)"
   ]
  },
  {
   "cell_type": "markdown",
   "metadata": {},
   "source": [
    "#### Optimal Parameters: {'criterion': 'gini', 'max_depth': 4, 'min_samples_leaf': 3, 'min_samples_split': 7}\n",
    "\n",
    "Accuracy = 55.23%"
   ]
  },
  {
   "cell_type": "markdown",
   "metadata": {},
   "source": [
    "# AdaBoost"
   ]
  },
  {
   "cell_type": "code",
   "execution_count": null,
   "metadata": {},
   "outputs": [],
   "source": [
    "# get a baseline on how ada boost performs\n",
    "adaboost = AdaBoostClassifier()\n",
    "adaboost.fit(x_train, y_train.values.ravel())\n",
    "\n",
    "# predict\n",
    "adaboost_test_pred = adaboost.predict(x_test)\n",
    "\n",
    "# test how the model performs \n",
    "ada_recall, ada_accuracy = print_metrics(y_test, adaboost_test_pred, print_score=True)"
   ]
  },
  {
   "cell_type": "code",
   "execution_count": null,
   "metadata": {},
   "outputs": [],
   "source": [
    "plot_confusion_matrix(y_test, adaboost_test_pred, classes=['Won', 'Lost'], title='Won or Lost')"
   ]
  },
  {
   "cell_type": "markdown",
   "metadata": {},
   "source": [
    "### AdaBoost Using Gridsearch"
   ]
  },
  {
   "cell_type": "code",
   "execution_count": null,
   "metadata": {},
   "outputs": [],
   "source": [
    "adaboost_param_grid = {'n_estimators': [70, 150, 200, 250, 270, 300],\n",
    "                       'learning_rate': [0.4, 0.2, 0.1]\n",
    "                      }"
   ]
  },
  {
   "cell_type": "code",
   "execution_count": null,
   "metadata": {},
   "outputs": [],
   "source": [
    "#fit adaboost with a paramters grid\n",
    "ada_grid_search = GridSearchCV(adaboost, adaboost_param_grid, scoring='accuracy', cv=4)\n",
    "ada_grid_search.fit(x_train, y_train.values.ravel())\n",
    "\n",
    "# predict \n",
    "adagrid_pred = ada_grid_search.predict(x_test)\n",
    "\n",
    "# test how well the model performs \n",
    "adagrid_recall, adagrid_accuracy = print_metrics(y_test, adagrid_pred, print_score=True)\n",
    "\n",
    "#best paramters\n",
    "best_ada_params = ada_grid_search.best_params_"
   ]
  },
  {
   "cell_type": "code",
   "execution_count": null,
   "metadata": {},
   "outputs": [],
   "source": [
    "#changing the hyper paramaters\n",
    "adaboost_param_grid2 = {'n_estimators': [50, 70, 100, 150,],\n",
    "                       'learning_rate': [0.6, 0.5, 0.4, 0.3]\n",
    "                      }\n",
    "\n",
    "# fitting a new model with different hyper paramaters\n",
    "ada_grid_search2 = GridSearchCV(adaboost, adaboost_param_grid2, scoring='accuracy', cv=4)\n",
    "ada_grid_search2.fit(x_train, y_train.values.ravel())\n",
    "\n",
    "# predict \n",
    "adagrid_pred2 = ada_grid_search2.predict(x_test)\n",
    "\n",
    "# test how well the model performs \n",
    "adagrid_recall2, adagrid_accuracy2 = print_metrics(y_test, adagrid_pred2, print_score=True)\n",
    "\n",
    "#best paramters\n",
    "best_ada_params2 = ada_grid_search2.best_params_"
   ]
  },
  {
   "cell_type": "code",
   "execution_count": null,
   "metadata": {},
   "outputs": [],
   "source": [
    "print(best_ada_params2)"
   ]
  },
  {
   "cell_type": "markdown",
   "metadata": {},
   "source": [
    "### Optimal Parameters: {learning_rate': 0.4, 'n_estimators': 150}\n",
    "#### Score = 56.36%"
   ]
  },
  {
   "cell_type": "markdown",
   "metadata": {},
   "source": [
    "# XGBoost"
   ]
  },
  {
   "cell_type": "code",
   "execution_count": null,
   "metadata": {},
   "outputs": [],
   "source": [
    "import xgboost as xgb\n",
    "\n",
    "# check baseline accuracy for xgboost\n",
    "xgbooster = xgb.XGBClassifier()\n",
    "xgbooster.fit(x_train, y_train.values.ravel())\n",
    "\n",
    "# predict\n",
    "xgb_pred = xgbooster.predict(x_test)\n",
    "\n",
    "# test how well the model performs \n",
    "xgb_recall, xgb_accuracy = print_metrics(y_test, xgb_pred, print_score=True)"
   ]
  },
  {
   "cell_type": "code",
   "execution_count": null,
   "metadata": {},
   "outputs": [],
   "source": [
    "plot_confusion_matrix(y_test, xgb_pred, classes=['Won', 'Lost'], title='Won or Lost')"
   ]
  },
  {
   "cell_type": "code",
   "execution_count": null,
   "metadata": {},
   "outputs": [],
   "source": [
    "xgbooster.feature_importances_"
   ]
  },
  {
   "cell_type": "markdown",
   "metadata": {},
   "source": [
    "### XGBoost Using Gridsearch"
   ]
  },
  {
   "cell_type": "code",
   "execution_count": null,
   "metadata": {},
   "outputs": [],
   "source": [
    "xg_param_grid = {'learning_rate': [0.2, 0.4], 'max_depth': [7], \n",
    "                 'min_child_weight': [5, 6], 'subsample': [0.7],\n",
    "                 'n_estimators': [100, 120, 150]\n",
    "                }"
   ]
  },
  {
   "cell_type": "code",
   "execution_count": null,
   "metadata": {},
   "outputs": [],
   "source": [
    "xg_grid = GridSearchCV(xgbooster, xg_param_grid, scoring='accuracy', cv=3, n_jobs=1)\n",
    "xg_grid.fit(x_train, y_train.values.ravel())\n",
    "\n",
    "\n",
    "# predict\n",
    "xg_grid_preds = xg_grid.predict(x_test)\n",
    "\n",
    "# test how well the model performs \n",
    "xg_grid_recall, xg_grid_acc = print_metrics(y_test, xg_grid_preds, print_score=True)\n",
    "best_parameters = xg_grid.best_params_\n",
    "\n",
    "print(best_parameters)"
   ]
  },
  {
   "cell_type": "code",
   "execution_count": null,
   "metadata": {},
   "outputs": [],
   "source": [
    "xg_grid."
   ]
  },
  {
   "cell_type": "code",
   "execution_count": null,
   "metadata": {},
   "outputs": [],
   "source": [
    "'learning_rate': 0.2, 'max_depth': 8, 'min_child_weight': 5, 'n_estimators': 100, 'subsample': 0.7}\n",
    "0.708952380952381\n",
    "0.7056666666666667"
   ]
  },
  {
   "cell_type": "code",
   "execution_count": null,
   "metadata": {},
   "outputs": [],
   "source": [
    "def feature_importance(model, x_train):\n",
    "    importances = model.feature_importances_\n",
    "    # Sort feature importances in descending order\n",
    "    indices = np.argsort(importances)[::-1]\n",
    "     \n",
    "    if indices > 10:\n",
    "        indices = indices[::10]\n",
    "        features = x_train.shape[1]\n"
   ]
  },
  {
   "cell_type": "code",
   "execution_count": null,
   "metadata": {},
   "outputs": [],
   "source": [
    "plt.figure(figsize=(20, 20))\n",
    "plt.barh(range(x_train.shape[1]), xgbooster.feature_importances_, align='center')\n",
    "plt.yticks(np.arange(x_train.shape[1]), x_train.columns.values)\n",
    "plt.xlabel(\"Feature importance\")\n",
    "plt.ylabel(\"Feature\")"
   ]
  },
  {
   "cell_type": "code",
   "execution_count": null,
   "metadata": {},
   "outputs": [],
   "source": [
    "def plot_feature_importances(model):\n",
    "   n_features = X_train.shape[1]\n",
    "   plt.figure(figsize=(8,8))\n",
    "   plt.barh(range(n_features), model.feature_importances_, align='center')\n",
    "   plt.yticks(np.arange(n_features), X_train.columns.values)\n",
    "   plt.xlabel(\"Feature importance\")\n",
    "   plt.ylabel(\"Feature\")"
   ]
  },
  {
   "cell_type": "code",
   "execution_count": null,
   "metadata": {},
   "outputs": [],
   "source": [
    "a = np.argsort(xgbooster.feature_importances_)[::-1]"
   ]
  },
  {
   "cell_type": "code",
   "execution_count": null,
   "metadata": {},
   "outputs": [],
   "source": [
    "xgbooster.feature_importances_"
   ]
  },
  {
   "cell_type": "code",
   "execution_count": null,
   "metadata": {},
   "outputs": [],
   "source": [
    "a[10::]"
   ]
  },
  {
   "cell_type": "code",
   "execution_count": null,
   "metadata": {},
   "outputs": [],
   "source": []
  }
 ],
 "metadata": {
  "kernelspec": {
   "display_name": "Python 3",
   "language": "python",
   "name": "python3"
  },
  "language_info": {
   "codemirror_mode": {
    "name": "ipython",
    "version": 3
   },
   "file_extension": ".py",
   "mimetype": "text/x-python",
   "name": "python",
   "nbconvert_exporter": "python",
   "pygments_lexer": "ipython3",
   "version": "3.7.4"
  }
 },
 "nbformat": 4,
 "nbformat_minor": 2
}
