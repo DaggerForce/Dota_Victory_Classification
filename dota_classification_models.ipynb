{
 "cells": [
  {
   "cell_type": "code",
   "execution_count": null,
   "metadata": {},
   "outputs": [],
   "source": [
    "from sklearn.model_selection import RandomizedSearchCV\n",
    "from scipy.stats import randint\n",
    "​\n",
    "param_distrib = {\"max_depth\": randint(1, 50),\n",
    "              \"max_features\": randint(1, 16),\n",
    "                 \"min_samples_leaf\": randint(2, 1000),\n",
    "              \"min_samples_split\": randint(2, 1000),\n",
    "                }\n",
    "​\n",
    "clf = RandomizedSearchCV(RandomForestClassifier(), param_distrib, n_iter=1000)"
   ]
  },
  {
   "cell_type": "code",
   "execution_count": null,
   "metadata": {},
   "outputs": [],
   "source": [
    "from tqdm import tqdm\n",
    "import numpy as np\n",
    "import pandas as pd\n",
    "import seaborn as sns\n",
    "import matplotlib.pyplot as plt\n",
    "%matplotlib inline\n",
    "plt.style.use('ggplot')\n",
    "import itertools\n",
    "import helper_functions as hlf\n",
    "\n",
    "from scipy.stats import randint\n",
    "from sklearn.metrics import recall_score, accuracy_score, roc_curve, auc, confusion_matrix\n",
    "from sklearn.model_selection import train_test_split, GridSearchCV, RandomizedSearchCV"
   ]
  },
  {
   "cell_type": "code",
   "execution_count": null,
   "metadata": {},
   "outputs": [],
   "source": [
    "# open the pre-processed csv file and split the target variable from the classifiers\n",
    "df = pd.read_csv('dota2_scaled.csv')"
   ]
  },
  {
   "cell_type": "code",
   "execution_count": null,
   "metadata": {},
   "outputs": [],
   "source": [
    "#separate the target variable\n",
    "labels = df['Won']\n",
    "df.drop(['Won'], axis=1, inplace=True)"
   ]
  },
  {
   "cell_type": "code",
   "execution_count": null,
   "metadata": {},
   "outputs": [],
   "source": [
    "def print_metrics(labels, predictions, print_score=None):\n",
    "    ''' This function receives model predictions along with the actual labels\n",
    "        and returns the precision score, recall, accuracy and F1'''\n",
    "    \n",
    "    recall = round(recall_score(labels, predictions)*100, 2)\n",
    "    acc = round(accuracy_score(labels, predictions)*100, 2)\n",
    "    \n",
    "    if print_score:\n",
    "        print(f\"Recall Score: {recall}\")\n",
    "        print(f\"Accuracy Score: {acc}\")\n",
    "        \n",
    "    return recall, acc"
   ]
  },
  {
   "cell_type": "code",
   "execution_count": null,
   "metadata": {},
   "outputs": [],
   "source": [
    "def plot_confusion_matrix(y_test, y_pred):\n",
    "    matrix = confusion_matrix(y_test, y_pred)\n",
    "    plt.matshow(matrix,  cmap=plt.cm.RdYlBu, aspect=1.75, alpha=0.5)\n",
    "\n",
    "    #Add title and Axis Labels\n",
    "    plt.ylabel('Actual')\n",
    "    plt.xlabel('Predicted')\n",
    "\n",
    "    #Add appropriate Axis Scales\n",
    "    class_names = ['Lose', 'Win']\n",
    "    tick_marks = np.arange(len(class_names))\n",
    "    plt.xticks(tick_marks, class_names, rotation=45)\n",
    "    plt.yticks(tick_marks, class_names)\n",
    "    plt.grid(b=None)\n",
    "    \n",
    "    #Add Labels to Each Cell\n",
    "    thresh = matrix.max() / 2. #Used for text coloring below\n",
    "    \n",
    "    #iterate through the confusion matrix and append the labels\n",
    "    for i, j in itertools.product(range(matrix.shape[0]), range(matrix.shape[1])):\n",
    "            plt.text(j, i, matrix[i, j],\n",
    "                     horizontalalignment=\"center\",\n",
    "                     color=\"black\" if matrix[i, j] > thresh else \"black\")\n",
    "\n",
    "    #Add a Side Bar Legend Showing Colors\n",
    "    plt.colorbar()\n",
    "    return"
   ]
  },
  {
   "cell_type": "code",
   "execution_count": null,
   "metadata": {},
   "outputs": [],
   "source": [
    "# Create seprate training and testing sets\n",
    "x_train, x_test, y_train, y_test = train_test_split(df, labels, test_size=0.25)"
   ]
  },
  {
   "cell_type": "code",
   "execution_count": null,
   "metadata": {},
   "outputs": [],
   "source": [
    "from sklearn.dummy import DummyClassifier\n",
    "dummy = DummyClassifier(strategy='stratified', random_state=123)\n",
    "dummy.fit(x_train, y_train)\n",
    "\n",
    "dummy_pred = dummy.predict(x_test)\n",
    "hlf.print_metrics(y_test, dummy_pred)"
   ]
  },
  {
   "cell_type": "markdown",
   "metadata": {},
   "source": [
    "#   KNN Model:"
   ]
  },
  {
   "cell_type": "code",
   "execution_count": null,
   "metadata": {},
   "outputs": [],
   "source": [
    "from sklearn.neighbors import KNeighborsClassifier\n",
    "\n",
    "# run initial model with default values\n",
    "knn = KNeighborsClassifier()\n",
    "knn.fit(x_train, y_train.values.ravel())\n",
    "\n",
    "knn_pred = knn.predict(x_test)\n",
    "\n",
    "k5recall, k5acc = hlf.print_metrics(y_test, knn_pred, print_score=True)"
   ]
  },
  {
   "cell_type": "code",
   "execution_count": null,
   "metadata": {},
   "outputs": [],
   "source": [
    "hlf.plot_confusion_matrix(y_test, knn_pred)"
   ]
  },
  {
   "cell_type": "markdown",
   "metadata": {},
   "source": [
    "## Initial KNN model performed too good \n",
    "Recall Score: 100%\n",
    "\n",
    "Accuracy Score: 99%"
   ]
  },
  {
   "cell_type": "code",
   "execution_count": null,
   "metadata": {},
   "outputs": [],
   "source": [
    "def multiple_knn(df, labels, ks=[5]):\n",
    "    x_train, x_test, y_train, y_test = train_test_split(df, labels, test_size=0.2)\n",
    "    best_acc = 0\n",
    "    best_k = 0\n",
    "    scores = []\n",
    "\n",
    "    for k in tqdm(ks):\n",
    "        knn = KNeighborsClassifier(n_neighbors=k)\n",
    "        knn.fit(x_train, y_train.values.ravel())\n",
    "        test_predict = knn.predict(x_test)\n",
    "        score = hlf.print_metrics(y_test, test_predict)\n",
    "        scores.append(score)\n",
    "        \n",
    "        if best_acc < score[1]:\n",
    "            best_acc = score[1]\n",
    "            best_k = k\n",
    "            \n",
    "        \n",
    "    return best_acc, best_k, scores"
   ]
  },
  {
   "cell_type": "code",
   "execution_count": null,
   "metadata": {},
   "outputs": [],
   "source": [
    "# run model again k = 1, 5, 6, 7\n",
    "acc, k, scores = multiple_knn(df, labels, ks=[1, 4, 5, 6, 30])\n",
    "print(f\"scores: {scores}, k: {k}\")"
   ]
  },
  {
   "cell_type": "markdown",
   "metadata": {},
   "source": [
    "### KNN = 4\n",
    "\n",
    "\n",
    "#### Recall - 100% \n",
    "\n",
    "#### Accuracy = 100%\n"
   ]
  },
  {
   "cell_type": "code",
   "execution_count": null,
   "metadata": {},
   "outputs": [],
   "source": [
    "# run KNN again with k neighbots \n",
    "knn = KNeighborsClassifier(n_neighbors=4)\n",
    "knn.fit(x_train, y_train.values.ravel())\n",
    "\n",
    "# predict\n",
    "k4_predict = knn.predict(x_test)\n",
    "\n",
    "# test how the model performed\n",
    "k4_recall, k4_acc = print_metrics(y_test, k4_predict, print_score=True)\n",
    "\n",
    "# plot confusion matrix\n",
    "plot_confusion_matrix(y_test, k4_predict)"
   ]
  },
  {
   "cell_type": "markdown",
   "metadata": {},
   "source": [
    "# Decision Trees"
   ]
  },
  {
   "cell_type": "code",
   "execution_count": null,
   "metadata": {},
   "outputs": [],
   "source": [
    "from sklearn.tree import DecisionTreeClassifier \n",
    "from sklearn import tree \n",
    "from sklearn.externals.six import StringIO  \n",
    "from IPython.display import Image  \n",
    "from sklearn.tree import export_graphviz\n",
    "import pydotplus"
   ]
  },
  {
   "cell_type": "code",
   "execution_count": null,
   "metadata": {},
   "outputs": [],
   "source": [
    "tree = DecisionTreeClassifier(max_depth=3, random_state=10)  \n",
    "tree.fit(x_train, y_train)\n",
    "\n",
    "# predict\n",
    "tree_pred = tree.predict(x_test)\n",
    "\n",
    "# get prediction accuracy\n",
    "tree_recall, tree_acc = hlf.print_metrics(y_test, tree_pred, print_score=True)"
   ]
  },
  {
   "cell_type": "code",
   "execution_count": null,
   "metadata": {},
   "outputs": [],
   "source": [
    "hlf.plot_confusion_matrix(y_test, tree_pred)"
   ]
  },
  {
   "cell_type": "code",
   "execution_count": null,
   "metadata": {},
   "outputs": [],
   "source": [
    "hlf.plot_feature_importance(tree, x_train, n=30)"
   ]
  },
  {
   "cell_type": "code",
   "execution_count": null,
   "metadata": {},
   "outputs": [],
   "source": [
    "# Identify the optimal tree depth for given data\n",
    "def find_optimal_depth(x_train, x_test, y_train, y_test):   \n",
    "    #declare variables\n",
    "    max_depths = np.linspace(1, 20, 20, endpoint=True)\n",
    "    train_results = []\n",
    "    test_results = []\n",
    "    # iterate over the different depths\n",
    "    for depth in max_depths:\n",
    "        trees = DecisionTreeClassifier(criterion='entropy', max_depth=depth)\n",
    "        trees.fit(x_train, y_train)\n",
    "        \n",
    "        # Add auc score to train list\n",
    "        train_pred = trees.predict(x_train)\n",
    "        fpr, tpr, thresholds = roc_curve(y_train, train_pred)\n",
    "        roc_auc = auc(fpr, tpr)\n",
    "        train_results.append(roc_auc)\n",
    "        \n",
    "        # Add auc score to test list\n",
    "        test_pred = trees.predict(x_test)\n",
    "        fpr, tpr, thresholds = roc_curve(y_test, test_pred)\n",
    "        roc_auc = auc(fpr, tpr)\n",
    "        test_results.append(roc_auc)\n",
    "        \n",
    "    plt.figure(figsize=(12,6))\n",
    "    plt.plot(max_depths, train_results, 'b', label='Train AUC')\n",
    "    plt.plot(max_depths, test_results, 'r', label='Test AUC')\n",
    "    plt.ylabel('AUC score')\n",
    "    plt.xlabel('Tree depth')\n",
    "    plt.legend()\n",
    "    plt.show()\n",
    "    pass"
   ]
  },
  {
   "cell_type": "code",
   "execution_count": null,
   "metadata": {},
   "outputs": [],
   "source": [
    "# find the optimal depth to narrow down search and avoid over fitting\n",
    "find_optimal_depth(x_train, x_test, y_train, y_test)"
   ]
  },
  {
   "cell_type": "code",
   "execution_count": null,
   "metadata": {},
   "outputs": [],
   "source": [
    "tree_param_grid = {'criterion': ['entropy'],\n",
    "                  'max_depth': [5],\n",
    "                  'min_samples_split': [3, 5, 6, 7, 8, 9, 12],\n",
    "                  'min_samples_leaf': [2,3, 4, 5, 6, 7, 8, 12]\n",
    "                  }               \n",
    "\n",
    "tree_gs = GridSearchCV(tree, param_grid=tree_param_grid, scoring='accuracy', cv=4)\n",
    "tree_grid = tree_gs.fit(x_train, y_train.values.ravel())"
   ]
  },
  {
   "cell_type": "code",
   "execution_count": null,
   "metadata": {},
   "outputs": [],
   "source": [
    "# fit the optimal tree\n",
    "optimal_tree = tree_grid.best_estimator_\n",
    "optimal_tree.fit(x_train, y_train)\n",
    "# predict\n",
    "opt_tree_pred = optimal_tree.predict(x_test)\n",
    "\n",
    "# get prediction accuracy\n",
    "opt_tree_recall, opt_tree_acc = print_metrics(y_test, opt_tree_pred, print_score=True)"
   ]
  },
  {
   "cell_type": "code",
   "execution_count": null,
   "metadata": {},
   "outputs": [],
   "source": [
    "plot_confusion_matrix(y_test, opt_tree_pred)"
   ]
  },
  {
   "cell_type": "code",
   "execution_count": null,
   "metadata": {},
   "outputs": [],
   "source": [
    "plot_feature_importance(optimal_tree, x_test)"
   ]
  },
  {
   "cell_type": "code",
   "execution_count": null,
   "metadata": {},
   "outputs": [],
   "source": [
    "print(tree_grid.best_params_)"
   ]
  },
  {
   "cell_type": "markdown",
   "metadata": {},
   "source": [
    "### Optimal Parameters: {'criterion': 'entropy', 'max_depth': 5, 'min_samples_leaf': 3, 'min_samples_split': 12}\n",
    "\n",
    "#### Recall - 46.31% \n",
    "\n",
    "#### Accuracy = 55.45%"
   ]
  },
  {
   "cell_type": "markdown",
   "metadata": {},
   "source": [
    "# Random Forest"
   ]
  },
  {
   "cell_type": "code",
   "execution_count": null,
   "metadata": {},
   "outputs": [],
   "source": [
    "from sklearn.ensemble import RandomForestClassifier, AdaBoostClassifier"
   ]
  },
  {
   "cell_type": "code",
   "execution_count": null,
   "metadata": {},
   "outputs": [],
   "source": [
    "# get a baseline how random forest performs\n",
    "forest = RandomForestClassifier(random_state=1234)\n",
    "forest.fit(x_train, y_train.values.ravel())\n",
    "\n",
    "# predcit\n",
    "forest_test_pred = forest.predict(x_test)\n",
    "\n",
    "# testing accuracy\n",
    "f_recall, f_acc = hlf.print_metrics(y_test, forest_test_pred, print_score=True)"
   ]
  },
  {
   "cell_type": "markdown",
   "metadata": {},
   "source": [
    "### Random Forest Using Gridsearch"
   ]
  },
  {
   "cell_type": "code",
   "execution_count": null,
   "metadata": {},
   "outputs": [],
   "source": [
    "# define params grid\n",
    "forest_param_grid = {'criterion': ['gini', 'entropy'],\n",
    "                     'max_depth': [5, 6, 7],\n",
    "                     'min_samples_split': [6, 7, 10, 12, 18],\n",
    "                     'min_samples_leaf': [2, 3, 9, 12, ]\n",
    "                    }                    "
   ]
  },
  {
   "cell_type": "code",
   "execution_count": null,
   "metadata": {
    "scrolled": true
   },
   "outputs": [],
   "source": [
    "# Use grid search to find the best paramers for random forest\n",
    "forest_search = GridSearchCV(forest, forest_param_grid, cv=3, verbose=1, scoring='accuracy')\n",
    "forest_search.fit(x_train, y_train.values.ravel())\n",
    "\n",
    "# predcit the testing data\n",
    "forest_grid_test_pred = forest_search.predict(x_test)\n",
    "\n",
    "# test how the model performs \n",
    "forest_grid_recall, forest_grid_acc = print_metrics(y_test, forest_grid_test_pred, print_score=True)\n",
    "\n",
    "#best paramters\n",
    "print(f\"Best paramaters: {best_forest_params}\")"
   ]
  },
  {
   "cell_type": "code",
   "execution_count": null,
   "metadata": {
    "scrolled": true
   },
   "outputs": [],
   "source": [
    "# fit the optimal random forest\n",
    "optimal_forest = forest_search.best_estimator_\n",
    "optimal_forest.fit(x_train, y_train)\n",
    "# predict\n",
    "opt_forest_pred = optimal_forest.predict(x_test)\n",
    "\n",
    "# get prediction accuracy\n",
    "opt_forest_recall, opt_forest_acc = print_metrics(y_test, opt_forest_pred, print_score=True)"
   ]
  },
  {
   "cell_type": "code",
   "execution_count": null,
   "metadata": {},
   "outputs": [],
   "source": [
    "plot_confusion_matrix(y_test, opt_forest_pred)"
   ]
  },
  {
   "cell_type": "code",
   "execution_count": null,
   "metadata": {},
   "outputs": [],
   "source": [
    "plot_feature_importance(optimal_forest, x_test)"
   ]
  },
  {
   "cell_type": "markdown",
   "metadata": {},
   "source": [
    "### Optimal Parameters: {'criterion': 'gini', 'max_depth': 7, 'min_samples_leaf': 12, 'min_samples_split': 6}\n",
    "\n",
    "#### Recall Score: 53.24\n",
    "\n",
    "#### Accuracy Score: 55.83"
   ]
  },
  {
   "cell_type": "markdown",
   "metadata": {},
   "source": [
    "# AdaBoost"
   ]
  },
  {
   "cell_type": "code",
   "execution_count": null,
   "metadata": {},
   "outputs": [],
   "source": [
    "# get a baseline on how ada boost performs\n",
    "adaboost = AdaBoostClassifier()\n",
    "adaboost.fit(x_train, y_train.values.ravel())\n",
    "\n",
    "# predict\n",
    "adaboost_test_pred = adaboost.predict(x_test)\n",
    "\n",
    "# test how the model performs \n",
    "ada_recall, ada_accuracy = print_metrics(y_test, adaboost_test_pred, print_score=True)"
   ]
  },
  {
   "cell_type": "code",
   "execution_count": null,
   "metadata": {},
   "outputs": [],
   "source": [
    "plot_confusion_matrix(y_test, adaboost_test_pred)"
   ]
  },
  {
   "cell_type": "markdown",
   "metadata": {},
   "source": [
    "### AdaBoost Using Gridsearch"
   ]
  },
  {
   "cell_type": "code",
   "execution_count": null,
   "metadata": {},
   "outputs": [],
   "source": [
    "adaboost_param_grid = {'n_estimators': [70, 150, 200, 250, 270, 300],\n",
    "                       'learning_rate': [0.4, 0.2, 0.1]\n",
    "                      }"
   ]
  },
  {
   "cell_type": "code",
   "execution_count": null,
   "metadata": {},
   "outputs": [],
   "source": [
    "#fit adaboost with a paramters grid\n",
    "ada_grid_search = GridSearchCV(adaboost, adaboost_param_grid, scoring='accuracy', cv=4)\n",
    "ada_grid_search.fit(x_train, y_train.values.ravel())\n",
    "\n",
    "# predict \n",
    "adagrid_pred = ada_grid_search.predict(x_test)\n",
    "\n",
    "# test how well the model performs \n",
    "adagrid_recall, adagrid_accuracy = print_metrics(y_test, adagrid_pred, print_score=True)\n",
    "\n",
    "#best paramters\n",
    "best_ada_params = ada_grid_search.best_params_"
   ]
  },
  {
   "cell_type": "code",
   "execution_count": null,
   "metadata": {},
   "outputs": [],
   "source": [
    "print(best_ada_params)"
   ]
  },
  {
   "cell_type": "code",
   "execution_count": null,
   "metadata": {},
   "outputs": [],
   "source": [
    "# changing the hyper paramaters grid\n",
    "adaboost_param_grid2 = {'n_estimators': [50, 125, 150, 175, 200],\n",
    "                        'learning_rate': [0.1, 0.2, 0.3]\n",
    "                       }\n",
    "\n",
    "# fitting a new model with different hyper paramaters\n",
    "ada_grid_search2 = GridSearchCV(adaboost, adaboost_param_grid2, scoring='accuracy', cv=4)\n",
    "ada_grid_search2.fit(x_train, y_train.values.ravel())\n",
    "\n",
    "# predict \n",
    "adagrid_pred2 = ada_grid_search2.predict(x_test)\n",
    "\n",
    "# test how well the model performs \n",
    "adagrid_recall2, adagrid_accuracy2 = print_metrics(y_test, adagrid_pred2, print_score=True)\n",
    "\n",
    "#best paramters\n",
    "print(best_ada_params2)"
   ]
  },
  {
   "cell_type": "code",
   "execution_count": null,
   "metadata": {},
   "outputs": [],
   "source": [
    "# fit the optimal paramaters for adaboost\n",
    "optimal_ada = ada_grid_search2.best_estimator_\n",
    "optimal_ada.fit(x_train, y_train)\n",
    "# predict\n",
    "opt_ada_pred = optimal_ada.predict(x_test)\n",
    "\n",
    "# get prediction accuracy\n",
    "opt_ada_recall, opt_ada_acc = print_metrics(y_test, opt_ada_pred, print_score=True)"
   ]
  },
  {
   "cell_type": "code",
   "execution_count": null,
   "metadata": {},
   "outputs": [],
   "source": [
    "plot_confusion_matrix(y_test, opt_ada_pred)"
   ]
  },
  {
   "cell_type": "code",
   "execution_count": null,
   "metadata": {},
   "outputs": [],
   "source": [
    "plot_feature_importance(optimal_ada, x_test)"
   ]
  },
  {
   "cell_type": "markdown",
   "metadata": {},
   "source": [
    "### Optimal Parameters: {learning_rate': 0.4, 'n_estimators': 150}\n",
    "#### Score = 56.36%"
   ]
  },
  {
   "cell_type": "markdown",
   "metadata": {},
   "source": [
    "# XGBoost"
   ]
  },
  {
   "cell_type": "code",
   "execution_count": null,
   "metadata": {},
   "outputs": [],
   "source": [
    "import xgboost as xgb\n",
    "\n",
    "# check baseline accuracy for xgboost\n",
    "xgbooster = xgb.XGBClassifier()\n",
    "xgbooster.fit(x_train, y_train.values.ravel())\n",
    "\n",
    "# predict\n",
    "xgb_pred = xgbooster.predict(x_test)\n",
    "\n",
    "# test how well the model performs \n",
    "xgb_recall, xgb_accuracy = print_metrics(y_test, xgb_pred, print_score=True)"
   ]
  },
  {
   "cell_type": "code",
   "execution_count": null,
   "metadata": {},
   "outputs": [],
   "source": [
    "plot_confusion_matrix(y_test, xgb_pred)"
   ]
  },
  {
   "cell_type": "code",
   "execution_count": null,
   "metadata": {},
   "outputs": [],
   "source": [
    "plot_feature_importance(xgbooster, x_train, n=30)"
   ]
  },
  {
   "cell_type": "markdown",
   "metadata": {},
   "source": [
    "### XGBoost Using Gridsearch"
   ]
  },
  {
   "cell_type": "code",
   "execution_count": null,
   "metadata": {},
   "outputs": [],
   "source": [
    "xg_param_grid = {'learning_rate': [0.2], 'max_depth': [6, 7, 8], \n",
    "                 'min_child_weight': [4, 5, 6], 'subsample': [0.6, 0.7, 0.8],\n",
    "                 'n_estimators': [100, 120, 150]\n",
    "                }"
   ]
  },
  {
   "cell_type": "code",
   "execution_count": null,
   "metadata": {},
   "outputs": [],
   "source": [
    "xg_grid = GridSearchCV(xgbooster, xg_param_grid, scoring='accuracy', cv=3, n_jobs=1)\n",
    "xg_grid.fit(x_train, y_train.values.ravel())\n",
    "\n",
    "\n",
    "# predict\n",
    "xg_grid_preds = xg_grid.predict(x_test)\n",
    "\n",
    "# test how well the model performs \n",
    "xg_grid_recall, xg_grid_acc = print_metrics(y_test, xg_grid_preds, print_score=True)\n",
    "best_parameters = xg_grid.best_params_\n",
    "\n",
    "print(best_parameters)"
   ]
  },
  {
   "cell_type": "code",
   "execution_count": null,
   "metadata": {},
   "outputs": [],
   "source": [
    "# run xgboost again with the new paramaters\n",
    "xgbooster2 = xg_grid.best_estimator_\n",
    "xgbooster2.fit(x_train, y_train.values.ravel())\n",
    "\n",
    "# predict\n",
    "xgb_pred2 = xgbooster.predict(x_test)\n",
    "\n",
    "# test how well the model performs \n",
    "xgb_recall2, xgb_accuracy2 = print_metrics(y_test, xgb_pred2, print_score=True)"
   ]
  },
  {
   "cell_type": "code",
   "execution_count": null,
   "metadata": {},
   "outputs": [],
   "source": [
    "plot_confusion_matrix(y_test, xgb_pred2)"
   ]
  },
  {
   "cell_type": "code",
   "execution_count": null,
   "metadata": {},
   "outputs": [],
   "source": [
    "def log_roc_curve(model, x_test, y_test):\n",
    "    scores = model.decision_function(x_test)\n",
    "    \n",
    "    fpr, tpr, _ = roc_curve(y_test, scores)\n",
    "    auc_score = auc(fpr, tpr)\n",
    "    plt.figure(figsize=(10,8))\n",
    "    \n",
    "    # plot the roc curve\n",
    "    plt.plot(fpr, tpr, color='darkorange',\n",
    "             lw=2, label='ROC Curve')\n",
    "    \n",
    "    # plot the line through the origin of axis\n",
    "    plt.plot([0, 1], [0, 1], color='navy', lw=2, linestyle='--')\n",
    "    plt.xlim([0.0, 1.0])\n",
    "    plt.ylim([0.0, 1.05])\n",
    "    plt.yticks([i/20.0 for i in range(21)])\n",
    "    plt.xticks([i/20.0 for i in range(21)])\n",
    "    \n",
    "    # add graph labels\n",
    "    plt.xlabel('False Positive Rate')\n",
    "    plt.ylabel('True Positive Rate')\n",
    "    plt.title('ROC Curve')\n",
    "    plt.legend(loc=\"lower right\")\n",
    "    return auc_score"
   ]
  },
  {
   "cell_type": "code",
   "execution_count": null,
   "metadata": {},
   "outputs": [],
   "source": [
    "def plot_feature_importance(model, x_train, n=30):\n",
    "    \"\"\" This function recievies a model and plots the 'n' most important features\"\"\"\n",
    "    # extract and sort the feature importance\n",
    "    features = model.feature_importances_\n",
    "    columns = x_train.columns.values\n",
    "    \n",
    "    # combine the features importance and column names into a matrix and sort them\n",
    "    feature_matrix = np.array([features, columns])\n",
    "    feature_matrix = feature_matrix.transpose()\n",
    "    feature_matrix.sort(0)\n",
    "    \n",
    "    # divide the column names and feature importance\n",
    "    sorted_feat = feature_matrix[:, 0]\n",
    "    sorted_columns = feature_matrix[:, 1]\n",
    "    \n",
    "     # plot the features\n",
    "    plt.figure(figsize=(16, 12))\n",
    "    plt.barh(sorted_columns[-n:], sorted_feat[-n:], align='center')\n",
    "    plt.yticks(sorted_columns[-n:], sorted_columns[-n:])\n",
    "    plt.xlabel(\"Feature Importance\")\n",
    "    plt.ylabel(\"Feature\")\n",
    "    return"
   ]
  },
  {
   "cell_type": "code",
   "execution_count": null,
   "metadata": {},
   "outputs": [],
   "source": [
    "plot_feature_importance(xgbooster2, x_train, n=30)"
   ]
  },
  {
   "cell_type": "markdown",
   "metadata": {},
   "source": [
    "# Logistic Regression"
   ]
  },
  {
   "cell_type": "code",
   "execution_count": null,
   "metadata": {},
   "outputs": [],
   "source": [
    "from sklearn.linear_model import LogisticRegression\n",
    "\n",
    "# check the baseline how logistic regression works\n",
    "log_reg = LogisticRegression(fit_intercept = False, C = 1e12) #Starter code\n",
    "log_mod = log_reg.fit(x_train, y_train)\n",
    "\n",
    "# predict\n",
    "log_pred = log_reg.predict(x_test)\n",
    "\n",
    "# test how well the model performs \n",
    "log_recall, log_acc = print_metrics(y_test, log_pred, print_score=True)"
   ]
  },
  {
   "cell_type": "markdown",
   "metadata": {},
   "source": [
    "### Logistic regression using Gridsearch"
   ]
  },
  {
   "cell_type": "code",
   "execution_count": null,
   "metadata": {},
   "outputs": [],
   "source": [
    "log_grid = {\"C\": np.logspace(0, 4, 7), \"penalty\": [\"l1\", \"l2\"]}\n",
    "\n",
    "log_reg_grid = GridSearchCV(log_mod, log_grid, scoring=\"accuracy\", cv=4)\n",
    "log_reg_grid = log_reg_grid.fit(x_train, y_train.values.ravel())\n",
    "\n",
    "# predict\n",
    "grid_log_pred = log_reg.predict(x_test)\n",
    "\n",
    "# test how well the model performs \n",
    "grid_log_recall, grid_log_acc = print_metrics(y_test, grid_log_pred, print_score=True)"
   ]
  },
  {
   "cell_type": "code",
   "execution_count": null,
   "metadata": {},
   "outputs": [],
   "source": [
    "log_reg_grid.best_score_"
   ]
  },
  {
   "cell_type": "code",
   "execution_count": null,
   "metadata": {},
   "outputs": [],
   "source": [
    "log_reg_grid.best_params_"
   ]
  },
  {
   "cell_type": "code",
   "execution_count": null,
   "metadata": {
    "scrolled": true
   },
   "outputs": [],
   "source": [
    "log2_mod = log_reg_grid.best_estimator_\n",
    "log2_mod.fit(x_train, y_train)\n",
    "\n",
    "log2_pred = log2_mod.predict(x_test)\n",
    "# test how well the model performs \n",
    "log2_recall, log2_acc = print_metrics(y_test, log2_pred, print_score=True)\n",
    "log2_mod.score(x_test, y_test)"
   ]
  },
  {
   "cell_type": "code",
   "execution_count": null,
   "metadata": {},
   "outputs": [],
   "source": [
    "log_roc_curve(log2_mod, x_test, y_test)"
   ]
  },
  {
   "cell_type": "code",
   "execution_count": null,
   "metadata": {},
   "outputs": [],
   "source": [
    "plot_confusion_matrix(y_test, log2_pred)"
   ]
  },
  {
   "cell_type": "markdown",
   "metadata": {},
   "source": [
    "# SVM\n"
   ]
  },
  {
   "cell_type": "code",
   "execution_count": null,
   "metadata": {},
   "outputs": [],
   "source": [
    "from sklearn.decomposition import PCA\n",
    "from sklearn.svm import LinearSVC\n",
    "from sklearn.svm import SVC\n",
    "# Reduce dimonsionality so my computer won't explode trying to run SVM with 30k observations and 114 dimensions\n",
    "x_reduced = PCA(n_components=30).fit_transform(df)"
   ]
  },
  {
   "cell_type": "code",
   "execution_count": null,
   "metadata": {},
   "outputs": [],
   "source": [
    "rx_train, rx_test, ry_train, ry_test = train_test_split(x_reduced, labels,\n",
    "                                                        test_size=0.25,\n",
    "                                                        random_state=123)\n"
   ]
  },
  {
   "cell_type": "code",
   "execution_count": null,
   "metadata": {},
   "outputs": [],
   "source": [
    "# to get a base line run model with default paramters and different kernels\n",
    "SVMp = SVC(kernel='poly', max_iter=3500)\n",
    "SVMp.fit(rx_train, ry_train)\n",
    "print(SVMp.score(rx_test, ry_test))"
   ]
  },
  {
   "cell_type": "code",
   "execution_count": null,
   "metadata": {},
   "outputs": [],
   "source": [
    "# to get a base line run model with default paramters and different kernels\n",
    "SVMs = SVC(kernel='rbf', max_iter=3500)\n",
    "SVMs.fit(rx_train, ry_train)\n",
    "print(SVMs.score(rx_test, ry_test))"
   ]
  },
  {
   "cell_type": "code",
   "execution_count": null,
   "metadata": {},
   "outputs": [],
   "source": [
    "# to get a base line run model with default paramters\n",
    "SVM = LinearSVC(max_iter=3500)\n",
    "SVM.fit(rx_train, ry_train)\n",
    "print(SVM.score(rx_test, ry_test))"
   ]
  },
  {
   "cell_type": "markdown",
   "metadata": {},
   "source": [
    "### LinearSVC using Gridsearch"
   ]
  },
  {
   "cell_type": "code",
   "execution_count": null,
   "metadata": {},
   "outputs": [],
   "source": [
    "c = np.logspace(start=-5, stop=400, base=1.05)\n",
    "svm_grid = {'C': c}\n",
    "\n",
    "svm_grid = GridSearchCV(SVM, param_grid=svm_grid, cv=4, n_jobs=-1, scoring='accuracy')\n",
    "svm_grid.fit(rx_train, ry_train)"
   ]
  },
  {
   "cell_type": "code",
   "execution_count": null,
   "metadata": {},
   "outputs": [],
   "source": [
    "opt_svm = svm_grid.best_estimator_\n",
    "opt_svm.fit(rx_train, ry_train)\n",
    "\n",
    "# predict\n",
    "opt_svm_pred = opt_svm.predict(rx_test)\n",
    "\n",
    "# check how badly the model predicts\n",
    "opt_svm_recall, opt_svm_acc = print_metrics(ry_test, opt_svm_pred, print_score=True)\n",
    "opt_svm.score(rx_test, ry_test)"
   ]
  },
  {
   "cell_type": "code",
   "execution_count": null,
   "metadata": {},
   "outputs": [],
   "source": [
    "# changing the penalty from 'l2' to 'l1' and check how badly the model predicts\n",
    "SVMl1 = LinearSVC(penalty='l1', max_iter=3500, dual=False)\n",
    "\n",
    "svml1_grid = GridSearchCV(SVMl1, param_grid=svm_grid, cv=4, n_jobs=-1, scoring='accuracy')\n",
    "svml1_grid.fit(rx_train, ry_train)"
   ]
  },
  {
   "cell_type": "code",
   "execution_count": null,
   "metadata": {},
   "outputs": [],
   "source": [
    "optl1_svm = svml1_grid.best_estimator_\n",
    "optl1_svm.fit(rx_train, ry_train)\n",
    "\n",
    "# predict\n",
    "opt_svml1_pred = optl1_svm.predict(rx_test)\n",
    "\n",
    "# test how well the model performs \n",
    "opt_svml1_recall, opt_svml1_acc = print_metrics(ry_test, opt_svml1_pred, print_score=True)\n",
    "optl1_svm.score(rx_test, ry_test)"
   ]
  },
  {
   "cell_type": "code",
   "execution_count": null,
   "metadata": {},
   "outputs": [],
   "source": []
  }
 ],
 "metadata": {
  "kernelspec": {
   "display_name": "Python 3",
   "language": "python",
   "name": "python3"
  },
  "language_info": {
   "codemirror_mode": {
    "name": "ipython",
    "version": 3
   },
   "file_extension": ".py",
   "mimetype": "text/x-python",
   "name": "python",
   "nbconvert_exporter": "python",
   "pygments_lexer": "ipython3",
   "version": "3.7.4"
  }
 },
 "nbformat": 4,
 "nbformat_minor": 2
}
