{
 "cells": [
  {
   "cell_type": "markdown",
   "metadata": {},
   "source": [
    "# Goal: \n",
    "## Predict the outcome of a game based on what heroes have been picked "
   ]
  },
  {
   "cell_type": "code",
   "execution_count": 1,
   "metadata": {},
   "outputs": [
    {
     "ename": "SyntaxError",
     "evalue": "EOL while scanning string literal (helper_functions.py, line 72)",
     "output_type": "error",
     "traceback": [
      "Traceback \u001b[1;36m(most recent call last)\u001b[0m:\n",
      "  File \u001b[0;32m\"D:\\Programs\\Anaconda\\lib\\site-packages\\IPython\\core\\interactiveshell.py\"\u001b[0m, line \u001b[0;32m3326\u001b[0m, in \u001b[0;35mrun_code\u001b[0m\n    exec(code_obj, self.user_global_ns, self.user_ns)\n",
      "\u001b[1;36m  File \u001b[1;32m\"<ipython-input-1-08cb7bd63cde>\"\u001b[1;36m, line \u001b[1;32m1\u001b[1;36m, in \u001b[1;35m<module>\u001b[1;36m\u001b[0m\n\u001b[1;33m    import helper_functions as hlf\u001b[0m\n",
      "\u001b[1;36m  File \u001b[1;32m\"C:\\Users\\GILOR\\Desktop\\data_science\\Flatiron_projects\\Dota_Victory_Classification\\helper_functions.py\"\u001b[1;36m, line \u001b[1;32m72\u001b[0m\n\u001b[1;33m    character_list.append(heroes'\u001b[0m\n\u001b[1;37m                                 ^\u001b[0m\n\u001b[1;31mSyntaxError\u001b[0m\u001b[1;31m:\u001b[0m EOL while scanning string literal\n"
     ]
    }
   ],
   "source": [
    "import helper_functions as hlf\n",
    "import numpy as np\n",
    "import pandas as pd\n",
    "import matplotlib.pyplot as plt\n",
    "import seaborn as sns\n",
    "\n",
    "%matplotlib inline\n",
    "plt.style.use('ggplot')\n",
    "\n",
    "import requests\n",
    "from bs4 import BeautifulSoup\n",
    "from sklearn.preprocessing import StandardScaler\n",
    "\n",
    "from matplotlib import rcParams\n",
    "rcParams.update({'figure.autolayout': True})"
   ]
  },
  {
   "cell_type": "code",
   "execution_count": 2,
   "metadata": {
    "scrolled": true
   },
   "outputs": [
    {
     "ename": "NameError",
     "evalue": "name 'pd' is not defined",
     "output_type": "error",
     "traceback": [
      "\u001b[1;31m---------------------------------------------------------------------------\u001b[0m",
      "\u001b[1;31mNameError\u001b[0m                                 Traceback (most recent call last)",
      "\u001b[1;32m<ipython-input-2-cd49823ba55d>\u001b[0m in \u001b[0;36m<module>\u001b[1;34m\u001b[0m\n\u001b[1;32m----> 1\u001b[1;33m df = pd.read_csv('dota_games.txt', sep=\",\", header=None, names=[\"Sentinal_1\", \"Sentinal_2\", \n\u001b[0m\u001b[0;32m      2\u001b[0m                                                                 \u001b[1;34m\"Sentinal_3\"\u001b[0m\u001b[1;33m,\u001b[0m \u001b[1;34m\"Sentinal_4\"\u001b[0m\u001b[1;33m,\u001b[0m \u001b[1;34m\"Sentinal_5\"\u001b[0m\u001b[1;33m,\u001b[0m\u001b[1;33m\u001b[0m\u001b[1;33m\u001b[0m\u001b[0m\n\u001b[0;32m      3\u001b[0m                                                                 \u001b[1;34m\"Scourge_1\"\u001b[0m\u001b[1;33m,\u001b[0m \u001b[1;34m\"Scourge_2\"\u001b[0m\u001b[1;33m,\u001b[0m \u001b[1;34m\"Scourge_3\"\u001b[0m\u001b[1;33m,\u001b[0m\u001b[1;33m\u001b[0m\u001b[1;33m\u001b[0m\u001b[0m\n\u001b[0;32m      4\u001b[0m                                                                 \"Scourge_4\", \"Scourge_5\", \"Won\"])\n\u001b[0;32m      5\u001b[0m \u001b[0mdf\u001b[0m\u001b[1;33m.\u001b[0m\u001b[0mhead\u001b[0m\u001b[1;33m(\u001b[0m\u001b[1;33m)\u001b[0m\u001b[1;33m\u001b[0m\u001b[1;33m\u001b[0m\u001b[0m\n",
      "\u001b[1;31mNameError\u001b[0m: name 'pd' is not defined"
     ]
    }
   ],
   "source": [
    "df = pd.read_csv('dota_games.txt', sep=\",\", header=None, names=[\"Sentinal_1\", \"Sentinal_2\", \n",
    "                                                                \"Sentinal_3\", \"Sentinal_4\", \"Sentinal_5\",\n",
    "                                                                \"Scourge_1\", \"Scourge_2\", \"Scourge_3\", \n",
    "                                                                \"Scourge_4\", \"Scourge_5\", \"Won\"])\n",
    "df.head()"
   ]
  },
  {
   "cell_type": "code",
   "execution_count": null,
   "metadata": {},
   "outputs": [],
   "source": [
    "# check for fragmented data\n",
    "df.isnull().sum()"
   ]
  },
  {
   "cell_type": "code",
   "execution_count": null,
   "metadata": {},
   "outputs": [],
   "source": [
    "# create a new df with all the winning teams lineups\n",
    "sentinal_df = df[['Sentinal_1','Sentinal_2','Sentinal_3','Sentinal_4','Sentinal_5','Won']]\n",
    "sentinal_winners = sentinal_df[df.Won == 1]\n",
    "sentinal_winners.rename(columns={'Sentinal_1': \"Hero_1\", 'Sentinal_2': \"Hero_2\", \n",
    "                               'Sentinal_3': \"Hero_3\", 'Sentinal_4': \"Hero_4\",\n",
    "                               'Sentinal_5': \"Hero_5\"}, inplace=True)\n",
    "\n",
    "scourge_df = df[['Scourge_1','Scourge_2','Scourge_3','Scourge_4','Scourge_5','Won']]\n",
    "scourge_winners = scourge_df[df.Won == 2]\n",
    "scourge_winners['Won'] = 1\n",
    "scourge_winners.rename(columns={'Scourge_1': \"Hero_1\", 'Scourge_2': \"Hero_2\", \n",
    "                               'Scourge_3': \"Hero_3\", 'Scourge_4': \"Hero_4\",\n",
    "                               'Scourge_5': \"Hero_5\"}, inplace=True)\n",
    "\n",
    "# create a new df for the losing teams\n",
    "\n",
    "sentinal_losers = sentinal_df[df.Won == 2]\n",
    "sentinal_losers['Won'] = 0\n",
    "sentinal_losers.rename(columns={'Sentinal_1': \"Hero_1\", 'Sentinal_2': \"Hero_2\", \n",
    "                               'Sentinal_3': \"Hero_3\", 'Sentinal_4': \"Hero_4\",\n",
    "                               'Sentinal_5': \"Hero_5\"}, inplace=True)\n",
    "\n",
    "scourge_losers = scourge_df[df.Won == 1]\n",
    "scourge_losers['Won'] = 0\n",
    "scourge_losers.rename(columns={'Scourge_1': \"Hero_1\", 'Scourge_2': \"Hero_2\", \n",
    "                               'Scourge_3': \"Hero_3\", 'Scourge_4': \"Hero_4\",\n",
    "                               'Scourge_5': \"Hero_5\"}, inplace=True)\n",
    "\n",
    "# merge the dataframes to create a df that contains all the lineups and if they won or not\n",
    "lineups = pd.concat([sentinal_winners, scourge_winners, sentinal_losers, scourge_losers])\n",
    "lineups.reset_index(drop=True, inplace=True)\n",
    "# lines_csv = lineups.to_csv('lineups.csv', index = None, header=True)\n",
    "lineups.head()"
   ]
  },
  {
   "cell_type": "code",
   "execution_count": null,
   "metadata": {},
   "outputs": [],
   "source": [
    "# split the hero list from the outcome of the game\n",
    "features_df = lineups.copy(deep=True)\n",
    "labels = lineups[['Won']]\n",
    "features_df.drop('Won', axis=1, inplace=True)\n",
    "\n",
    "# use the populate function to create dummies columns for all the characters in the game\n",
    "dummies_df = hlf.populate_df(features_df)\n",
    "labeled_dummies_df = pd.concat([dummies_df, labels], axis=1)\n",
    "# dummies_csv = labeled_dummies_df.to_csv ('dota2_characters.csv', index=False, header=True)"
   ]
  },
  {
   "cell_type": "code",
   "execution_count": null,
   "metadata": {},
   "outputs": [],
   "source": [
    "# Sort characters based on their main attribute (Strength, Agility, Intellegence)\n",
    "str_heroes = hlf.main_attributes('Strength')\n",
    "agi_heroes = hlf.main_attributes('Agility')\n",
    "int_heroes = hlf.main_attributes('Intelligence')\n",
    "\n",
    "# changing IO to WISP\n",
    "for ind, hero in enumerate(str_heroes):\n",
    "    if hero == 'Io':\n",
    "        str_heroes[ind] = 'Wisp'"
   ]
  },
  {
   "cell_type": "code",
   "execution_count": null,
   "metadata": {},
   "outputs": [],
   "source": [
    "# create a new feature: how many strength heroes\n",
    "str_df = features_df.where(~features_df.isin(str_heroes), None)\n",
    "str_df = pd.DataFrame(str_df.isnull().sum(axis=1), columns=['Strength'])\n",
    "# str_df.head()"
   ]
  },
  {
   "cell_type": "code",
   "execution_count": null,
   "metadata": {},
   "outputs": [],
   "source": [
    "# create a new feature: how many agility heroes\n",
    "agi_df = features_df.where(~features_df.isin(agi_heroes), None)\n",
    "agi_df = pd.DataFrame(agi_df.isnull().sum(axis=1), columns=['Agility'])\n",
    "# agi_df.head()"
   ]
  },
  {
   "cell_type": "code",
   "execution_count": null,
   "metadata": {},
   "outputs": [],
   "source": [
    "# create a new feature: how many inteligence heroes\n",
    "int_df = features_df.where(~features_df.isin(int_heroes), None)\n",
    "int_df = pd.DataFrame(int_df.isnull().sum(axis=1), columns=['Intelligence'])\n",
    "# int_df.head()"
   ]
  },
  {
   "cell_type": "code",
   "execution_count": null,
   "metadata": {},
   "outputs": [],
   "source": [
    "# roles = 'Ranged_heroes', 'Supports', 'Carries', 'Nukers', 'Durable'\n",
    "\n",
    "ranged = hlf.hero_roles('Ranged_heroes')   \n",
    "ranged"
   ]
  },
  {
   "cell_type": "code",
   "execution_count": null,
   "metadata": {},
   "outputs": [],
   "source": [
    "# ranged heroes\n",
    "ranged = np.array(['Techies', 'Ancient Apparition', 'Lina', 'Chen', 'Enchantress', \n",
    "                   'Mirana', 'Pugna', 'Arc Warden', 'Disruptor', 'Drow Ranger', \n",
    "                   'Skywrath Mage', 'Oracle', 'Crystal Maiden', 'Death Prophet', 'Invoker', \n",
    "                   'Keeper of the Light', 'Leshrac', 'Lion', 'Medusa', \"Nature's Prophet\", \n",
    "                   'Silencer', 'Visage', 'Warlock', 'Windrunner', 'Witch Doctor',  'Clinkz', \n",
    "                   'Viper', 'Dazzle', 'Lich', 'Lone Druid', 'Puck', 'Queen of Pain', 'Rubick', \n",
    "                   'Sniper', 'Enigma', 'Wisp', 'Necrophos', 'Phoenix', 'Shadow Demon', \n",
    "                   'Shadow Fiend', 'Tinker', 'Troll Warlord', 'Storm Spirit', 'Razor', \n",
    "                   'Outworld Devourer', 'Venomancer', 'Weaver', 'Winter Wyvern', 'Bane', \n",
    "                   'Huskar', 'Jakiro', 'Shadow Shaman', 'Vengeful Spirit', 'Zeus', 'Batrider', \n",
    "                   'Gyrocopter', 'Morphling', 'Luna'])\n",
    "\n",
    "# create a new feature: how many melee heroes in the team\n",
    "melee_df = features_df.where(~features_df.isin(ranged), None)\n",
    "melee_df = pd.DataFrame(melee_df.isnull().sum(axis=1), columns=['Ranged'])\n",
    "melee_df.tail()"
   ]
  },
  {
   "cell_type": "code",
   "execution_count": null,
   "metadata": {},
   "outputs": [],
   "source": [
    "# tier lists\n",
    "tier1 = np.array(['Alchemist', 'Enchan', 'Lifestealer', 'Visage',\n",
    "                 'Wisp', 'Outerworld Devourer', 'Weaver',\n",
    "                 \"Nature's Prophet\", 'Rubick'])\n",
    "\n",
    "tier2 = np.array(['Nyx Assassin', 'Gyrocopter', \n",
    "                  'Alchemist', 'Puck', 'Chen'])\n",
    "\n",
    "tier3 = np.array(['Shadow Demon', 'Lone Druid', 'Clockwerk', 'Queen of Pain',\n",
    "                  'Dragon Knight', 'Treant Protector', 'Keeper of the Light'\n",
    "                  'Bane', 'Jakiro', 'Anti-Mage', 'Timbersaw', 'Storm Spirit',\n",
    "                  'Razor', 'Enchantress', 'Bounty Hunter', 'Templar Assassin',\n",
    "                  'Abaddon', 'Crystal Maiden', 'Windrunner', 'Magnus', \n",
    "                  'Shadow Fiend', 'Leshrac'])\n",
    "\n",
    "# create a new feature: how many characters are tier 1,2 or 3\n",
    "op_tiers12_df = features_df.where(~features_df.isin(tier1) & ~features_df.isin(tier2), None)\n",
    "op_tiers12_df = pd.DataFrame(op_tiers12_df.isnull().sum(axis=1), columns=['Tiers_12'])\n",
    "# op_tiers12_df.head()\n",
    "\n",
    "op_tiers3_df = features_df.where(~features_df.isin(tier3), None)\n",
    "op_tiers3_df = pd.DataFrame(op_tiers3_df.isnull().sum(axis=1), columns=['Tier_3'])\n",
    "# op_tiers3_df.head()"
   ]
  },
  {
   "cell_type": "code",
   "execution_count": null,
   "metadata": {},
   "outputs": [],
   "source": [
    "# Safe lane Carry characters\n",
    "carry = np.array(['Alchemist', 'Anti-Mage', 'Arc Warden', 'Bloodseeker', 'Clinkz'\n",
    "                  'Chaos Knight', 'Drow Ranger', 'Faceless Void', 'Gyrocopter',\n",
    "                  'Huskar', 'Juggernaut', 'Kunkka', 'Lifestealer', 'Lone Druid',\n",
    "                  'Luna', 'Lycan' 'Medusa', 'Meepo', 'Morphling', 'Naga Siren',\n",
    "                  'Phantom Assassin', 'Phantom Lancer', 'Slark', 'Spectre',\n",
    "                  'Sven', 'Terrorblade', 'Timbersaw', 'Troll Warlord', 'Tiny',\n",
    "                  'Ursa', 'Vengeful Spirit', 'Venomancer', 'Viper', 'Weaver'])\n",
    "\n",
    "# create new feature: amount of carry character in a team\n",
    "carry_df = features_df.where(~features_df.isin(carry), None)\n",
    "carry_df = pd.DataFrame(carry_df.isnull().sum(axis=1), columns=['Carry']) \n",
    "# carry_df.head()"
   ]
  },
  {
   "cell_type": "code",
   "execution_count": null,
   "metadata": {},
   "outputs": [],
   "source": [
    "# support characters\n",
    "support = np.array(['Ancient Apparition', 'Bristleback', 'Clockwerk', 'Chen',\n",
    "                    'Bane', 'Crystal Maiden', 'Dazzle', 'Disruptor', 'Doom',\n",
    "                    'Earthshaker', 'Enchantress', 'Wisp', 'Jakiro', 'Leshrac'\n",
    "                    'Keeper of the Light', 'Lich', 'Lina', 'Lion', 'Nyx Assassin',\n",
    "                    'Ogre Magi', 'Omniknight', 'Oracle', 'Phoenix', 'Rubick',\n",
    "                    'Shadow Demon', 'Shadow Shaman', 'Silencer', 'Treant Protector',\n",
    "                    'Undying', 'Visage', 'Warlock', 'Weaver', 'Windrunner', 'Winter Wyvern',\n",
    "                    'Witch Doctor', 'Oracle'])\n",
    "\n",
    "# create new feature: amount of support characters in a team\n",
    "support_df = features_df.where(~features_df.isin(support), None)\n",
    "support_df = pd.DataFrame(support_df.isnull().sum(axis=1), columns=['Support']) \n",
    "# support_df.head()"
   ]
  },
  {
   "cell_type": "code",
   "execution_count": null,
   "metadata": {},
   "outputs": [],
   "source": [
    "#offlane characters\n",
    "offlane = np.array(['Abaddon', 'Axe', 'Batrider', 'Beasmaster',\n",
    "                    'Brewmaster', 'Bristleback', 'Broodmother',\n",
    "                    'Centaur Warrunner', 'Clockwerk', 'Dark Seer',\n",
    "                    'Doom', 'Earthshaker', 'Enchantress', 'Enigma',\n",
    "                    'Legion Commander', 'Magnus', \"Nature's Prophet\",\n",
    "                    'Night Stalker', 'Nyx Assassin', 'Puck',\n",
    "                    'Sand King', 'Slardar', 'Spirit Breaker', \n",
    "                    'Tidehunter', 'Undying', 'Underlord'])\n",
    "\n",
    "# create new feature: amount of offlane characters in a team\n",
    "offlane_df = features_df.where(~features_df.isin(offlane), None)\n",
    "offlane_df = pd.DataFrame(offlane_df.isnull().sum(axis=1), columns=['Offlane'])\n",
    "# offlane_df.head()"
   ]
  },
  {
   "cell_type": "code",
   "execution_count": null,
   "metadata": {},
   "outputs": [],
   "source": [
    "# middle lane characters\n",
    "mid = np.array(['Alchemist', 'Arc Warden', 'Bloodseeker', 'Bristleback',\n",
    "                'Broodmother', 'Death Prophet', 'Dragon Knight', 'Ember Spirit',\n",
    "                'Faceless Void', 'Invoker', 'Wisp', 'Juggernaut',\n",
    "                'Lina', 'Leshrac', 'Lone Druid', 'Magnus', 'Medusa', 'Meepo',\n",
    "                'Mirana', \"Nature's Prophet\", 'Necrophos', 'Outworld Devourer',\n",
    "                'Puck', 'Pugna', 'Queen of Pain', 'Razor', 'Shadow Fiend','Zeus' \n",
    "                'Skywrath Mage', 'Sniper', 'Storm Spirit', 'Templar Assassin',\n",
    "                'Tinker', 'Tiny', 'Venomancer', 'Viper', 'Visage', 'Windrunner'])\n",
    "\n",
    "# create new feature: how many mid lane appropriate characters\n",
    "mid_df = features_df.where(~features_df.isin(mid), None)\n",
    "mid_df = pd.DataFrame(mid_df.isnull().sum(axis=1), columns=['Mid'])\n",
    "# mid_df.head()"
   ]
  },
  {
   "cell_type": "code",
   "execution_count": null,
   "metadata": {},
   "outputs": [],
   "source": [
    "# roaming support characters\n",
    "roaming_support = np.array(['Bounty Hunter', 'Earth Spirit', 'Mirana', \"Nature's Prophet\",\n",
    "                            'Pudge', 'Riki', 'Tusk', 'Techies', 'Spirit Breaker', 'Bane'\n",
    "                            'Night Stalker', 'Windrunner', 'Lion', 'Earthshaker', 'Rubick'])\n",
    "\n",
    "# create new feature: how many roaming characters\n",
    "roam_df = features_df.where(~features_df.isin(roaming_support), None)\n",
    "roam_df = pd.DataFrame(roam_df.isnull().sum(axis=1), columns=['Roamer'])\n",
    "# roam_df.head()"
   ]
  },
  {
   "cell_type": "code",
   "execution_count": null,
   "metadata": {},
   "outputs": [],
   "source": [
    "# nuke/disable characters\n",
    "nuke_disable = np.array(['Crystal Maiden', 'Lina', 'Lion', 'Oracle', 'Skywrath Mage', 'Witch Doctor',\n",
    "                         'Earthshaker', 'Death Prophet', 'Lich', 'Ancient Apparition', 'Shadow Shaman',\n",
    "                         'Puck', 'Jakiro', 'Necrophos', 'Leshrac', 'Disruptor', 'Outworld Devourer',\n",
    "                         'Bane', 'Ogre Magi', 'Zeus', 'Doom', 'Dazzle', 'Morphling', 'Nyx Assassin',\n",
    "                         'Rubick', 'Queen of Pain', 'Tinker'])\n",
    "\n",
    "# create new feature: how many nukers/disablers in team\n",
    "nuke_disable_df = features_df.where(~features_df.isin(nuke_disable), None)\n",
    "nuke_disable_df = pd.DataFrame(nuke_disable_df.isnull().sum(axis=1), columns=['Nuke/Disable'])\n",
    "# nuke_disable_df.head()"
   ]
  },
  {
   "cell_type": "code",
   "execution_count": null,
   "metadata": {},
   "outputs": [],
   "source": [
    "# see the list of most played hereos \n",
    "sum_picked = pd.DataFrame(dummies_df.sum(), columns=[\"Picked\"])\n",
    "sum_picked.sort_values(by=['Picked'], ascending=False, inplace=True)\n",
    "\n",
    "sum_picked = sum_picked[['Picked']].apply(lambda x: x / 15000)\n",
    "sum_picked.reset_index(inplace=True)\n",
    "sum_picked.rename(columns={'index':'Hero'}, inplace=True)\n",
    "\n",
    "top12_picked = sum_picked.head(12)\n",
    "\n",
    "# plot the top winners\n",
    "plt.figure(figsize=(12,8))\n",
    "sns.catplot(kind='bar', data=top12_picked, x='Hero', y='Picked')\n",
    "plt.title('Times Picked')\n",
    "plt.ylabel('Picked (%)')\n",
    "plt.xticks(rotation=45, ha='right')\n",
    "plt.savefig('most_picked.png')"
   ]
  },
  {
   "cell_type": "code",
   "execution_count": null,
   "metadata": {},
   "outputs": [],
   "source": [
    "# see which hereos won the most games\n",
    "winners_df = no_features_df.loc[no_features_df.Won == 1]\n",
    "winners_df.drop('Won', axis=1, inplace=True)\n",
    "sum_wins = pd.DataFrame(winners_df.sum(), columns=[\"Win\"])\n",
    "\n",
    "sort_sum_wins = sum_wins.sort_values(by=['Win'], ascending=False)\n",
    "sort_sum_wins = sort_sum_wins[['Win']]\n",
    "sort_sum_wins.reset_index(inplace=True)\n",
    "sort_sum_wins.rename(columns={'index':'Hero'}, inplace=True)\n",
    "\n",
    "top12_wins = sort_sum_wins.head(12)\n",
    "\n",
    "# plot the top winners\n",
    "plt.figure(figsize=(12,8))\n",
    "sns.catplot(kind='bar', data=top12_wins, x='Hero', y='Win')\n",
    "plt.title('Times Won')\n",
    "plt.ylabel('Matches Won')\n",
    "plt.xticks(rotation=45, ha='right')\n",
    "plt.savefig('most_won.png')"
   ]
  },
  {
   "cell_type": "code",
   "execution_count": null,
   "metadata": {},
   "outputs": [],
   "source": [
    "# see which heroes lost the least\n",
    "losers_df = no_features_df.loc[no_features_df.Won == 0]\n",
    "losers_df.drop('Won', axis=1, inplace=True)\n",
    "sum_lose = pd.DataFrame(losers_df.sum(), columns=[\"Lose\"])\n",
    "\n",
    "sort_sum_lose = sum_lose.sort_values(by=['Lose'], ascending=False)\n",
    "\n",
    "sort_sum_lose = sort_sum_lose[['Lose']]\n",
    "sort_sum_lose.reset_index(inplace=True)\n",
    "sort_sum_lose.rename(columns={'index':'Hero'}, inplace=True)\n",
    "\n",
    "top12_lose = sort_sum_lose.head(12)\n",
    "\n",
    "# plot the top winners\n",
    "plt.figure(figsize=(12,8))\n",
    "sns.catplot(kind='bar', data=top12_lose, x='Hero', y='Lose')\n",
    "plt.title('Times Lost')\n",
    "plt.ylabel('Matches Lost')\n",
    "plt.xticks(rotation=45, ha='right')\n",
    "plt.savefig('most_lost.png')                 "
   ]
  },
  {
   "cell_type": "code",
   "execution_count": null,
   "metadata": {},
   "outputs": [],
   "source": [
    "win_lose_df = pd.concat([sum_wins, sum_lose], axis=1).reset_index().rename(columns={'index':'Hero'})\n",
    "win_lose_df['Ratio'] = win_lose_df['Win'] / win_lose_df['Lose']\n",
    "\n",
    "# sort the characters by win/lose ratio\n",
    "win_lose_df.sort_values(by=['Ratio'], ascending=False, inplace=True)\n",
    "sort_ratio = win_lose_df[['Hero','Ratio']]\n",
    "\n",
    "# extract the characters with highest/lowest win to lose ratio\n",
    "top12_ratio = sort_ratio.head(12)\n",
    "bot12_ratio = sort_ratio.tail(12)\n",
    "\n",
    "# plot the highest win to lose ratio\n",
    "plt.figure(figsize=(12,8))\n",
    "sns.catplot(kind='bar', data=top12_ratio, x='Hero', y='Ratio')\n",
    "\n",
    "# add labels\n",
    "plt.title('Win Lose Ratio')\n",
    "plt.ylabel('Win/Lose Ratio')\n",
    "plt.xticks(rotation=45, ha='right')\n",
    "plt.savefig('win_lose_ratio.png')                "
   ]
  },
  {
   "cell_type": "code",
   "execution_count": null,
   "metadata": {},
   "outputs": [],
   "source": [
    "bot12_ratio = sort_ratio.tail(12)\n",
    "\n",
    "# plot the highest win to lose ratio\n",
    "plt.figure(figsize=(12,8))\n",
    "sns.catplot(kind='bar', data=bot12_ratio, x='Hero', y='Ratio')\n",
    "\n",
    "# add labels\n",
    "plt.title('Win Lose Ratio')\n",
    "plt.ylabel('Win/Lose Ratio')\n",
    "plt.xticks(rotation=45, ha='right')\n",
    "plt.savefig('win_lose_ratio_losers.png')            "
   ]
  },
  {
   "cell_type": "code",
   "execution_count": null,
   "metadata": {},
   "outputs": [],
   "source": [
    "# add features: \n",
    "top12_heroes = np.array(top12_ratio['Hero'])\n",
    "bot12_heroes = np.array(bot12_ratio['Hero'])\n",
    "\n",
    "# create new feature: heroes with highest win rate\n",
    "high_rate_df = features_df.where(~features_df.isin(top12_heroes), None)\n",
    "high_rate_df = pd.DataFrame(high_rate_df.isnull().sum(axis=1), columns=['High_Win'])\n",
    "\n",
    "# create new feature: heroes with lowest win rate\n",
    "low_rate_df = features_df.where(~features_df.isin(bot12_heroes), None)\n",
    "low_rate_df = pd.DataFrame(low_rate_df.isnull().sum(axis=1), columns=['Low_Win'])"
   ]
  },
  {
   "cell_type": "code",
   "execution_count": null,
   "metadata": {},
   "outputs": [],
   "source": [
    "# 2018 most used characters - patch 7.19\n",
    "picked_719 = np.array(['Mirana', 'Earthshaker', 'Tiny', 'Necrophos', 'Weaver',\n",
    "                        'Winter Wyvern', 'Phoenix', 'Lina', 'Bane', 'Phantom Lancer'])\n",
    "\n",
    "# create new feature: heroes with the most wins during patch 7.19\n",
    "picked_719_df = features_df.where(~features_df.isin(picked_719), None)\n",
    "picked_719_df = pd.DataFrame(picked_719_df.isnull().sum(axis=1), columns=['Most_Picked_719'])\n",
    "# picked_719_df.head()"
   ]
  },
  {
   "cell_type": "code",
   "execution_count": null,
   "metadata": {},
   "outputs": [],
   "source": [
    "# 2018 most used characters - patch 7.20\n",
    "picked_720 = np.array(['Rubick', 'Lich', 'Phantom Assassin', 'Brewmaster', 'Centaur Warrunner',\n",
    "                        'Dazzle', 'Sand King', 'Tusk', 'Terrorblade'])\n",
    "\n",
    "# create new feature: heroes with the most wins during patch 7.20\n",
    "picked_720_df = features_df.where(~features_df.isin(picked_720), None)\n",
    "picked_720_df = pd.DataFrame(picked_720_df.isnull().sum(axis=1), columns=['Most_Picked_720'])\n",
    "# picked_720_df.head()"
   ]
  },
  {
   "cell_type": "code",
   "execution_count": null,
   "metadata": {
    "scrolled": true
   },
   "outputs": [],
   "source": [
    "# concatanate all the features together\n",
    "cleaned_df = pd.concat([dummies_df, melee_df, str_df, agi_df, int_df, \n",
    "                         op_tiers12_df, op_tiers3_df, carry_df, support_df, \n",
    "                         offlane_df, mid_df, roam_df, nuke_disable_df,\n",
    "                         high_rate_df, low_rate_df, picked_719_df, \n",
    "                         picked_720_df], axis=1)\n",
    "                         \n",
    "                         \n",
    "\n",
    "# scaling featires\n",
    "cols = cleaned_df.columns\n",
    "scaler = StandardScaler()\n",
    "scaler.fit(cleaned_df)\n",
    "scaled_features = scaler.transform(cleaned_df)\n",
    "\n",
    "# combine the labels with the scaled features\n",
    "scaled_features_df = pd.DataFrame(scaled_features, columns=cols, index=cleaned_df.index)\n",
    "scaled_features_df = pd.concat([scaled_features_df, labels.Won], axis=1)\n",
    "\n",
    "# save as new csv to for modeling purpose\n",
    "scaled_csv = scaled_features_df.to_csv('dota2_scaled.csv', index=None, header=True)\n",
    "scaled_features_df"
   ]
  },
  {
   "cell_type": "code",
   "execution_count": null,
   "metadata": {},
   "outputs": [],
   "source": [
    "# check winning team compositions\n",
    "winning_lineups = cleaned_df.loc[scaled_features_df.Won == 1]\n",
    "attributes = ['Strength', 'Agility', 'Intelligence', 'Support', 'Ranged' 'Mid', 'Carry', 'Roamer', 'Nuke/Disable', 'Offlane']\n",
    "\n",
    "    \n",
    "hlf.team_composition(winning_lineups, attributes)    "
   ]
  },
  {
   "cell_type": "code",
   "execution_count": null,
   "metadata": {},
   "outputs": [],
   "source": [
    "features = [1, 0, 2, 5 ,9 , 7]\n",
    "feature_names = ['one', 'zero' , 'two', 'five', 'nine', '7']\n",
    "\n",
    "# combine the features importance and column names into a matrix and sort them\n",
    "feature_matrix = np.array([features, feature_names])\n",
    "feature_matrix = feature_matrix.transpose()\n",
    "\n",
    "print(feature_matrix)\n",
    "feature_matrix = feature_matrix[feature_matrix[:,0].argsort()]\n",
    "print(feature_matrix)\n",
    "# divide the column names and feature importance\n",
    "sorted_feat = feature_matrix[:, 0]\n",
    "sorted_columns = feature_matrix[:, 1]"
   ]
  },
  {
   "cell_type": "code",
   "execution_count": null,
   "metadata": {},
   "outputs": [],
   "source": [
    "sorted_columns"
   ]
  },
  {
   "cell_type": "code",
   "execution_count": null,
   "metadata": {},
   "outputs": [],
   "source": []
  },
  {
   "cell_type": "code",
   "execution_count": null,
   "metadata": {},
   "outputs": [],
   "source": [
    "heroes_categories('Supports')"
   ]
  },
  {
   "cell_type": "code",
   "execution_count": null,
   "metadata": {},
   "outputs": [],
   "source": [
    "category = 'Supports'\n",
    "# Make a get request to retrieve the page\n",
    "html = requests.get(f'https://dota2.gamepedia.com/Category:{category}')\n",
    "\n",
    "# Pass the page contents to beautiful soup for parsing\n",
    "soup = BeautifulSoup(html.content, 'html.parser')\n",
    "\n",
    "# search for all the heroes on the list\n",
    "hero_list = soup.findAll(class_=\"mw-category-group\")\n",
    "hero_list[3].findAll('a')"
   ]
  },
  {
   "cell_type": "code",
   "execution_count": null,
   "metadata": {},
   "outputs": [],
   "source": [
    "\n",
    "# Make a get request to retrieve the page\n",
    "html = requests.get(f'https://dota2.gamepedia.com/Category:Ranged_heroes')\n",
    "\n",
    "# Pass the page contents to beautiful soup for parsing\n",
    "soup = BeautifulSoup(html.content, 'html.parser')\n",
    "\n",
    "# search for all the heroes on the list\n",
    "for item in page:\n",
    "    try:\n",
    "        items.findAll('a')\n",
    "        heroes = np.array([hero.find('a').get_text() for hero in item])\n",
    "    except:\n",
    "        heroes = item.find('a').get_text()\n",
    "    "
   ]
  },
  {
   "cell_type": "code",
   "execution_count": null,
   "metadata": {},
   "outputs": [],
   "source": [
    "html = requests.get(f'https://dota2.gamepedia.com/Category:Ranged_heroes')\n",
    "\n",
    "# Pass the page contents to beautiful soup for parsing\n",
    "soup = BeautifulSoup(html.content, 'html.parser')\n",
    "\n",
    "# search for all the heroes on the list\n",
    "page = soup.findAll(class_=\"mw-category-group\")"
   ]
  },
  {
   "cell_type": "code",
   "execution_count": null,
   "metadata": {},
   "outputs": [],
   "source": [
    "page.findAll('a')"
   ]
  },
  {
   "cell_type": "code",
   "execution_count": null,
   "metadata": {},
   "outputs": [],
   "source": []
  }
 ],
 "metadata": {
  "kernelspec": {
   "display_name": "Python 3",
   "language": "python",
   "name": "python3"
  },
  "language_info": {
   "codemirror_mode": {
    "name": "ipython",
    "version": 3
   },
   "file_extension": ".py",
   "mimetype": "text/x-python",
   "name": "python",
   "nbconvert_exporter": "python",
   "pygments_lexer": "ipython3",
   "version": "3.7.4"
  }
 },
 "nbformat": 4,
 "nbformat_minor": 2
}
