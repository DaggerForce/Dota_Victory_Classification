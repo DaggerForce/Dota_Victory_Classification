{
 "cells": [
  {
   "cell_type": "markdown",
   "metadata": {},
   "source": [
    "# Goal: \n",
    "## Predict the outcome of a game based on what heroes have been picked "
   ]
  },
  {
   "cell_type": "code",
   "execution_count": 32,
   "metadata": {},
   "outputs": [],
   "source": [
    "%autoreload 2\n",
    "import helper_functions as hlf\n",
    "import numpy as np\n",
    "import pandas as pd\n",
    "import matplotlib.pyplot as plt\n",
    "import seaborn as sns\n",
    "\n",
    "%matplotlib inline\n",
    "plt.style.use('ggplot')\n",
    "\n",
    "import requests\n",
    "from bs4 import BeautifulSoup\n",
    "from sklearn.preprocessing import StandardScaler\n",
    "\n",
    "from matplotlib import rcParams\n",
    "rcParams.update({'figure.autolayout': True})"
   ]
  },
  {
   "cell_type": "code",
   "execution_count": 2,
   "metadata": {
    "scrolled": true
   },
   "outputs": [
    {
     "data": {
      "text/html": [
       "<div>\n",
       "<style scoped>\n",
       "    .dataframe tbody tr th:only-of-type {\n",
       "        vertical-align: middle;\n",
       "    }\n",
       "\n",
       "    .dataframe tbody tr th {\n",
       "        vertical-align: top;\n",
       "    }\n",
       "\n",
       "    .dataframe thead th {\n",
       "        text-align: right;\n",
       "    }\n",
       "</style>\n",
       "<table border=\"1\" class=\"dataframe\">\n",
       "  <thead>\n",
       "    <tr style=\"text-align: right;\">\n",
       "      <th></th>\n",
       "      <th>Sentinal_1</th>\n",
       "      <th>Sentinal_2</th>\n",
       "      <th>Sentinal_3</th>\n",
       "      <th>Sentinal_4</th>\n",
       "      <th>Sentinal_5</th>\n",
       "      <th>Scourge_1</th>\n",
       "      <th>Scourge_2</th>\n",
       "      <th>Scourge_3</th>\n",
       "      <th>Scourge_4</th>\n",
       "      <th>Scourge_5</th>\n",
       "      <th>Won</th>\n",
       "    </tr>\n",
       "  </thead>\n",
       "  <tbody>\n",
       "    <tr>\n",
       "      <td>0</td>\n",
       "      <td>Sven</td>\n",
       "      <td>Lone Druid</td>\n",
       "      <td>Venomancer</td>\n",
       "      <td>Clockwerk</td>\n",
       "      <td>Shadow Shaman</td>\n",
       "      <td>Invoker</td>\n",
       "      <td>Gyrocopter</td>\n",
       "      <td>Anti-Mage</td>\n",
       "      <td>Alchemist</td>\n",
       "      <td>Slark</td>\n",
       "      <td>2</td>\n",
       "    </tr>\n",
       "    <tr>\n",
       "      <td>1</td>\n",
       "      <td>Riki</td>\n",
       "      <td>Tinker</td>\n",
       "      <td>Puck</td>\n",
       "      <td>Leshrac</td>\n",
       "      <td>Nyx Assassin</td>\n",
       "      <td>Slardar</td>\n",
       "      <td>Sand King</td>\n",
       "      <td>Spectre</td>\n",
       "      <td>Necrolyte</td>\n",
       "      <td>Warlock</td>\n",
       "      <td>1</td>\n",
       "    </tr>\n",
       "    <tr>\n",
       "      <td>2</td>\n",
       "      <td>Invoker</td>\n",
       "      <td>Mirana</td>\n",
       "      <td>Pudge</td>\n",
       "      <td>Magnus</td>\n",
       "      <td>Keeper of the Light</td>\n",
       "      <td>Rubick</td>\n",
       "      <td>Tidehunter</td>\n",
       "      <td>Queen of Pain</td>\n",
       "      <td>Faceless Void</td>\n",
       "      <td>Sniper</td>\n",
       "      <td>2</td>\n",
       "    </tr>\n",
       "    <tr>\n",
       "      <td>3</td>\n",
       "      <td>Riki</td>\n",
       "      <td>Centaur Warrunner</td>\n",
       "      <td>Treant Protector</td>\n",
       "      <td>Queen of Pain</td>\n",
       "      <td>Broodmother</td>\n",
       "      <td>Rubick</td>\n",
       "      <td>Weaver</td>\n",
       "      <td>Troll Warlord</td>\n",
       "      <td>Alchemist</td>\n",
       "      <td>Drow Ranger</td>\n",
       "      <td>1</td>\n",
       "    </tr>\n",
       "    <tr>\n",
       "      <td>4</td>\n",
       "      <td>Razor</td>\n",
       "      <td>Kunkka</td>\n",
       "      <td>Drow Ranger</td>\n",
       "      <td>Leshrac</td>\n",
       "      <td>Zeus</td>\n",
       "      <td>Riki</td>\n",
       "      <td>Bane</td>\n",
       "      <td>Visage</td>\n",
       "      <td>Invoker</td>\n",
       "      <td>Timbersaw</td>\n",
       "      <td>1</td>\n",
       "    </tr>\n",
       "  </tbody>\n",
       "</table>\n",
       "</div>"
      ],
      "text/plain": [
       "  Sentinal_1         Sentinal_2        Sentinal_3     Sentinal_4  \\\n",
       "0       Sven         Lone Druid        Venomancer      Clockwerk   \n",
       "1       Riki             Tinker              Puck        Leshrac   \n",
       "2    Invoker             Mirana             Pudge         Magnus   \n",
       "3       Riki  Centaur Warrunner  Treant Protector  Queen of Pain   \n",
       "4      Razor             Kunkka       Drow Ranger        Leshrac   \n",
       "\n",
       "            Sentinal_5 Scourge_1   Scourge_2      Scourge_3      Scourge_4  \\\n",
       "0        Shadow Shaman   Invoker  Gyrocopter      Anti-Mage      Alchemist   \n",
       "1         Nyx Assassin   Slardar   Sand King        Spectre      Necrolyte   \n",
       "2  Keeper of the Light    Rubick  Tidehunter  Queen of Pain  Faceless Void   \n",
       "3          Broodmother    Rubick      Weaver  Troll Warlord      Alchemist   \n",
       "4                 Zeus      Riki        Bane         Visage        Invoker   \n",
       "\n",
       "     Scourge_5  Won  \n",
       "0        Slark    2  \n",
       "1      Warlock    1  \n",
       "2       Sniper    2  \n",
       "3  Drow Ranger    1  \n",
       "4    Timbersaw    1  "
      ]
     },
     "execution_count": 2,
     "metadata": {},
     "output_type": "execute_result"
    }
   ],
   "source": [
    "df = pd.read_csv('dota_games.txt', sep=\",\", header=None, names=[\"Sentinal_1\", \"Sentinal_2\", \n",
    "                                                                \"Sentinal_3\", \"Sentinal_4\", \"Sentinal_5\",\n",
    "                                                                \"Scourge_1\", \"Scourge_2\", \"Scourge_3\", \n",
    "                                                                \"Scourge_4\", \"Scourge_5\", \"Won\"])\n",
    "df.head()"
   ]
  },
  {
   "cell_type": "code",
   "execution_count": 3,
   "metadata": {
    "collapsed": true
   },
   "outputs": [
    {
     "data": {
      "text/plain": [
       "Sentinal_1    0\n",
       "Sentinal_2    0\n",
       "Sentinal_3    0\n",
       "Sentinal_4    0\n",
       "Sentinal_5    0\n",
       "Scourge_1     0\n",
       "Scourge_2     0\n",
       "Scourge_3     0\n",
       "Scourge_4     0\n",
       "Scourge_5     0\n",
       "Won           0\n",
       "dtype: int64"
      ]
     },
     "execution_count": 3,
     "metadata": {},
     "output_type": "execute_result"
    }
   ],
   "source": [
    "# check for fragmented data\n",
    "df.isnull().sum()"
   ]
  },
  {
   "cell_type": "code",
   "execution_count": 12,
   "metadata": {
    "collapsed": true
   },
   "outputs": [
    {
     "name": "stderr",
     "output_type": "stream",
     "text": [
      "D:\\Programs\\Anaconda\\lib\\site-packages\\ipykernel_launcher.py:10: SettingWithCopyWarning: \n",
      "A value is trying to be set on a copy of a slice from a DataFrame.\n",
      "Try using .loc[row_indexer,col_indexer] = value instead\n",
      "\n",
      "See the caveats in the documentation: http://pandas.pydata.org/pandas-docs/stable/user_guide/indexing.html#returning-a-view-versus-a-copy\n",
      "  # Remove the CWD from sys.path while we load stuff.\n",
      "D:\\Programs\\Anaconda\\lib\\site-packages\\ipykernel_launcher.py:18: SettingWithCopyWarning: \n",
      "A value is trying to be set on a copy of a slice from a DataFrame.\n",
      "Try using .loc[row_indexer,col_indexer] = value instead\n",
      "\n",
      "See the caveats in the documentation: http://pandas.pydata.org/pandas-docs/stable/user_guide/indexing.html#returning-a-view-versus-a-copy\n",
      "D:\\Programs\\Anaconda\\lib\\site-packages\\ipykernel_launcher.py:24: SettingWithCopyWarning: \n",
      "A value is trying to be set on a copy of a slice from a DataFrame.\n",
      "Try using .loc[row_indexer,col_indexer] = value instead\n",
      "\n",
      "See the caveats in the documentation: http://pandas.pydata.org/pandas-docs/stable/user_guide/indexing.html#returning-a-view-versus-a-copy\n"
     ]
    },
    {
     "data": {
      "text/html": [
       "<div>\n",
       "<style scoped>\n",
       "    .dataframe tbody tr th:only-of-type {\n",
       "        vertical-align: middle;\n",
       "    }\n",
       "\n",
       "    .dataframe tbody tr th {\n",
       "        vertical-align: top;\n",
       "    }\n",
       "\n",
       "    .dataframe thead th {\n",
       "        text-align: right;\n",
       "    }\n",
       "</style>\n",
       "<table border=\"1\" class=\"dataframe\">\n",
       "  <thead>\n",
       "    <tr style=\"text-align: right;\">\n",
       "      <th></th>\n",
       "      <th>Hero_1</th>\n",
       "      <th>Hero_2</th>\n",
       "      <th>Hero_3</th>\n",
       "      <th>Hero_4</th>\n",
       "      <th>Hero_5</th>\n",
       "      <th>Won</th>\n",
       "    </tr>\n",
       "  </thead>\n",
       "  <tbody>\n",
       "    <tr>\n",
       "      <td>0</td>\n",
       "      <td>Riki</td>\n",
       "      <td>Tinker</td>\n",
       "      <td>Puck</td>\n",
       "      <td>Leshrac</td>\n",
       "      <td>Nyx Assassin</td>\n",
       "      <td>1</td>\n",
       "    </tr>\n",
       "    <tr>\n",
       "      <td>1</td>\n",
       "      <td>Riki</td>\n",
       "      <td>Centaur Warrunner</td>\n",
       "      <td>Treant Protector</td>\n",
       "      <td>Queen of Pain</td>\n",
       "      <td>Broodmother</td>\n",
       "      <td>1</td>\n",
       "    </tr>\n",
       "    <tr>\n",
       "      <td>2</td>\n",
       "      <td>Razor</td>\n",
       "      <td>Kunkka</td>\n",
       "      <td>Drow Ranger</td>\n",
       "      <td>Leshrac</td>\n",
       "      <td>Zeus</td>\n",
       "      <td>1</td>\n",
       "    </tr>\n",
       "    <tr>\n",
       "      <td>3</td>\n",
       "      <td>Morphling</td>\n",
       "      <td>Omniknight</td>\n",
       "      <td>Pudge</td>\n",
       "      <td>Crystal Maiden</td>\n",
       "      <td>Razor</td>\n",
       "      <td>1</td>\n",
       "    </tr>\n",
       "    <tr>\n",
       "      <td>4</td>\n",
       "      <td>Brewmaster</td>\n",
       "      <td>Leshrac</td>\n",
       "      <td>Ogre Magi</td>\n",
       "      <td>Kunkka</td>\n",
       "      <td>Riki</td>\n",
       "      <td>1</td>\n",
       "    </tr>\n",
       "    <tr>\n",
       "      <td>...</td>\n",
       "      <td>...</td>\n",
       "      <td>...</td>\n",
       "      <td>...</td>\n",
       "      <td>...</td>\n",
       "      <td>...</td>\n",
       "      <td>...</td>\n",
       "    </tr>\n",
       "    <tr>\n",
       "      <td>29995</td>\n",
       "      <td>Kunkka</td>\n",
       "      <td>Morphling</td>\n",
       "      <td>Tidehunter</td>\n",
       "      <td>Windrunner</td>\n",
       "      <td>Pudge</td>\n",
       "      <td>0</td>\n",
       "    </tr>\n",
       "    <tr>\n",
       "      <td>29996</td>\n",
       "      <td>Mirana</td>\n",
       "      <td>Lifestealer</td>\n",
       "      <td>Earthshaker</td>\n",
       "      <td>Invoker</td>\n",
       "      <td>Bounty Hunter</td>\n",
       "      <td>0</td>\n",
       "    </tr>\n",
       "    <tr>\n",
       "      <td>29997</td>\n",
       "      <td>Visage</td>\n",
       "      <td>Witch Doctor</td>\n",
       "      <td>Jakiro</td>\n",
       "      <td>Bloodseeker</td>\n",
       "      <td>Lycanthrope</td>\n",
       "      <td>0</td>\n",
       "    </tr>\n",
       "    <tr>\n",
       "      <td>29998</td>\n",
       "      <td>Outworld Devourer</td>\n",
       "      <td>Luna</td>\n",
       "      <td>Lion</td>\n",
       "      <td>Clockwerk</td>\n",
       "      <td>Tidehunter</td>\n",
       "      <td>0</td>\n",
       "    </tr>\n",
       "    <tr>\n",
       "      <td>29999</td>\n",
       "      <td>Bounty Hunter</td>\n",
       "      <td>Outworld Devourer</td>\n",
       "      <td>Juggernaut</td>\n",
       "      <td>Drow Ranger</td>\n",
       "      <td>Chen</td>\n",
       "      <td>0</td>\n",
       "    </tr>\n",
       "  </tbody>\n",
       "</table>\n",
       "<p>30000 rows × 6 columns</p>\n",
       "</div>"
      ],
      "text/plain": [
       "                  Hero_1             Hero_2            Hero_3          Hero_4  \\\n",
       "0                   Riki             Tinker              Puck         Leshrac   \n",
       "1                   Riki  Centaur Warrunner  Treant Protector   Queen of Pain   \n",
       "2                  Razor             Kunkka       Drow Ranger         Leshrac   \n",
       "3              Morphling         Omniknight             Pudge  Crystal Maiden   \n",
       "4             Brewmaster            Leshrac         Ogre Magi          Kunkka   \n",
       "...                  ...                ...               ...             ...   \n",
       "29995             Kunkka          Morphling        Tidehunter      Windrunner   \n",
       "29996             Mirana        Lifestealer       Earthshaker         Invoker   \n",
       "29997             Visage       Witch Doctor            Jakiro     Bloodseeker   \n",
       "29998  Outworld Devourer               Luna              Lion       Clockwerk   \n",
       "29999      Bounty Hunter  Outworld Devourer        Juggernaut     Drow Ranger   \n",
       "\n",
       "              Hero_5  Won  \n",
       "0       Nyx Assassin    1  \n",
       "1        Broodmother    1  \n",
       "2               Zeus    1  \n",
       "3              Razor    1  \n",
       "4               Riki    1  \n",
       "...              ...  ...  \n",
       "29995          Pudge    0  \n",
       "29996  Bounty Hunter    0  \n",
       "29997    Lycanthrope    0  \n",
       "29998     Tidehunter    0  \n",
       "29999           Chen    0  \n",
       "\n",
       "[30000 rows x 6 columns]"
      ]
     },
     "execution_count": 12,
     "metadata": {},
     "output_type": "execute_result"
    }
   ],
   "source": [
    "# create a new df with all the winning teams lineups\n",
    "sentinal_df = df[['Sentinal_1','Sentinal_2','Sentinal_3','Sentinal_4','Sentinal_5','Won']]\n",
    "sentinal_winners = sentinal_df[df.Won == 1]\n",
    "sentinal_winners.rename(columns={'Sentinal_1': \"Hero_1\", 'Sentinal_2': \"Hero_2\", \n",
    "                               'Sentinal_3': \"Hero_3\", 'Sentinal_4': \"Hero_4\",\n",
    "                               'Sentinal_5': \"Hero_5\"}, inplace=True)\n",
    "\n",
    "scourge_df = df[['Scourge_1','Scourge_2','Scourge_3','Scourge_4','Scourge_5','Won']]\n",
    "scourge_winners = scourge_df[df.Won == 2]\n",
    "scourge_winners['Won'] = 1\n",
    "scourge_winners.rename(columns={'Scourge_1': \"Hero_1\", 'Scourge_2': \"Hero_2\", \n",
    "                               'Scourge_3': \"Hero_3\", 'Scourge_4': \"Hero_4\",\n",
    "                               'Scourge_5': \"Hero_5\"}, inplace=True)\n",
    "\n",
    "# create a new df for the losing teams\n",
    "\n",
    "sentinal_losers = sentinal_df[df.Won == 2]\n",
    "sentinal_losers['Won'] = 0\n",
    "sentinal_losers.rename(columns={'Sentinal_1': \"Hero_1\", 'Sentinal_2': \"Hero_2\", \n",
    "                               'Sentinal_3': \"Hero_3\", 'Sentinal_4': \"Hero_4\",\n",
    "                               'Sentinal_5': \"Hero_5\"}, inplace=True)\n",
    "\n",
    "scourge_losers = scourge_df[df.Won == 1]\n",
    "scourge_losers['Won'] = 0\n",
    "scourge_losers.rename(columns={'Scourge_1': \"Hero_1\", 'Scourge_2': \"Hero_2\", \n",
    "                               'Scourge_3': \"Hero_3\", 'Scourge_4': \"Hero_4\",\n",
    "                               'Scourge_5': \"Hero_5\"}, inplace=True)\n",
    "\n",
    "# merge the dataframes to create a df that contains all the lineups and if they won or not\n",
    "lineups = pd.concat([sentinal_winners, scourge_winners, sentinal_losers, scourge_losers])\n",
    "lineups.reset_index(drop=True, inplace=True)\n",
    "# lines_csv = lineups.to_csv('lineups.csv', index = None, header=True)"
   ]
  },
  {
   "cell_type": "code",
   "execution_count": 5,
   "metadata": {},
   "outputs": [],
   "source": [
    "# split the hero list from the outcome of the game\n",
    "features_df = lineups.copy(deep=True)\n",
    "labels = lineups[['Won']]\n",
    "features_df.drop('Won', axis=1, inplace=True)\n",
    "\n",
    "# use the populate function to create dummies columns for all the characters in the game\n",
    "dummies_df = hlf.populate_df(features_df)\n",
    "labeled_dummies_df = pd.concat([dummies_df, labels], axis=1)\n",
    "# dummies_csv = labeled_dummies_df.to_csv ('dota2_characters.csv', index=False, header=True)"
   ]
  },
  {
   "cell_type": "code",
   "execution_count": 6,
   "metadata": {},
   "outputs": [],
   "source": [
    "# Sort characters based on their main attribute (Strength, Agility, Intellegence)\n",
    "str_heroes = hlf.main_attributes('Strength')\n",
    "agi_heroes = hlf.main_attributes('Agility')\n",
    "int_heroes = hlf.main_attributes('Intelligence')\n",
    "\n",
    "# changing IO to WISP\n",
    "for ind, hero in enumerate(str_heroes):\n",
    "    if hero == 'Io':\n",
    "        str_heroes[ind] = 'Wisp'"
   ]
  },
  {
   "cell_type": "code",
   "execution_count": 7,
   "metadata": {},
   "outputs": [],
   "source": [
    "# create a new feature: how many strength heroes\n",
    "str_df = features_df.where(~features_df.isin(str_heroes), None)\n",
    "str_df = pd.DataFrame(str_df.isnull().sum(axis=1), columns=['Strength'])\n",
    "# str_df.head()"
   ]
  },
  {
   "cell_type": "code",
   "execution_count": 8,
   "metadata": {},
   "outputs": [],
   "source": [
    "# create a new feature: how many agility heroes\n",
    "agi_df = features_df.where(~features_df.isin(agi_heroes), None)\n",
    "agi_df = pd.DataFrame(agi_df.isnull().sum(axis=1), columns=['Agility'])\n",
    "# agi_df.head()"
   ]
  },
  {
   "cell_type": "code",
   "execution_count": 9,
   "metadata": {},
   "outputs": [],
   "source": [
    "# create a new feature: how many inteligence heroes\n",
    "int_df = features_df.where(~features_df.isin(int_heroes), None)\n",
    "int_df = pd.DataFrame(int_df.isnull().sum(axis=1), columns=['Intelligence'])\n",
    "# int_df.head()"
   ]
  },
  {
   "cell_type": "code",
   "execution_count": 14,
   "metadata": {},
   "outputs": [],
   "source": [
    "# roles = 'Ranged_heroes', 'Supports', 'Carries', 'Nukers', 'Disablers'\n",
    "\n",
    "# create a new feature: how many ranged heroes in the team\n",
    "ranged = hlf.hero_roles('Ranged_heroes')  \n",
    "melee_df = features_df.where(~features_df.isin(ranged), None)\n",
    "melee_df = pd.DataFrame(melee_df.isnull().sum(axis=1), columns=['Ranged'])\n",
    "# melee_df.head()\n",
    "\n",
    "# create new feature: amount of support characters in a team\n",
    "support = hlf.hero_roles('Supports')\n",
    "support_df = features_df.where(~features_df.isin(support), None)\n",
    "support_df = pd.DataFrame(support_df.isnull().sum(axis=1), columns=['Support']) \n",
    "# support_df.head()\n",
    "\n",
    "# create new feature: amount of carry character in a team\n",
    "carry = hlf.hero_roles('Carries')\n",
    "carry_df = features_df.where(~features_df.isin(carry), None)\n",
    "carry_df = pd.DataFrame(carry_df.isnull().sum(axis=1), columns=['Carry']) \n",
    "# carry_df.head()\n",
    "\n",
    "# create new feature: how many nukers in team\n",
    "nukers = hlf.hero_roles('Nukers')\n",
    "nukers_df = features_df.where(~features_df.isin(nukers), None)\n",
    "nukers_df = pd.DataFrame(nukers_df.isnull().sum(axis=1), columns=['Nukers'])\n",
    "# nukers_df.head()\n",
    "\n",
    "# create new feature: how many disablers in team\n",
    "disablers = hlf.hero_roles('Disablers')\n",
    "disablers_df = features_df.where(~features_df.isin(disablers), None)\n",
    "disablers_df = pd.DataFrame(disablers_df.isnull().sum(axis=1), columns=['Disablers'])\n",
    "# disablers_df.head()"
   ]
  },
  {
   "cell_type": "code",
   "execution_count": 15,
   "metadata": {},
   "outputs": [],
   "source": [
    "#offlane characters\n",
    "offlane = np.array(['Abaddon', 'Axe', 'Batrider', 'Beasmaster',\n",
    "                    'Brewmaster', 'Bristleback', 'Broodmother',\n",
    "                    'Centaur Warrunner', 'Clockwerk', 'Dark Seer',\n",
    "                    'Doom', 'Earthshaker', 'Enchantress', 'Enigma',\n",
    "                    'Legion Commander', 'Magnus', \"Nature's Prophet\",\n",
    "                    'Night Stalker', 'Nyx Assassin', 'Puck',\n",
    "                    'Sand King', 'Slardar', 'Spirit Breaker', \n",
    "                    'Tidehunter', 'Undying', 'Underlord'])\n",
    "\n",
    "# create new feature: amount of offlane characters in a team\n",
    "offlane_df = features_df.where(~features_df.isin(offlane), None)\n",
    "offlane_df = pd.DataFrame(offlane_df.isnull().sum(axis=1), columns=['Offlane'])\n",
    "# offlane_df.head()"
   ]
  },
  {
   "cell_type": "code",
   "execution_count": 16,
   "metadata": {},
   "outputs": [],
   "source": [
    "# middle lane characters\n",
    "mid = np.array(['Alchemist', 'Arc Warden', 'Bloodseeker', 'Bristleback',\n",
    "                'Broodmother', 'Death Prophet', 'Dragon Knight', 'Ember Spirit',\n",
    "                'Faceless Void', 'Invoker', 'Wisp', 'Juggernaut',\n",
    "                'Lina', 'Leshrac', 'Lone Druid', 'Magnus', 'Medusa', 'Meepo',\n",
    "                'Mirana', \"Nature's Prophet\", 'Necrophos', 'Outworld Devourer',\n",
    "                'Puck', 'Pugna', 'Queen of Pain', 'Razor', 'Shadow Fiend','Zeus' \n",
    "                'Skywrath Mage', 'Sniper', 'Storm Spirit', 'Templar Assassin',\n",
    "                'Tinker', 'Tiny', 'Venomancer', 'Viper', 'Visage', 'Windrunner'])\n",
    "\n",
    "# create new feature: how many mid lane appropriate characters\n",
    "mid_df = features_df.where(~features_df.isin(mid), None)\n",
    "mid_df = pd.DataFrame(mid_df.isnull().sum(axis=1), columns=['Mid'])\n",
    "# mid_df.head()"
   ]
  },
  {
   "cell_type": "code",
   "execution_count": 17,
   "metadata": {},
   "outputs": [],
   "source": [
    "# roaming support characters\n",
    "roaming_support = np.array(['Bounty Hunter', 'Earth Spirit', 'Mirana', \"Nature's Prophet\",\n",
    "                            'Pudge', 'Riki', 'Tusk', 'Techies', 'Spirit Breaker', 'Bane'\n",
    "                            'Night Stalker', 'Windrunner', 'Lion', 'Earthshaker', 'Rubick'])\n",
    "\n",
    "# create new feature: how many roaming characters\n",
    "roam_df = features_df.where(~features_df.isin(roaming_support), None)\n",
    "roam_df = pd.DataFrame(roam_df.isnull().sum(axis=1), columns=['Roamer'])\n",
    "# roam_df.head()"
   ]
  },
  {
   "cell_type": "code",
   "execution_count": null,
   "metadata": {},
   "outputs": [],
   "source": [
    "# see the list of most played hereos \n",
    "sum_picked = pd.DataFrame(dummies_df.sum(), columns=[\"Picked\"])\n",
    "sum_picked.sort_values(by=['Picked'], ascending=False, inplace=True)\n",
    "\n",
    "sum_picked = sum_picked[['Picked']].apply(lambda x: x / 15000)\n",
    "sum_picked.reset_index(inplace=True)\n",
    "sum_picked.rename(columns={'index':'Hero'}, inplace=True)\n",
    "\n",
    "# for graphing purposes get only the most picked characters\n",
    "top12_picked = sum_picked.head(12)\n",
    "\n",
    "# plot the top winners\n",
    "plt.figure(figsize=(12,8))\n",
    "sns.catplot(kind='bar', data=top12_picked, x='Hero', y='Picked')\n",
    "plt.title('Times Picked')\n",
    "plt.ylabel('Picked (%)')\n",
    "plt.xticks(rotation=45, ha='right')\n",
    "plt.savefig('most_picked.png')"
   ]
  },
  {
   "cell_type": "code",
   "execution_count": 25,
   "metadata": {},
   "outputs": [
    {
     "data": {
      "text/plain": [
       "(array([ 0,  1,  2,  3,  4,  5,  6,  7,  8,  9, 10, 11]),\n",
       " <a list of 12 Text xticklabel objects>)"
      ]
     },
     "execution_count": 25,
     "metadata": {},
     "output_type": "execute_result"
    },
    {
     "data": {
      "text/plain": [
       "<Figure size 864x576 with 0 Axes>"
      ]
     },
     "metadata": {},
     "output_type": "display_data"
    },
    {
     "data": {
      "image/png": "[encoded data removed]",
      "text/plain": [
       "<Figure size 360x360 with 1 Axes>"
      ]
     },
     "metadata": {
      "needs_background": "light"
     },
     "output_type": "display_data"
    }
   ],
   "source": [
    "# see which hereos won the most games\n",
    "winners_df = labeled_dummies_df.loc[labeled_dummies_df.Won == 1]\n",
    "winners_df = winners_df.drop('Won', axis=1)\n",
    "sum_wins = pd.DataFrame(winners_df.sum(), columns=[\"Wins\"])\n",
    "\n",
    "sort_sum_wins = sum_wins.sort_values(by=['Wins'], ascending=False)\n",
    "sort_sum_wins = sort_sum_wins[['Wins']]\n",
    "sort_sum_wins.reset_index(inplace=True)\n",
    "sort_sum_wins.rename(columns={'index':'Hero'}, inplace=True)\n",
    "\n",
    "# for graphing purposes plot the top 12\n",
    "top12_wins = sort_sum_wins.head(12)\n",
    "\n",
    "# plot the top winners\n",
    "plt.figure(figsize=(12,8))\n",
    "sns.catplot(kind='bar', data=top12_wins, x='Hero', y='Wins')\n",
    "plt.title('Times Won')\n",
    "plt.ylabel('Matches Won')\n",
    "plt.xticks(rotation=45, ha='right')\n",
    "# plt.savefig('most_won.png')"
   ]
  },
  {
   "cell_type": "code",
   "execution_count": 21,
   "metadata": {},
   "outputs": [
    {
     "data": {
      "text/plain": [
       "(array([ 0,  1,  2,  3,  4,  5,  6,  7,  8,  9, 10, 11]),\n",
       " <a list of 12 Text xticklabel objects>)"
      ]
     },
     "execution_count": 21,
     "metadata": {},
     "output_type": "execute_result"
    },
    {
     "data": {
      "text/plain": [
       "<Figure size 864x576 with 0 Axes>"
      ]
     },
     "metadata": {},
     "output_type": "display_data"
    },
    {
     "data": {
      "image/png": "[encoded data removed]",
      "text/plain": [
       "<Figure size 360x360 with 1 Axes>"
      ]
     },
     "metadata": {
      "needs_background": "light"
     },
     "output_type": "display_data"
    }
   ],
   "source": [
    "# see which heroes lost the most games\n",
    "losers_df = labeled_dummies_df.loc[labeled_dummies_df.Won == 0]\n",
    "losers_df = losers_df.drop('Won', axis=1)\n",
    "sum_lose = pd.DataFrame(losers_df.sum(), columns=[\"Lose\"])\n",
    "\n",
    "sort_sum_lose = sum_lose.sort_values(by=['Lose'], ascending=False)\n",
    "\n",
    "sort_sum_lose = sort_sum_lose[['Lose']]\n",
    "sort_sum_lose.reset_index(inplace=True)\n",
    "sort_sum_lose.rename(columns={'index':'Hero'}, inplace=True)\n",
    "\n",
    "# for graphing purposes plot the top 12\n",
    "top12_lose = sort_sum_lose.head(12)\n",
    "\n",
    "# plot the top winners\n",
    "plt.figure(figsize=(12,8))\n",
    "sns.catplot(kind='bar', data=top12_lose, x='Hero', y='Lose')\n",
    "plt.title('Times Lost')\n",
    "plt.ylabel('Matches Lost')\n",
    "plt.xticks(rotation=45, ha='right')\n",
    "# plt.savefig('most_lost.png')                 "
   ]
  },
  {
   "cell_type": "code",
   "execution_count": 22,
   "metadata": {},
   "outputs": [
    {
     "data": {
      "text/plain": [
       "(array([ 0,  1,  2,  3,  4,  5,  6,  7,  8,  9, 10, 11]),\n",
       " <a list of 12 Text xticklabel objects>)"
      ]
     },
     "execution_count": 22,
     "metadata": {},
     "output_type": "execute_result"
    },
    {
     "data": {
      "text/plain": [
       "<Figure size 864x576 with 0 Axes>"
      ]
     },
     "metadata": {},
     "output_type": "display_data"
    },
    {
     "data": {
      "image/png": "[encoded data removed]",
      "text/plain": [
       "<Figure size 360x360 with 1 Axes>"
      ]
     },
     "metadata": {
      "needs_background": "light"
     },
     "output_type": "display_data"
    }
   ],
   "source": [
    "# plot the individual win rate of ever character\n",
    "win_lose_df = pd.concat([sum_wins, sum_lose], axis=1).reset_index().rename(columns={'index':'Hero'})\n",
    "win_lose_df['Ratio'] = win_lose_df['Win'] / win_lose_df['Lose']\n",
    "\n",
    "# sort the characters by win/lose ratio\n",
    "win_lose_df.sort_values(by=['Ratio'], ascending=False, inplace=True)\n",
    "sort_ratio = win_lose_df[['Hero','Ratio']]\n",
    "\n",
    "# extract the characters with highest/lowest win to lose ratio\n",
    "top12_ratio = sort_ratio.head(12)\n",
    "bot12_ratio = sort_ratio.tail(12)         "
   ]
  },
  {
   "cell_type": "code",
   "execution_count": null,
   "metadata": {},
   "outputs": [],
   "source": [
    "# plot the highest win to lose ratio\n",
    "plt.figure(figsize=(12,8))\n",
    "sns.catplot(kind='bar', data=top12_ratio, x='Hero', y='Ratio')\n",
    "\n",
    "# add labels\n",
    "plt.title('Win Lose Ratio')\n",
    "plt.ylabel('Win/Lose Ratio')\n",
    "plt.xticks(rotation=45, ha='right')\n",
    "# plt.savefig('win_lose_ratio.png')       "
   ]
  },
  {
   "cell_type": "code",
   "execution_count": 23,
   "metadata": {},
   "outputs": [
    {
     "data": {
      "text/plain": [
       "(array([ 0,  1,  2,  3,  4,  5,  6,  7,  8,  9, 10, 11]),\n",
       " <a list of 12 Text xticklabel objects>)"
      ]
     },
     "execution_count": 23,
     "metadata": {},
     "output_type": "execute_result"
    },
    {
     "data": {
      "text/plain": [
       "<Figure size 864x576 with 0 Axes>"
      ]
     },
     "metadata": {},
     "output_type": "display_data"
    },
    {
     "data": {
      "image/png": "[encoded data removed]",
      "text/plain": [
       "<Figure size 360x360 with 1 Axes>"
      ]
     },
     "metadata": {
      "needs_background": "light"
     },
     "output_type": "display_data"
    }
   ],
   "source": [
    "# plot the lowest win to lose ratio characters\n",
    "plt.figure(figsize=(12,8))\n",
    "sns.catplot(kind='bar', data=bot12_ratio, x='Hero', y='Ratio')\n",
    "\n",
    "# add labels\n",
    "plt.title('Win Lose Ratio')\n",
    "plt.ylabel('Win/Lose Ratio')\n",
    "plt.xticks(rotation=45, ha='right')\n",
    "# plt.savefig('win_lose_ratio_losers.png')            "
   ]
  },
  {
   "cell_type": "code",
   "execution_count": 24,
   "metadata": {},
   "outputs": [
    {
     "data": {
      "text/plain": [
       "array(['Nyx Assassin', 'Warlock', 'Luna', 'Zeus', 'Phantom Lancer',\n",
       "       'Spirit Breaker', 'Keeper of the Light', 'Vengeful Spirit',\n",
       "       'Drow Ranger', 'Visage', 'Centaur Warrunner', 'Lich'], dtype=object)"
      ]
     },
     "execution_count": 24,
     "metadata": {},
     "output_type": "execute_result"
    }
   ],
   "source": [
    "# add features: highest and lowest win rates heroes  \n",
    "top12_heroes = np.array(top12_ratio['Hero'])\n",
    "bot12_heroes = np.array(bot12_ratio['Hero'])\n",
    "\n",
    "# create new feature: heroes with highest win rate\n",
    "high_rate_df = features_df.where(~features_df.isin(top12_heroes), None)\n",
    "high_rate_df = pd.DataFrame(high_rate_df.isnull().sum(axis=1), columns=['High_Win'])\n",
    "\n",
    "# create new feature: heroes with lowest win rate\n",
    "low_rate_df = features_df.where(~features_df.isin(bot12_heroes), None)\n",
    "low_rate_df = pd.DataFrame(low_rate_df.isnull().sum(axis=1), columns=['Low_Win'])"
   ]
  },
  {
   "cell_type": "code",
   "execution_count": 26,
   "metadata": {
    "scrolled": true
   },
   "outputs": [
    {
     "name": "stdout",
     "output_type": "stream",
     "text": [
      "Index(['Riki', 'Razor', 'Morphling', 'Brewmaster', 'Slardar', 'Wisp',\n",
      "       'Omniknight', 'Slark', 'Ogre Magi', 'Chaos Knight',\n",
      "       ...\n",
      "       'Intelligence', 'Carry', 'Support', 'Offlane', 'Mid', 'Roamer',\n",
      "       'Nukers', 'Disablers', 'High_Win', 'Low_Win'],\n",
      "      dtype='object', length=110)\n"
     ]
    },
    {
     "data": {
      "text/html": [
       "<div>\n",
       "<style scoped>\n",
       "    .dataframe tbody tr th:only-of-type {\n",
       "        vertical-align: middle;\n",
       "    }\n",
       "\n",
       "    .dataframe tbody tr th {\n",
       "        vertical-align: top;\n",
       "    }\n",
       "\n",
       "    .dataframe thead th {\n",
       "        text-align: right;\n",
       "    }\n",
       "</style>\n",
       "<table border=\"1\" class=\"dataframe\">\n",
       "  <thead>\n",
       "    <tr style=\"text-align: right;\">\n",
       "      <th></th>\n",
       "      <th>Riki</th>\n",
       "      <th>Razor</th>\n",
       "      <th>Morphling</th>\n",
       "      <th>Brewmaster</th>\n",
       "      <th>Slardar</th>\n",
       "      <th>Wisp</th>\n",
       "      <th>Omniknight</th>\n",
       "      <th>Slark</th>\n",
       "      <th>Ogre Magi</th>\n",
       "      <th>Chaos Knight</th>\n",
       "      <th>...</th>\n",
       "      <th>Carry</th>\n",
       "      <th>Support</th>\n",
       "      <th>Offlane</th>\n",
       "      <th>Mid</th>\n",
       "      <th>Roamer</th>\n",
       "      <th>Nukers</th>\n",
       "      <th>Disablers</th>\n",
       "      <th>High_Win</th>\n",
       "      <th>Low_Win</th>\n",
       "      <th>Won</th>\n",
       "    </tr>\n",
       "  </thead>\n",
       "  <tbody>\n",
       "    <tr>\n",
       "      <td>0</td>\n",
       "      <td>5.253443</td>\n",
       "      <td>-0.155243</td>\n",
       "      <td>-0.186940</td>\n",
       "      <td>-0.181034</td>\n",
       "      <td>-0.187513</td>\n",
       "      <td>-0.21094</td>\n",
       "      <td>-0.183669</td>\n",
       "      <td>-0.245093</td>\n",
       "      <td>-0.197112</td>\n",
       "      <td>-0.211026</td>\n",
       "      <td>...</td>\n",
       "      <td>0.414513</td>\n",
       "      <td>-0.570063</td>\n",
       "      <td>1.007526</td>\n",
       "      <td>1.261730</td>\n",
       "      <td>0.157217</td>\n",
       "      <td>0.533190</td>\n",
       "      <td>0.532469</td>\n",
       "      <td>0.474901</td>\n",
       "      <td>-0.814275</td>\n",
       "      <td>1</td>\n",
       "    </tr>\n",
       "    <tr>\n",
       "      <td>1</td>\n",
       "      <td>5.253443</td>\n",
       "      <td>-0.155243</td>\n",
       "      <td>-0.186940</td>\n",
       "      <td>-0.181034</td>\n",
       "      <td>-0.187513</td>\n",
       "      <td>-0.21094</td>\n",
       "      <td>-0.183669</td>\n",
       "      <td>-0.245093</td>\n",
       "      <td>-0.197112</td>\n",
       "      <td>-0.211026</td>\n",
       "      <td>...</td>\n",
       "      <td>0.414513</td>\n",
       "      <td>-0.570063</td>\n",
       "      <td>1.007526</td>\n",
       "      <td>0.266544</td>\n",
       "      <td>0.157217</td>\n",
       "      <td>-0.490404</td>\n",
       "      <td>-0.498516</td>\n",
       "      <td>0.474901</td>\n",
       "      <td>0.667752</td>\n",
       "      <td>1</td>\n",
       "    </tr>\n",
       "    <tr>\n",
       "      <td>2</td>\n",
       "      <td>-0.190351</td>\n",
       "      <td>6.441500</td>\n",
       "      <td>-0.186940</td>\n",
       "      <td>-0.181034</td>\n",
       "      <td>-0.187513</td>\n",
       "      <td>-0.21094</td>\n",
       "      <td>-0.183669</td>\n",
       "      <td>-0.245093</td>\n",
       "      <td>-0.197112</td>\n",
       "      <td>-0.211026</td>\n",
       "      <td>...</td>\n",
       "      <td>1.498774</td>\n",
       "      <td>0.549757</td>\n",
       "      <td>-1.304373</td>\n",
       "      <td>0.266544</td>\n",
       "      <td>-1.058379</td>\n",
       "      <td>0.533190</td>\n",
       "      <td>-0.498516</td>\n",
       "      <td>1.805530</td>\n",
       "      <td>-0.814275</td>\n",
       "      <td>1</td>\n",
       "    </tr>\n",
       "    <tr>\n",
       "      <td>3</td>\n",
       "      <td>-0.190351</td>\n",
       "      <td>6.441500</td>\n",
       "      <td>5.349299</td>\n",
       "      <td>-0.181034</td>\n",
       "      <td>-0.187513</td>\n",
       "      <td>-0.21094</td>\n",
       "      <td>5.444586</td>\n",
       "      <td>-0.245093</td>\n",
       "      <td>-0.197112</td>\n",
       "      <td>-0.211026</td>\n",
       "      <td>...</td>\n",
       "      <td>-0.669748</td>\n",
       "      <td>0.549757</td>\n",
       "      <td>-1.304373</td>\n",
       "      <td>-0.728642</td>\n",
       "      <td>0.157217</td>\n",
       "      <td>1.556785</td>\n",
       "      <td>-0.498516</td>\n",
       "      <td>-0.855727</td>\n",
       "      <td>0.667752</td>\n",
       "      <td>1</td>\n",
       "    </tr>\n",
       "    <tr>\n",
       "      <td>4</td>\n",
       "      <td>5.253443</td>\n",
       "      <td>-0.155243</td>\n",
       "      <td>-0.186940</td>\n",
       "      <td>5.523822</td>\n",
       "      <td>-0.187513</td>\n",
       "      <td>-0.21094</td>\n",
       "      <td>-0.183669</td>\n",
       "      <td>-0.245093</td>\n",
       "      <td>5.073260</td>\n",
       "      <td>-0.211026</td>\n",
       "      <td>...</td>\n",
       "      <td>1.498774</td>\n",
       "      <td>1.669576</td>\n",
       "      <td>-0.148424</td>\n",
       "      <td>-0.728642</td>\n",
       "      <td>0.157217</td>\n",
       "      <td>0.533190</td>\n",
       "      <td>1.563455</td>\n",
       "      <td>-0.855727</td>\n",
       "      <td>-0.814275</td>\n",
       "      <td>1</td>\n",
       "    </tr>\n",
       "    <tr>\n",
       "      <td>...</td>\n",
       "      <td>...</td>\n",
       "      <td>...</td>\n",
       "      <td>...</td>\n",
       "      <td>...</td>\n",
       "      <td>...</td>\n",
       "      <td>...</td>\n",
       "      <td>...</td>\n",
       "      <td>...</td>\n",
       "      <td>...</td>\n",
       "      <td>...</td>\n",
       "      <td>...</td>\n",
       "      <td>...</td>\n",
       "      <td>...</td>\n",
       "      <td>...</td>\n",
       "      <td>...</td>\n",
       "      <td>...</td>\n",
       "      <td>...</td>\n",
       "      <td>...</td>\n",
       "      <td>...</td>\n",
       "      <td>...</td>\n",
       "      <td>...</td>\n",
       "    </tr>\n",
       "    <tr>\n",
       "      <td>29995</td>\n",
       "      <td>-0.190351</td>\n",
       "      <td>-0.155243</td>\n",
       "      <td>5.349299</td>\n",
       "      <td>-0.181034</td>\n",
       "      <td>-0.187513</td>\n",
       "      <td>-0.21094</td>\n",
       "      <td>-0.183669</td>\n",
       "      <td>-0.245093</td>\n",
       "      <td>-0.197112</td>\n",
       "      <td>-0.211026</td>\n",
       "      <td>...</td>\n",
       "      <td>-0.669748</td>\n",
       "      <td>-0.570063</td>\n",
       "      <td>-0.148424</td>\n",
       "      <td>-0.728642</td>\n",
       "      <td>1.372813</td>\n",
       "      <td>0.533190</td>\n",
       "      <td>0.532469</td>\n",
       "      <td>-0.855727</td>\n",
       "      <td>0.667752</td>\n",
       "      <td>0</td>\n",
       "    </tr>\n",
       "    <tr>\n",
       "      <td>29996</td>\n",
       "      <td>-0.190351</td>\n",
       "      <td>-0.155243</td>\n",
       "      <td>-0.186940</td>\n",
       "      <td>-0.181034</td>\n",
       "      <td>-0.187513</td>\n",
       "      <td>-0.21094</td>\n",
       "      <td>-0.183669</td>\n",
       "      <td>-0.245093</td>\n",
       "      <td>-0.197112</td>\n",
       "      <td>-0.211026</td>\n",
       "      <td>...</td>\n",
       "      <td>0.414513</td>\n",
       "      <td>0.549757</td>\n",
       "      <td>-0.148424</td>\n",
       "      <td>0.266544</td>\n",
       "      <td>2.588409</td>\n",
       "      <td>0.533190</td>\n",
       "      <td>0.532469</td>\n",
       "      <td>-0.855727</td>\n",
       "      <td>0.667752</td>\n",
       "      <td>0</td>\n",
       "    </tr>\n",
       "    <tr>\n",
       "      <td>29997</td>\n",
       "      <td>-0.190351</td>\n",
       "      <td>-0.155243</td>\n",
       "      <td>-0.186940</td>\n",
       "      <td>-0.181034</td>\n",
       "      <td>-0.187513</td>\n",
       "      <td>-0.21094</td>\n",
       "      <td>-0.183669</td>\n",
       "      <td>-0.245093</td>\n",
       "      <td>-0.197112</td>\n",
       "      <td>-0.211026</td>\n",
       "      <td>...</td>\n",
       "      <td>-1.754009</td>\n",
       "      <td>1.669576</td>\n",
       "      <td>-1.304373</td>\n",
       "      <td>0.266544</td>\n",
       "      <td>-1.058379</td>\n",
       "      <td>0.533190</td>\n",
       "      <td>0.532469</td>\n",
       "      <td>0.474901</td>\n",
       "      <td>-0.814275</td>\n",
       "      <td>0</td>\n",
       "    </tr>\n",
       "    <tr>\n",
       "      <td>29998</td>\n",
       "      <td>-0.190351</td>\n",
       "      <td>-0.155243</td>\n",
       "      <td>-0.186940</td>\n",
       "      <td>-0.181034</td>\n",
       "      <td>-0.187513</td>\n",
       "      <td>-0.21094</td>\n",
       "      <td>-0.183669</td>\n",
       "      <td>-0.245093</td>\n",
       "      <td>-0.197112</td>\n",
       "      <td>-0.211026</td>\n",
       "      <td>...</td>\n",
       "      <td>-0.669748</td>\n",
       "      <td>-0.570063</td>\n",
       "      <td>1.007526</td>\n",
       "      <td>-0.728642</td>\n",
       "      <td>0.157217</td>\n",
       "      <td>1.556785</td>\n",
       "      <td>0.532469</td>\n",
       "      <td>0.474901</td>\n",
       "      <td>-0.814275</td>\n",
       "      <td>0</td>\n",
       "    </tr>\n",
       "    <tr>\n",
       "      <td>29999</td>\n",
       "      <td>-0.190351</td>\n",
       "      <td>-0.155243</td>\n",
       "      <td>-0.186940</td>\n",
       "      <td>-0.181034</td>\n",
       "      <td>-0.187513</td>\n",
       "      <td>-0.21094</td>\n",
       "      <td>-0.183669</td>\n",
       "      <td>-0.245093</td>\n",
       "      <td>-0.197112</td>\n",
       "      <td>-0.211026</td>\n",
       "      <td>...</td>\n",
       "      <td>0.414513</td>\n",
       "      <td>-0.570063</td>\n",
       "      <td>-1.304373</td>\n",
       "      <td>0.266544</td>\n",
       "      <td>0.157217</td>\n",
       "      <td>-1.513999</td>\n",
       "      <td>-1.529501</td>\n",
       "      <td>0.474901</td>\n",
       "      <td>-0.814275</td>\n",
       "      <td>0</td>\n",
       "    </tr>\n",
       "  </tbody>\n",
       "</table>\n",
       "<p>30000 rows × 111 columns</p>\n",
       "</div>"
      ],
      "text/plain": [
       "           Riki     Razor  Morphling  Brewmaster   Slardar     Wisp  \\\n",
       "0      5.253443 -0.155243  -0.186940   -0.181034 -0.187513 -0.21094   \n",
       "1      5.253443 -0.155243  -0.186940   -0.181034 -0.187513 -0.21094   \n",
       "2     -0.190351  6.441500  -0.186940   -0.181034 -0.187513 -0.21094   \n",
       "3     -0.190351  6.441500   5.349299   -0.181034 -0.187513 -0.21094   \n",
       "4      5.253443 -0.155243  -0.186940    5.523822 -0.187513 -0.21094   \n",
       "...         ...       ...        ...         ...       ...      ...   \n",
       "29995 -0.190351 -0.155243   5.349299   -0.181034 -0.187513 -0.21094   \n",
       "29996 -0.190351 -0.155243  -0.186940   -0.181034 -0.187513 -0.21094   \n",
       "29997 -0.190351 -0.155243  -0.186940   -0.181034 -0.187513 -0.21094   \n",
       "29998 -0.190351 -0.155243  -0.186940   -0.181034 -0.187513 -0.21094   \n",
       "29999 -0.190351 -0.155243  -0.186940   -0.181034 -0.187513 -0.21094   \n",
       "\n",
       "       Omniknight     Slark  Ogre Magi  Chaos Knight  ...     Carry   Support  \\\n",
       "0       -0.183669 -0.245093  -0.197112     -0.211026  ...  0.414513 -0.570063   \n",
       "1       -0.183669 -0.245093  -0.197112     -0.211026  ...  0.414513 -0.570063   \n",
       "2       -0.183669 -0.245093  -0.197112     -0.211026  ...  1.498774  0.549757   \n",
       "3        5.444586 -0.245093  -0.197112     -0.211026  ... -0.669748  0.549757   \n",
       "4       -0.183669 -0.245093   5.073260     -0.211026  ...  1.498774  1.669576   \n",
       "...           ...       ...        ...           ...  ...       ...       ...   \n",
       "29995   -0.183669 -0.245093  -0.197112     -0.211026  ... -0.669748 -0.570063   \n",
       "29996   -0.183669 -0.245093  -0.197112     -0.211026  ...  0.414513  0.549757   \n",
       "29997   -0.183669 -0.245093  -0.197112     -0.211026  ... -1.754009  1.669576   \n",
       "29998   -0.183669 -0.245093  -0.197112     -0.211026  ... -0.669748 -0.570063   \n",
       "29999   -0.183669 -0.245093  -0.197112     -0.211026  ...  0.414513 -0.570063   \n",
       "\n",
       "        Offlane       Mid    Roamer    Nukers  Disablers  High_Win   Low_Win  \\\n",
       "0      1.007526  1.261730  0.157217  0.533190   0.532469  0.474901 -0.814275   \n",
       "1      1.007526  0.266544  0.157217 -0.490404  -0.498516  0.474901  0.667752   \n",
       "2     -1.304373  0.266544 -1.058379  0.533190  -0.498516  1.805530 -0.814275   \n",
       "3     -1.304373 -0.728642  0.157217  1.556785  -0.498516 -0.855727  0.667752   \n",
       "4     -0.148424 -0.728642  0.157217  0.533190   1.563455 -0.855727 -0.814275   \n",
       "...         ...       ...       ...       ...        ...       ...       ...   \n",
       "29995 -0.148424 -0.728642  1.372813  0.533190   0.532469 -0.855727  0.667752   \n",
       "29996 -0.148424  0.266544  2.588409  0.533190   0.532469 -0.855727  0.667752   \n",
       "29997 -1.304373  0.266544 -1.058379  0.533190   0.532469  0.474901 -0.814275   \n",
       "29998  1.007526 -0.728642  0.157217  1.556785   0.532469  0.474901 -0.814275   \n",
       "29999 -1.304373  0.266544  0.157217 -1.513999  -1.529501  0.474901 -0.814275   \n",
       "\n",
       "       Won  \n",
       "0        1  \n",
       "1        1  \n",
       "2        1  \n",
       "3        1  \n",
       "4        1  \n",
       "...    ...  \n",
       "29995    0  \n",
       "29996    0  \n",
       "29997    0  \n",
       "29998    0  \n",
       "29999    0  \n",
       "\n",
       "[30000 rows x 111 columns]"
      ]
     },
     "execution_count": 26,
     "metadata": {},
     "output_type": "execute_result"
    }
   ],
   "source": [
    "# concatanate all the features together\n",
    "cleaned_df = pd.concat([dummies_df, melee_df, str_df, agi_df, int_df, \n",
    "                         carry_df, support_df, offlane_df, mid_df, roam_df, nukers_df ,\n",
    "                         disablers_df, high_rate_df, low_rate_df], axis=1)\n",
    "                         \n",
    "                         \n",
    "\n",
    "# scaling features\n",
    "cols = cleaned_df.columns\n",
    "scaler = StandardScaler()\n",
    "scaler.fit(cleaned_df)\n",
    "scaled_features = scaler.transform(cleaned_df)\n",
    "\n",
    "# combine the labels with the scaled features\n",
    "scaled_features_df = pd.DataFrame(scaled_features, columns=cols, index=cleaned_df.index)\n",
    "scaled_features_df = pd.concat([scaled_features_df, labels.Won], axis=1)\n",
    "\n",
    "# save as new csv to for modeling purpose\n",
    "scaled_csv = scaled_features_df.to_csv('dota2_scaled.csv', index=None, header=True)\n",
    "scaled_features_df()"
   ]
  },
  {
   "cell_type": "code",
   "execution_count": 29,
   "metadata": {},
   "outputs": [
    {
     "data": {
      "image/png": "[encoded data removed]",
      "text/plain": [
       "<Figure size 360x360 with 1 Axes>"
      ]
     },
     "metadata": {
      "needs_background": "light"
     },
     "output_type": "display_data"
    },
    {
     "data": {
      "image/png": "[encoded data removed]",
      "text/plain": [
       "<Figure size 360x360 with 1 Axes>"
      ]
     },
     "metadata": {
      "needs_background": "light"
     },
     "output_type": "display_data"
    },
    {
     "data": {
      "image/png": "[encoded data removed]",
      "text/plain": [
       "<Figure size 360x360 with 1 Axes>"
      ]
     },
     "metadata": {
      "needs_background": "light"
     },
     "output_type": "display_data"
    },
    {
     "data": {
      "image/png": "[encoded data removed]",
      "text/plain": [
       "<Figure size 360x360 with 1 Axes>"
      ]
     },
     "metadata": {
      "needs_background": "light"
     },
     "output_type": "display_data"
    },
    {
     "data": {
      "image/png": "[encoded data removed]",
      "text/plain": [
       "<Figure size 360x360 with 1 Axes>"
      ]
     },
     "metadata": {
      "needs_background": "light"
     },
     "output_type": "display_data"
    },
    {
     "data": {
      "image/png": "[encoded data removed]",
      "text/plain": [
       "<Figure size 360x360 with 1 Axes>"
      ]
     },
     "metadata": {
      "needs_background": "light"
     },
     "output_type": "display_data"
    },
    {
     "data": {
      "image/png": "[encoded data removed]",
      "text/plain": [
       "<Figure size 360x360 with 1 Axes>"
      ]
     },
     "metadata": {
      "needs_background": "light"
     },
     "output_type": "display_data"
    },
    {
     "data": {
      "image/png": "[encoded data removed]",
      "text/plain": [
       "<Figure size 360x360 with 1 Axes>"
      ]
     },
     "metadata": {
      "needs_background": "light"
     },
     "output_type": "display_data"
    },
    {
     "data": {
      "image/png": "[encoded data removed]",
      "text/plain": [
       "<Figure size 360x360 with 1 Axes>"
      ]
     },
     "metadata": {
      "needs_background": "light"
     },
     "output_type": "display_data"
    },
    {
     "data": {
      "image/png": "[encoded data removed]",
      "text/plain": [
       "<Figure size 360x360 with 1 Axes>"
      ]
     },
     "metadata": {
      "needs_background": "light"
     },
     "output_type": "display_data"
    },
    {
     "data": {
      "image/png": "[encoded data removed]",
      "text/plain": [
       "<Figure size 360x360 with 1 Axes>"
      ]
     },
     "metadata": {
      "needs_background": "light"
     },
     "output_type": "display_data"
    }
   ],
   "source": [
    "# check winning team compositions\n",
    "winning_lineups = cleaned_df.loc[scaled_features_df.Won == 1]\n",
    "attributes = ['Strength', 'Agility', 'Intelligence', 'Support', 'Ranged', \n",
    "              'Mid', 'Carry', 'Roamer', 'Nukers', 'Offlane', 'Disablers']\n",
    "\n",
    "hlf.team_composition(winning_lineups, attributes)    "
   ]
  },
  {
   "cell_type": "markdown",
   "metadata": {},
   "source": [
    "# Removed features"
   ]
  },
  {
   "cell_type": "code",
   "execution_count": null,
   "metadata": {},
   "outputs": [],
   "source": [
    "# # tier lists\n",
    "# tier1 = np.array(['Alchemist', 'Enchan', 'Lifestealer', 'Visage',\n",
    "#                  'Wisp', 'Outerworld Devourer', 'Weaver',\n",
    "#                  \"Nature's Prophet\", 'Rubick'])\n",
    "\n",
    "# tier2 = np.array(['Nyx Assassin', 'Gyrocopter', \n",
    "#                   'Alchemist', 'Puck', 'Chen'])\n",
    "\n",
    "# tier3 = np.array(['Shadow Demon', 'Lone Druid', 'Clockwerk', 'Queen of Pain',\n",
    "#                   'Dragon Knight', 'Treant Protector', 'Keeper of the Light'\n",
    "#                   'Bane', 'Jakiro', 'Anti-Mage', 'Timbersaw', 'Storm Spirit',\n",
    "#                   'Razor', 'Enchantress', 'Bounty Hunter', 'Templar Assassin',\n",
    "#                   'Abaddon', 'Crystal Maiden', 'Windrunner', 'Magnus', \n",
    "#                   'Shadow Fiend', 'Leshrac'])\n",
    "\n",
    "# # create a new feature: how many characters are tier 1,2 or 3\n",
    "# op_tiers12_df = features_df.where(~features_df.isin(tier1) & ~features_df.isin(tier2), None)\n",
    "# op_tiers12_df = pd.DataFrame(op_tiers12_df.isnull().sum(axis=1), columns=['Tiers_12'])\n",
    "# # op_tiers12_df.head()\n",
    "\n",
    "# op_tiers3_df = features_df.where(~features_df.isin(tier3), None)\n",
    "# op_tiers3_df = pd.DataFrame(op_tiers3_df.isnull().sum(axis=1), columns=['Tier_3'])\n",
    "# # op_tiers3_df.head()"
   ]
  },
  {
   "cell_type": "code",
   "execution_count": null,
   "metadata": {},
   "outputs": [],
   "source": [
    "# # 2018 most used characters - patch 7.19\n",
    "# picked_719 = np.array(['Mirana', 'Earthshaker', 'Tiny', 'Necrophos', 'Weaver',\n",
    "#                         'Winter Wyvern', 'Phoenix', 'Lina', 'Bane', 'Phantom Lancer'])\n",
    "\n",
    "# # create new feature: heroes with the most wins during patch 7.19\n",
    "# picked_719_df = features_df.where(~features_df.isin(picked_719), None)\n",
    "# picked_719_df = pd.DataFrame(picked_719_df.isnull().sum(axis=1), columns=['Most_Picked_719'])\n",
    "# # picked_719_df.head()"
   ]
  },
  {
   "cell_type": "code",
   "execution_count": null,
   "metadata": {},
   "outputs": [],
   "source": [
    "# # 2018 most used characters - patch 7.20\n",
    "# picked_720 = np.array(['Rubick', 'Lich', 'Phantom Assassin', 'Brewmaster', 'Centaur Warrunner',\n",
    "#                         'Dazzle', 'Sand King', 'Tusk', 'Terrorblade'])\n",
    "\n",
    "# # create new feature: heroes with the most wins during patch 7.20\n",
    "# picked_720_df = features_df.where(~features_df.isin(picked_720), None)\n",
    "# picked_720_df = pd.DataFrame(picked_720_df.isnull().sum(axis=1), columns=['Most_Picked_720'])\n",
    "# # picked_720_df.head()"
   ]
  }
 ],
 "metadata": {
  "kernelspec": {
   "display_name": "Python 3",
   "language": "python",
   "name": "python3"
  },
  "language_info": {
   "codemirror_mode": {
    "name": "ipython",
    "version": 3
   },
   "file_extension": ".py",
   "mimetype": "text/x-python",
   "name": "python",
   "nbconvert_exporter": "python",
   "pygments_lexer": "ipython3",
   "version": "3.7.4"
  }
 },
 "nbformat": 4,
 "nbformat_minor": 2
}
